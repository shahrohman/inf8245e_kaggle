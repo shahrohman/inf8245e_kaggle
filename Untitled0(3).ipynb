{
  "nbformat": 4,
  "nbformat_minor": 0,
  "metadata": {
    "colab": {
      "provenance": []
    },
    "kernelspec": {
      "name": "python3",
      "display_name": "Python 3"
    },
    "language_info": {
      "name": "python"
    },
    "accelerator": "GPU",
    "gpuClass": "standard"
  },
  "cells": [
    {
      "cell_type": "code",
      "execution_count": 192,
      "metadata": {
        "id": "tFhm3rzMrQO1"
      },
      "outputs": [],
      "source": [
        "# Import packages\n",
        "import pandas as pd\n",
        "import numpy as np\n",
        "import matplotlib.pyplot as plt\n",
        "\n",
        "\n",
        "# Load data\n",
        "train_data = pd.read_csv('./data/train.csv')\n",
        "valid_data = pd.read_csv('./data/test.csv')"
      ]
    },
    {
      "cell_type": "code",
      "source": [
        "! pip install https://github.com/pandas-profiling/pandas-profiling/archive/master.zip"
      ],
      "metadata": {
        "colab": {
          "base_uri": "https://localhost:8080/"
        },
        "id": "L6ojNLf6h2rN",
        "outputId": "fabd5f02-de6e-4a46-fee1-6cdf7d62f8af"
      },
      "execution_count": 193,
      "outputs": [
        {
          "output_type": "stream",
          "name": "stdout",
          "text": [
            "Looking in indexes: https://pypi.org/simple, https://us-python.pkg.dev/colab-wheels/public/simple/\n",
            "Collecting https://github.com/pandas-profiling/pandas-profiling/archive/master.zip\n",
            "  Using cached https://github.com/pandas-profiling/pandas-profiling/archive/master.zip\n",
            "Requirement already satisfied: scipy<1.10,>=1.4.1 in /usr/local/lib/python3.7/dist-packages (from pandas-profiling===dev) (1.7.3)\n",
            "Requirement already satisfied: pandas!=1.4.0,<1.6,>1.1 in /usr/local/lib/python3.7/dist-packages (from pandas-profiling===dev) (1.3.5)\n",
            "Requirement already satisfied: matplotlib<3.7,>=3.2 in /usr/local/lib/python3.7/dist-packages (from pandas-profiling===dev) (3.2.2)\n",
            "Requirement already satisfied: pydantic<1.11,>=1.8.1 in /usr/local/lib/python3.7/dist-packages (from pandas-profiling===dev) (1.10.2)\n",
            "Requirement already satisfied: PyYAML<6.1,>=5.0.0 in /usr/local/lib/python3.7/dist-packages (from pandas-profiling===dev) (6.0)\n",
            "Requirement already satisfied: jinja2<3.2,>=2.11.1 in /usr/local/lib/python3.7/dist-packages (from pandas-profiling===dev) (2.11.3)\n",
            "Requirement already satisfied: visions[type_image_path]==0.7.5 in /usr/local/lib/python3.7/dist-packages (from pandas-profiling===dev) (0.7.5)\n",
            "Requirement already satisfied: numpy<1.24,>=1.16.0 in /usr/local/lib/python3.7/dist-packages (from pandas-profiling===dev) (1.21.6)\n",
            "Requirement already satisfied: htmlmin==0.1.12 in /usr/local/lib/python3.7/dist-packages (from pandas-profiling===dev) (0.1.12)\n",
            "Requirement already satisfied: phik<0.13,>=0.11.1 in /usr/local/lib/python3.7/dist-packages (from pandas-profiling===dev) (0.12.2)\n",
            "Requirement already satisfied: requests<2.29,>=2.24.0 in /usr/local/lib/python3.7/dist-packages (from pandas-profiling===dev) (2.28.1)\n",
            "Requirement already satisfied: tqdm<4.65,>=4.48.2 in /usr/local/lib/python3.7/dist-packages (from pandas-profiling===dev) (4.64.1)\n",
            "Requirement already satisfied: seaborn<0.13,>=0.10.1 in /usr/local/lib/python3.7/dist-packages (from pandas-profiling===dev) (0.11.2)\n",
            "Requirement already satisfied: multimethod<1.10,>=1.4 in /usr/local/lib/python3.7/dist-packages (from pandas-profiling===dev) (1.9)\n",
            "Requirement already satisfied: statsmodels<0.14,>=0.13.2 in /usr/local/lib/python3.7/dist-packages (from pandas-profiling===dev) (0.13.5)\n",
            "Requirement already satisfied: typeguard<2.14,>=2.13.2 in /usr/local/lib/python3.7/dist-packages (from pandas-profiling===dev) (2.13.3)\n",
            "Requirement already satisfied: tangled-up-in-unicode>=0.0.4 in /usr/local/lib/python3.7/dist-packages (from visions[type_image_path]==0.7.5->pandas-profiling===dev) (0.2.0)\n",
            "Requirement already satisfied: networkx>=2.4 in /usr/local/lib/python3.7/dist-packages (from visions[type_image_path]==0.7.5->pandas-profiling===dev) (2.6.3)\n",
            "Requirement already satisfied: attrs>=19.3.0 in /usr/local/lib/python3.7/dist-packages (from visions[type_image_path]==0.7.5->pandas-profiling===dev) (22.1.0)\n",
            "Requirement already satisfied: imagehash in /usr/local/lib/python3.7/dist-packages (from visions[type_image_path]==0.7.5->pandas-profiling===dev) (4.3.1)\n",
            "Requirement already satisfied: Pillow in /usr/local/lib/python3.7/dist-packages (from visions[type_image_path]==0.7.5->pandas-profiling===dev) (7.1.2)\n",
            "Requirement already satisfied: MarkupSafe>=0.23 in /usr/local/lib/python3.7/dist-packages (from jinja2<3.2,>=2.11.1->pandas-profiling===dev) (2.0.1)\n",
            "Requirement already satisfied: pyparsing!=2.0.4,!=2.1.2,!=2.1.6,>=2.0.1 in /usr/local/lib/python3.7/dist-packages (from matplotlib<3.7,>=3.2->pandas-profiling===dev) (3.0.9)\n",
            "Requirement already satisfied: python-dateutil>=2.1 in /usr/local/lib/python3.7/dist-packages (from matplotlib<3.7,>=3.2->pandas-profiling===dev) (2.8.2)\n",
            "Requirement already satisfied: cycler>=0.10 in /usr/local/lib/python3.7/dist-packages (from matplotlib<3.7,>=3.2->pandas-profiling===dev) (0.11.0)\n",
            "Requirement already satisfied: kiwisolver>=1.0.1 in /usr/local/lib/python3.7/dist-packages (from matplotlib<3.7,>=3.2->pandas-profiling===dev) (1.4.4)\n",
            "Requirement already satisfied: typing-extensions in /usr/local/lib/python3.7/dist-packages (from kiwisolver>=1.0.1->matplotlib<3.7,>=3.2->pandas-profiling===dev) (4.1.1)\n",
            "Requirement already satisfied: pytz>=2017.3 in /usr/local/lib/python3.7/dist-packages (from pandas!=1.4.0,<1.6,>1.1->pandas-profiling===dev) (2022.6)\n",
            "Requirement already satisfied: joblib>=0.14.1 in /usr/local/lib/python3.7/dist-packages (from phik<0.13,>=0.11.1->pandas-profiling===dev) (1.2.0)\n",
            "Requirement already satisfied: six>=1.5 in /usr/local/lib/python3.7/dist-packages (from python-dateutil>=2.1->matplotlib<3.7,>=3.2->pandas-profiling===dev) (1.15.0)\n",
            "Requirement already satisfied: idna<4,>=2.5 in /usr/local/lib/python3.7/dist-packages (from requests<2.29,>=2.24.0->pandas-profiling===dev) (2.10)\n",
            "Requirement already satisfied: urllib3<1.27,>=1.21.1 in /usr/local/lib/python3.7/dist-packages (from requests<2.29,>=2.24.0->pandas-profiling===dev) (1.24.3)\n",
            "Requirement already satisfied: charset-normalizer<3,>=2 in /usr/local/lib/python3.7/dist-packages (from requests<2.29,>=2.24.0->pandas-profiling===dev) (2.1.1)\n",
            "Requirement already satisfied: certifi>=2017.4.17 in /usr/local/lib/python3.7/dist-packages (from requests<2.29,>=2.24.0->pandas-profiling===dev) (2022.9.24)\n",
            "Requirement already satisfied: packaging>=21.3 in /usr/local/lib/python3.7/dist-packages (from statsmodels<0.14,>=0.13.2->pandas-profiling===dev) (21.3)\n",
            "Requirement already satisfied: patsy>=0.5.2 in /usr/local/lib/python3.7/dist-packages (from statsmodels<0.14,>=0.13.2->pandas-profiling===dev) (0.5.3)\n",
            "Requirement already satisfied: PyWavelets in /usr/local/lib/python3.7/dist-packages (from imagehash->visions[type_image_path]==0.7.5->pandas-profiling===dev) (1.3.0)\n"
          ]
        }
      ]
    },
    {
      "cell_type": "code",
      "source": [
        "from pandas_profiling import ProfileReport\n",
        "\n",
        "Profile = ProfileReport(train_data, title='Concert Enjoyment')"
      ],
      "metadata": {
        "id": "9aw-QeZphXRD"
      },
      "execution_count": 194,
      "outputs": []
    },
    {
      "cell_type": "code",
      "source": [
        "#Profile.to_notebook_iframe()"
      ],
      "metadata": {
        "id": "ggdciYkWiMPn"
      },
      "execution_count": 195,
      "outputs": []
    },
    {
      "cell_type": "code",
      "source": [
        "train_data"
      ],
      "metadata": {
        "colab": {
          "base_uri": "https://localhost:8080/",
          "height": 1000
        },
        "id": "2CITsTpMiSme",
        "outputId": "71ce67b8-a885-4077-9a25-cd02de942f05"
      },
      "execution_count": 196,
      "outputs": [
        {
          "output_type": "execute_result",
          "data": {
            "text/plain": [
              "                              Id                      Band Name  \\\n",
              "0       ConcertExperience_180106    Teenage Crazy Blue Knickers   \n",
              "1       ConcertExperience_146268                   Beyond Devon   \n",
              "2       ConcertExperience_128743                     Ron Talent   \n",
              "3       ConcertExperience_140839                  Devon Revival   \n",
              "4        ConcertExperience_19149                   Beyond Devon   \n",
              "...                          ...                            ...   \n",
              "169995   ConcertExperience_14055            Crazy Joystick Cult   \n",
              "169996  ConcertExperience_192792            Crazy Joystick Cult   \n",
              "169997  ConcertExperience_152942                Why Frogs, Why?   \n",
              "169998  ConcertExperience_138957  Twilight of the Joystick Gods   \n",
              "169999  ConcertExperience_132336                Joystick Attack   \n",
              "\n",
              "            Band Genre          Band Country of Origin  Band Debut  \\\n",
              "0       Indie/Alt Rock  United States of America (USA)      1976.0   \n",
              "1            Pop Music  United States of America (USA)      1968.0   \n",
              "2          Rock n Roll                          Canada      1955.0   \n",
              "3                  RnB  United States of America (USA)      1992.0   \n",
              "4            Pop Music  United States of America (USA)      1968.0   \n",
              "...                ...                             ...         ...   \n",
              "169995             RnB                          Canada      1985.0   \n",
              "169996             RnB                          Canada      1985.0   \n",
              "169997     Heavy Metal                          Canada      2005.0   \n",
              "169998     Hip Hop/Rap  United States of America (USA)      1995.0   \n",
              "169999     Heavy Metal             United Kingdom (UK)      2008.0   \n",
              "\n",
              "        Concert ID  Concert Attendance Inside Venue   Rain Seated  \\\n",
              "0            900.0              2980.0        False  False    NaN   \n",
              "1            731.0                54.0         True  False   True   \n",
              "2              NaN            162754.0        False  False   True   \n",
              "3            704.0              8103.0        False   True  False   \n",
              "4             95.0                54.0        False  False  False   \n",
              "...            ...                 ...          ...    ...    ...   \n",
              "169995        70.0            162754.0         True  False  False   \n",
              "169996       963.0                54.0        False  False  False   \n",
              "169997       764.0                54.0        False  False  False   \n",
              "169998       694.0             22026.0        False   True   True   \n",
              "169999       661.0              2980.0         True  False  False   \n",
              "\n",
              "        Personnality Trait 1  Personnality Trait 2  Personnality Trait 3  \\\n",
              "0                   0.330843             -0.958408             -0.943548   \n",
              "1                  -2.069449              0.017777             -1.910675   \n",
              "2                  -0.484268              1.968772             -0.064167   \n",
              "3                  -0.858054              1.022827             -0.348389   \n",
              "4                  -0.793029             -1.166528             -0.043766   \n",
              "...                      ...                   ...                   ...   \n",
              "169995             -0.095021              0.175175              0.914245   \n",
              "169996             -0.733719             -0.285776             -0.323312   \n",
              "169997              0.744969             -0.965547              1.020598   \n",
              "169998              0.821976              0.351411              0.175762   \n",
              "169999             -1.017410              0.883248             -0.184107   \n",
              "\n",
              "        Personnality Trait 4  Concert Goer Age    Concert Goer ID  \\\n",
              "0                  -1.636806              29.0  concert_goer_1985   \n",
              "1                   0.610265              43.0  concert_goer_1874   \n",
              "2                  -1.260871              68.0   concert_goer_442   \n",
              "3                  -1.147251              17.0  concert_goer_1149   \n",
              "4                   0.969661              59.0   concert_goer_930   \n",
              "...                      ...               ...                ...   \n",
              "169995              0.357359              50.0   concert_goer_707   \n",
              "169996              0.641180              71.0  concert_goer_1373   \n",
              "169997              1.027389              27.0  concert_goer_1286   \n",
              "169998              1.455654              39.0  concert_goer_1845   \n",
              "169999              0.631731              46.0  concert_goer_1281   \n",
              "\n",
              "        Height (cm)  Concert Goer Country of Origin   Concert Enjoyment  \n",
              "0             140.0                        Paraguay       Did Not Enjoy  \n",
              "1             158.0             United Kingdom (UK)             Enjoyed  \n",
              "2             159.0  United States of America (USA)       Did Not Enjoy  \n",
              "3             150.0                          Canada  Worst Concert Ever  \n",
              "4             166.0             United Kingdom (UK)       Did Not Enjoy  \n",
              "...             ...                             ...                 ...  \n",
              "169995        180.0  United States of America (USA)       Did Not Enjoy  \n",
              "169996        143.0                        Bulgaria  Worst Concert Ever  \n",
              "169997        176.0                          Canada       Did Not Enjoy  \n",
              "169998        176.0                          Canada       Did Not Enjoy  \n",
              "169999        146.0                          Canada   Best Concert Ever  \n",
              "\n",
              "[170000 rows x 19 columns]"
            ],
            "text/html": [
              "\n",
              "  <div id=\"df-fa9f304f-4c01-408b-aa37-dfef5d7529eb\">\n",
              "    <div class=\"colab-df-container\">\n",
              "      <div>\n",
              "<style scoped>\n",
              "    .dataframe tbody tr th:only-of-type {\n",
              "        vertical-align: middle;\n",
              "    }\n",
              "\n",
              "    .dataframe tbody tr th {\n",
              "        vertical-align: top;\n",
              "    }\n",
              "\n",
              "    .dataframe thead th {\n",
              "        text-align: right;\n",
              "    }\n",
              "</style>\n",
              "<table border=\"1\" class=\"dataframe\">\n",
              "  <thead>\n",
              "    <tr style=\"text-align: right;\">\n",
              "      <th></th>\n",
              "      <th>Id</th>\n",
              "      <th>Band Name</th>\n",
              "      <th>Band Genre</th>\n",
              "      <th>Band Country of Origin</th>\n",
              "      <th>Band Debut</th>\n",
              "      <th>Concert ID</th>\n",
              "      <th>Concert Attendance</th>\n",
              "      <th>Inside Venue</th>\n",
              "      <th>Rain</th>\n",
              "      <th>Seated</th>\n",
              "      <th>Personnality Trait 1</th>\n",
              "      <th>Personnality Trait 2</th>\n",
              "      <th>Personnality Trait 3</th>\n",
              "      <th>Personnality Trait 4</th>\n",
              "      <th>Concert Goer Age</th>\n",
              "      <th>Concert Goer ID</th>\n",
              "      <th>Height (cm)</th>\n",
              "      <th>Concert Goer Country of Origin</th>\n",
              "      <th>Concert Enjoyment</th>\n",
              "    </tr>\n",
              "  </thead>\n",
              "  <tbody>\n",
              "    <tr>\n",
              "      <th>0</th>\n",
              "      <td>ConcertExperience_180106</td>\n",
              "      <td>Teenage Crazy Blue Knickers</td>\n",
              "      <td>Indie/Alt Rock</td>\n",
              "      <td>United States of America (USA)</td>\n",
              "      <td>1976.0</td>\n",
              "      <td>900.0</td>\n",
              "      <td>2980.0</td>\n",
              "      <td>False</td>\n",
              "      <td>False</td>\n",
              "      <td>NaN</td>\n",
              "      <td>0.330843</td>\n",
              "      <td>-0.958408</td>\n",
              "      <td>-0.943548</td>\n",
              "      <td>-1.636806</td>\n",
              "      <td>29.0</td>\n",
              "      <td>concert_goer_1985</td>\n",
              "      <td>140.0</td>\n",
              "      <td>Paraguay</td>\n",
              "      <td>Did Not Enjoy</td>\n",
              "    </tr>\n",
              "    <tr>\n",
              "      <th>1</th>\n",
              "      <td>ConcertExperience_146268</td>\n",
              "      <td>Beyond Devon</td>\n",
              "      <td>Pop Music</td>\n",
              "      <td>United States of America (USA)</td>\n",
              "      <td>1968.0</td>\n",
              "      <td>731.0</td>\n",
              "      <td>54.0</td>\n",
              "      <td>True</td>\n",
              "      <td>False</td>\n",
              "      <td>True</td>\n",
              "      <td>-2.069449</td>\n",
              "      <td>0.017777</td>\n",
              "      <td>-1.910675</td>\n",
              "      <td>0.610265</td>\n",
              "      <td>43.0</td>\n",
              "      <td>concert_goer_1874</td>\n",
              "      <td>158.0</td>\n",
              "      <td>United Kingdom (UK)</td>\n",
              "      <td>Enjoyed</td>\n",
              "    </tr>\n",
              "    <tr>\n",
              "      <th>2</th>\n",
              "      <td>ConcertExperience_128743</td>\n",
              "      <td>Ron Talent</td>\n",
              "      <td>Rock n Roll</td>\n",
              "      <td>Canada</td>\n",
              "      <td>1955.0</td>\n",
              "      <td>NaN</td>\n",
              "      <td>162754.0</td>\n",
              "      <td>False</td>\n",
              "      <td>False</td>\n",
              "      <td>True</td>\n",
              "      <td>-0.484268</td>\n",
              "      <td>1.968772</td>\n",
              "      <td>-0.064167</td>\n",
              "      <td>-1.260871</td>\n",
              "      <td>68.0</td>\n",
              "      <td>concert_goer_442</td>\n",
              "      <td>159.0</td>\n",
              "      <td>United States of America (USA)</td>\n",
              "      <td>Did Not Enjoy</td>\n",
              "    </tr>\n",
              "    <tr>\n",
              "      <th>3</th>\n",
              "      <td>ConcertExperience_140839</td>\n",
              "      <td>Devon Revival</td>\n",
              "      <td>RnB</td>\n",
              "      <td>United States of America (USA)</td>\n",
              "      <td>1992.0</td>\n",
              "      <td>704.0</td>\n",
              "      <td>8103.0</td>\n",
              "      <td>False</td>\n",
              "      <td>True</td>\n",
              "      <td>False</td>\n",
              "      <td>-0.858054</td>\n",
              "      <td>1.022827</td>\n",
              "      <td>-0.348389</td>\n",
              "      <td>-1.147251</td>\n",
              "      <td>17.0</td>\n",
              "      <td>concert_goer_1149</td>\n",
              "      <td>150.0</td>\n",
              "      <td>Canada</td>\n",
              "      <td>Worst Concert Ever</td>\n",
              "    </tr>\n",
              "    <tr>\n",
              "      <th>4</th>\n",
              "      <td>ConcertExperience_19149</td>\n",
              "      <td>Beyond Devon</td>\n",
              "      <td>Pop Music</td>\n",
              "      <td>United States of America (USA)</td>\n",
              "      <td>1968.0</td>\n",
              "      <td>95.0</td>\n",
              "      <td>54.0</td>\n",
              "      <td>False</td>\n",
              "      <td>False</td>\n",
              "      <td>False</td>\n",
              "      <td>-0.793029</td>\n",
              "      <td>-1.166528</td>\n",
              "      <td>-0.043766</td>\n",
              "      <td>0.969661</td>\n",
              "      <td>59.0</td>\n",
              "      <td>concert_goer_930</td>\n",
              "      <td>166.0</td>\n",
              "      <td>United Kingdom (UK)</td>\n",
              "      <td>Did Not Enjoy</td>\n",
              "    </tr>\n",
              "    <tr>\n",
              "      <th>...</th>\n",
              "      <td>...</td>\n",
              "      <td>...</td>\n",
              "      <td>...</td>\n",
              "      <td>...</td>\n",
              "      <td>...</td>\n",
              "      <td>...</td>\n",
              "      <td>...</td>\n",
              "      <td>...</td>\n",
              "      <td>...</td>\n",
              "      <td>...</td>\n",
              "      <td>...</td>\n",
              "      <td>...</td>\n",
              "      <td>...</td>\n",
              "      <td>...</td>\n",
              "      <td>...</td>\n",
              "      <td>...</td>\n",
              "      <td>...</td>\n",
              "      <td>...</td>\n",
              "      <td>...</td>\n",
              "    </tr>\n",
              "    <tr>\n",
              "      <th>169995</th>\n",
              "      <td>ConcertExperience_14055</td>\n",
              "      <td>Crazy Joystick Cult</td>\n",
              "      <td>RnB</td>\n",
              "      <td>Canada</td>\n",
              "      <td>1985.0</td>\n",
              "      <td>70.0</td>\n",
              "      <td>162754.0</td>\n",
              "      <td>True</td>\n",
              "      <td>False</td>\n",
              "      <td>False</td>\n",
              "      <td>-0.095021</td>\n",
              "      <td>0.175175</td>\n",
              "      <td>0.914245</td>\n",
              "      <td>0.357359</td>\n",
              "      <td>50.0</td>\n",
              "      <td>concert_goer_707</td>\n",
              "      <td>180.0</td>\n",
              "      <td>United States of America (USA)</td>\n",
              "      <td>Did Not Enjoy</td>\n",
              "    </tr>\n",
              "    <tr>\n",
              "      <th>169996</th>\n",
              "      <td>ConcertExperience_192792</td>\n",
              "      <td>Crazy Joystick Cult</td>\n",
              "      <td>RnB</td>\n",
              "      <td>Canada</td>\n",
              "      <td>1985.0</td>\n",
              "      <td>963.0</td>\n",
              "      <td>54.0</td>\n",
              "      <td>False</td>\n",
              "      <td>False</td>\n",
              "      <td>False</td>\n",
              "      <td>-0.733719</td>\n",
              "      <td>-0.285776</td>\n",
              "      <td>-0.323312</td>\n",
              "      <td>0.641180</td>\n",
              "      <td>71.0</td>\n",
              "      <td>concert_goer_1373</td>\n",
              "      <td>143.0</td>\n",
              "      <td>Bulgaria</td>\n",
              "      <td>Worst Concert Ever</td>\n",
              "    </tr>\n",
              "    <tr>\n",
              "      <th>169997</th>\n",
              "      <td>ConcertExperience_152942</td>\n",
              "      <td>Why Frogs, Why?</td>\n",
              "      <td>Heavy Metal</td>\n",
              "      <td>Canada</td>\n",
              "      <td>2005.0</td>\n",
              "      <td>764.0</td>\n",
              "      <td>54.0</td>\n",
              "      <td>False</td>\n",
              "      <td>False</td>\n",
              "      <td>False</td>\n",
              "      <td>0.744969</td>\n",
              "      <td>-0.965547</td>\n",
              "      <td>1.020598</td>\n",
              "      <td>1.027389</td>\n",
              "      <td>27.0</td>\n",
              "      <td>concert_goer_1286</td>\n",
              "      <td>176.0</td>\n",
              "      <td>Canada</td>\n",
              "      <td>Did Not Enjoy</td>\n",
              "    </tr>\n",
              "    <tr>\n",
              "      <th>169998</th>\n",
              "      <td>ConcertExperience_138957</td>\n",
              "      <td>Twilight of the Joystick Gods</td>\n",
              "      <td>Hip Hop/Rap</td>\n",
              "      <td>United States of America (USA)</td>\n",
              "      <td>1995.0</td>\n",
              "      <td>694.0</td>\n",
              "      <td>22026.0</td>\n",
              "      <td>False</td>\n",
              "      <td>True</td>\n",
              "      <td>True</td>\n",
              "      <td>0.821976</td>\n",
              "      <td>0.351411</td>\n",
              "      <td>0.175762</td>\n",
              "      <td>1.455654</td>\n",
              "      <td>39.0</td>\n",
              "      <td>concert_goer_1845</td>\n",
              "      <td>176.0</td>\n",
              "      <td>Canada</td>\n",
              "      <td>Did Not Enjoy</td>\n",
              "    </tr>\n",
              "    <tr>\n",
              "      <th>169999</th>\n",
              "      <td>ConcertExperience_132336</td>\n",
              "      <td>Joystick Attack</td>\n",
              "      <td>Heavy Metal</td>\n",
              "      <td>United Kingdom (UK)</td>\n",
              "      <td>2008.0</td>\n",
              "      <td>661.0</td>\n",
              "      <td>2980.0</td>\n",
              "      <td>True</td>\n",
              "      <td>False</td>\n",
              "      <td>False</td>\n",
              "      <td>-1.017410</td>\n",
              "      <td>0.883248</td>\n",
              "      <td>-0.184107</td>\n",
              "      <td>0.631731</td>\n",
              "      <td>46.0</td>\n",
              "      <td>concert_goer_1281</td>\n",
              "      <td>146.0</td>\n",
              "      <td>Canada</td>\n",
              "      <td>Best Concert Ever</td>\n",
              "    </tr>\n",
              "  </tbody>\n",
              "</table>\n",
              "<p>170000 rows × 19 columns</p>\n",
              "</div>\n",
              "      <button class=\"colab-df-convert\" onclick=\"convertToInteractive('df-fa9f304f-4c01-408b-aa37-dfef5d7529eb')\"\n",
              "              title=\"Convert this dataframe to an interactive table.\"\n",
              "              style=\"display:none;\">\n",
              "        \n",
              "  <svg xmlns=\"http://www.w3.org/2000/svg\" height=\"24px\"viewBox=\"0 0 24 24\"\n",
              "       width=\"24px\">\n",
              "    <path d=\"M0 0h24v24H0V0z\" fill=\"none\"/>\n",
              "    <path d=\"M18.56 5.44l.94 2.06.94-2.06 2.06-.94-2.06-.94-.94-2.06-.94 2.06-2.06.94zm-11 1L8.5 8.5l.94-2.06 2.06-.94-2.06-.94L8.5 2.5l-.94 2.06-2.06.94zm10 10l.94 2.06.94-2.06 2.06-.94-2.06-.94-.94-2.06-.94 2.06-2.06.94z\"/><path d=\"M17.41 7.96l-1.37-1.37c-.4-.4-.92-.59-1.43-.59-.52 0-1.04.2-1.43.59L10.3 9.45l-7.72 7.72c-.78.78-.78 2.05 0 2.83L4 21.41c.39.39.9.59 1.41.59.51 0 1.02-.2 1.41-.59l7.78-7.78 2.81-2.81c.8-.78.8-2.07 0-2.86zM5.41 20L4 18.59l7.72-7.72 1.47 1.35L5.41 20z\"/>\n",
              "  </svg>\n",
              "      </button>\n",
              "      \n",
              "  <style>\n",
              "    .colab-df-container {\n",
              "      display:flex;\n",
              "      flex-wrap:wrap;\n",
              "      gap: 12px;\n",
              "    }\n",
              "\n",
              "    .colab-df-convert {\n",
              "      background-color: #E8F0FE;\n",
              "      border: none;\n",
              "      border-radius: 50%;\n",
              "      cursor: pointer;\n",
              "      display: none;\n",
              "      fill: #1967D2;\n",
              "      height: 32px;\n",
              "      padding: 0 0 0 0;\n",
              "      width: 32px;\n",
              "    }\n",
              "\n",
              "    .colab-df-convert:hover {\n",
              "      background-color: #E2EBFA;\n",
              "      box-shadow: 0px 1px 2px rgba(60, 64, 67, 0.3), 0px 1px 3px 1px rgba(60, 64, 67, 0.15);\n",
              "      fill: #174EA6;\n",
              "    }\n",
              "\n",
              "    [theme=dark] .colab-df-convert {\n",
              "      background-color: #3B4455;\n",
              "      fill: #D2E3FC;\n",
              "    }\n",
              "\n",
              "    [theme=dark] .colab-df-convert:hover {\n",
              "      background-color: #434B5C;\n",
              "      box-shadow: 0px 1px 3px 1px rgba(0, 0, 0, 0.15);\n",
              "      filter: drop-shadow(0px 1px 2px rgba(0, 0, 0, 0.3));\n",
              "      fill: #FFFFFF;\n",
              "    }\n",
              "  </style>\n",
              "\n",
              "      <script>\n",
              "        const buttonEl =\n",
              "          document.querySelector('#df-fa9f304f-4c01-408b-aa37-dfef5d7529eb button.colab-df-convert');\n",
              "        buttonEl.style.display =\n",
              "          google.colab.kernel.accessAllowed ? 'block' : 'none';\n",
              "\n",
              "        async function convertToInteractive(key) {\n",
              "          const element = document.querySelector('#df-fa9f304f-4c01-408b-aa37-dfef5d7529eb');\n",
              "          const dataTable =\n",
              "            await google.colab.kernel.invokeFunction('convertToInteractive',\n",
              "                                                     [key], {});\n",
              "          if (!dataTable) return;\n",
              "\n",
              "          const docLinkHtml = 'Like what you see? Visit the ' +\n",
              "            '<a target=\"_blank\" href=https://colab.research.google.com/notebooks/data_table.ipynb>data table notebook</a>'\n",
              "            + ' to learn more about interactive tables.';\n",
              "          element.innerHTML = '';\n",
              "          dataTable['output_type'] = 'display_data';\n",
              "          await google.colab.output.renderOutput(dataTable, element);\n",
              "          const docLink = document.createElement('div');\n",
              "          docLink.innerHTML = docLinkHtml;\n",
              "          element.appendChild(docLink);\n",
              "        }\n",
              "      </script>\n",
              "    </div>\n",
              "  </div>\n",
              "  "
            ]
          },
          "metadata": {},
          "execution_count": 196
        }
      ]
    },
    {
      "cell_type": "code",
      "source": [
        "train_data['Band Name'].value_counts()"
      ],
      "metadata": {
        "colab": {
          "base_uri": "https://localhost:8080/"
        },
        "id": "kQLmxPmpiZ40",
        "outputId": "2d7f0f37-9af1-46f4-8c8b-f9a23976d66b"
      },
      "execution_count": 197,
      "outputs": [
        {
          "output_type": "execute_result",
          "data": {
            "text/plain": [
              "Ron's Midnight Jockies                        5080\n",
              "Crazy Crazy                                   4929\n",
              "Twilight of the Joystick Gods                 4402\n",
              "Running Twins                                 4219\n",
              "Rubbish Devon Frogs                           4083\n",
              "Ron Nor                                       4083\n",
              "Puddle of Joystick                            4046\n",
              "The Crazy R Experience                        3891\n",
              "Crazy Dream and a Pinch of Joystick           3874\n",
              "Devon Revival                                 3835\n",
              "The Crazy Heroes of Devon                     3738\n",
              "Crazy Tooth                                   3694\n",
              "Undercover Joystick and the Crazy Knickers    3689\n",
              "The Running Crazy Jockies                     3591\n",
              "Frogsica                                      3560\n",
              "Joystick Army                                 3558\n",
              "Super Crazy Frogs                             3557\n",
              "My Heart, Your Thighs                         3550\n",
              "Joystick A Dozen                              3537\n",
              "Allo Knickers                                 3536\n",
              "Disciples Of Devon                            3535\n",
              "Joystick of the Big Knickers                  3534\n",
              "Crazyplay                                     3373\n",
              "Flight of the Knickers                        3230\n",
              "Knickers for the Jockies                      3192\n",
              "Devon Thunder Thighs                          3192\n",
              "This Joystick                                 3189\n",
              "Das Joystick                                  3065\n",
              "Big Autumn                                    3061\n",
              "The Big Service                               3055\n",
              "The Running Knickers                          3054\n",
              "King Blue                                     3031\n",
              "Joystick for the Jockies                      3025\n",
              "Why Frogs, Why?                               3023\n",
              "Taking Back Autumn                            2893\n",
              "Big Division                                  2875\n",
              "Teenage Crazy Blue Knickers                   2865\n",
              "Lord of the Crazy Frogs                       2752\n",
              "It's My Joystick                              2728\n",
              "A Dozen Running Iced Frogs                    2716\n",
              "Purely Blue                                   2700\n",
              "Ron Talent                                    2665\n",
              "Big Joystick                                  2549\n",
              "Crazy Joystick Cult                           2512\n",
              "Beyond Devon                                  2371\n",
              "Crazy Frogs of Devon                          2356\n",
              "Running in Devon                              2354\n",
              "Running at the Disco                          2203\n",
              "Ronatron                                      2028\n",
              "Knickers A Dozen                              2014\n",
              "Running for the Crazy Woman                   1996\n",
              "Big Frogs Dream                               1841\n",
              "Joystick Attack                               1530\n",
              "Insert Band Name                               182\n",
              "Name: Band Name, dtype: int64"
            ]
          },
          "metadata": {},
          "execution_count": 197
        }
      ]
    },
    {
      "cell_type": "code",
      "source": [
        "train_data = train_data.replace({'Insert Band Name':np.nan, 'Insert Band Genre':np.nan, 'Insert Band Country of Origin':np.nan})"
      ],
      "metadata": {
        "id": "-V3lZgdZkuoT"
      },
      "execution_count": 198,
      "outputs": []
    },
    {
      "cell_type": "code",
      "source": [
        "train_data['Band Genre'].isnull().sum()"
      ],
      "metadata": {
        "colab": {
          "base_uri": "https://localhost:8080/"
        },
        "id": "x3c56Or6lYtE",
        "outputId": "0724c1a5-8b13-409d-e2f7-98184a2e1a80"
      },
      "execution_count": 199,
      "outputs": [
        {
          "output_type": "execute_result",
          "data": {
            "text/plain": [
              "965"
            ]
          },
          "metadata": {},
          "execution_count": 199
        }
      ]
    },
    {
      "cell_type": "code",
      "source": [
        "train_data['Band Name'].isnull().sum()"
      ],
      "metadata": {
        "colab": {
          "base_uri": "https://localhost:8080/"
        },
        "id": "DIonLeUpnCnY",
        "outputId": "6dae308e-2056-4ea2-86d5-ad6d246d9344"
      },
      "execution_count": 200,
      "outputs": [
        {
          "output_type": "execute_result",
          "data": {
            "text/plain": [
              "1041"
            ]
          },
          "metadata": {},
          "execution_count": 200
        }
      ]
    },
    {
      "cell_type": "code",
      "source": [
        "train_data['Band Name'].value_counts().count()"
      ],
      "metadata": {
        "colab": {
          "base_uri": "https://localhost:8080/"
        },
        "id": "ofRBNojxibiu",
        "outputId": "a4e14d5a-2a93-4ab0-9b4d-ab5099b5e246"
      },
      "execution_count": 201,
      "outputs": [
        {
          "output_type": "execute_result",
          "data": {
            "text/plain": [
              "53"
            ]
          },
          "metadata": {},
          "execution_count": 201
        }
      ]
    },
    {
      "cell_type": "code",
      "source": [
        "train_data['Band Debut'].value_counts().count()"
      ],
      "metadata": {
        "colab": {
          "base_uri": "https://localhost:8080/"
        },
        "id": "kR_hpb_tGYQl",
        "outputId": "0a276570-26ed-464e-d4ab-766f5629743e"
      },
      "execution_count": 202,
      "outputs": [
        {
          "output_type": "execute_result",
          "data": {
            "text/plain": [
              "34"
            ]
          },
          "metadata": {},
          "execution_count": 202
        }
      ]
    },
    {
      "cell_type": "code",
      "source": [
        "train_data['Band Genre'].value_counts().count()"
      ],
      "metadata": {
        "colab": {
          "base_uri": "https://localhost:8080/"
        },
        "id": "fyUKEAbPlFg6",
        "outputId": "ef6c9bd9-bcff-41a6-b632-90eb319ec3fc"
      },
      "execution_count": 203,
      "outputs": [
        {
          "output_type": "execute_result",
          "data": {
            "text/plain": [
              "7"
            ]
          },
          "metadata": {},
          "execution_count": 203
        }
      ]
    },
    {
      "cell_type": "code",
      "source": [
        "train_data['Band Country of Origin'].value_counts().count"
      ],
      "metadata": {
        "colab": {
          "base_uri": "https://localhost:8080/"
        },
        "id": "0HMQ2w8AlRKO",
        "outputId": "48f6477a-bfd5-4485-a2eb-168ffbcd2904"
      },
      "execution_count": 204,
      "outputs": [
        {
          "output_type": "execute_result",
          "data": {
            "text/plain": [
              "<bound method Series.count of United States of America (USA)    115423\n",
              "Canada                             42979\n",
              "United Kingdom (UK)                10628\n",
              "Name: Band Country of Origin, dtype: int64>"
            ]
          },
          "metadata": {},
          "execution_count": 204
        }
      ]
    },
    {
      "cell_type": "code",
      "source": [
        "train_data['Band Name'].fillna(train_data.groupby(['Band Genre', 'Band Country of Origin', 'Band Debut'])['Band Name'].transform(lambda x: x.value_counts()).index[0], inplace=True)"
      ],
      "metadata": {
        "id": "lQv_ONyxWnHn"
      },
      "execution_count": 205,
      "outputs": []
    },
    {
      "cell_type": "code",
      "source": [
        "train_data['Band Genre'].fillna(train_data.groupby(['Band Name'])['Band Genre'].transform(lambda x: x.value_counts().index[0]), inplace=True)\n",
        "train_data['Band Country of Origin'].fillna(train_data.groupby(['Band Name'])['Band Country of Origin'].transform(lambda x: x.value_counts().index[0]), inplace=True)\n",
        "train_data['Band Debut'].fillna(train_data.groupby(['Band Name'])['Band Debut'].transform(lambda x: x.value_counts().index[0]), inplace=True)\n",
        "\n",
        "train_data['Band Genre'].fillna(train_data.groupby(['Band Country of Origin', 'Band Debut'])['Band Genre'].transform(lambda x: x.value_counts().index[0]), inplace=True)\n",
        "train_data['Band Country of Origin'].fillna(train_data.groupby(['Band Genre', 'Band Debut'])['Band Country of Origin'].transform(lambda x: x.value_counts().index[0]), inplace=True)\n",
        "train_data['Band Debut'].fillna(train_data.groupby(['Band Genre', 'Band Country of Origin'])['Band Debut'].transform(lambda x: x.value_counts().index[0]), inplace=True)\n"
      ],
      "metadata": {
        "id": "UbC2P7W951s1"
      },
      "execution_count": 206,
      "outputs": []
    },
    {
      "cell_type": "code",
      "source": [
        "train_data['Band Genre'].isnull().sum()"
      ],
      "metadata": {
        "colab": {
          "base_uri": "https://localhost:8080/"
        },
        "id": "VZFatvSKm7yT",
        "outputId": "5d803be6-f0f0-405c-9230-f09e835a521a"
      },
      "execution_count": 207,
      "outputs": [
        {
          "output_type": "execute_result",
          "data": {
            "text/plain": [
              "0"
            ]
          },
          "metadata": {},
          "execution_count": 207
        }
      ]
    },
    {
      "cell_type": "code",
      "source": [
        "train_data['Band Country of Origin'].isnull().sum() "
      ],
      "metadata": {
        "colab": {
          "base_uri": "https://localhost:8080/"
        },
        "id": "5sEDh1_5EgiZ",
        "outputId": "dd9979de-5e44-42d1-dfb9-58367771dc1b"
      },
      "execution_count": 208,
      "outputs": [
        {
          "output_type": "execute_result",
          "data": {
            "text/plain": [
              "0"
            ]
          },
          "metadata": {},
          "execution_count": 208
        }
      ]
    },
    {
      "cell_type": "code",
      "source": [
        "train_data['Band Debut'].isnull().sum()"
      ],
      "metadata": {
        "colab": {
          "base_uri": "https://localhost:8080/"
        },
        "id": "oebZL_XCEplP",
        "outputId": "e9f347c7-dd86-474f-b39a-406191458c1a"
      },
      "execution_count": 209,
      "outputs": [
        {
          "output_type": "execute_result",
          "data": {
            "text/plain": [
              "0"
            ]
          },
          "metadata": {},
          "execution_count": 209
        }
      ]
    },
    {
      "cell_type": "code",
      "source": [
        "train_data['Band Name'].isnull().sum()"
      ],
      "metadata": {
        "colab": {
          "base_uri": "https://localhost:8080/"
        },
        "id": "fFjHF7hbF25x",
        "outputId": "90cf640e-8e5a-4ea8-e1ce-acdf7fd9bd4e"
      },
      "execution_count": 210,
      "outputs": [
        {
          "output_type": "execute_result",
          "data": {
            "text/plain": [
              "0"
            ]
          },
          "metadata": {},
          "execution_count": 210
        }
      ]
    },
    {
      "cell_type": "code",
      "source": [
        "train_data.iloc[13609]"
      ],
      "metadata": {
        "colab": {
          "base_uri": "https://localhost:8080/"
        },
        "id": "xA1HVJ3ELhU8",
        "outputId": "d6155989-1afe-48bc-f89e-4b26aefa80e3"
      },
      "execution_count": 211,
      "outputs": [
        {
          "output_type": "execute_result",
          "data": {
            "text/plain": [
              "Id                                      ConcertExperience_147956\n",
              "Band Name                                          Devon Revival\n",
              "Band Genre                                             Pop Music\n",
              "Band Country of Origin            United States of America (USA)\n",
              "Band Debut                                                1992.0\n",
              "Concert ID                                                 739.0\n",
              "Concert Attendance                                          54.0\n",
              "Inside Venue                                                True\n",
              "Rain                                                       False\n",
              "Seated                                                     False\n",
              "Personnality Trait 1                                    0.629358\n",
              "Personnality Trait 2                                    0.304194\n",
              "Personnality Trait 3                                   -1.100475\n",
              "Personnality Trait 4                                   -0.187542\n",
              "Concert Goer Age                                            17.0\n",
              "Concert Goer ID                                 concert_goer_118\n",
              "Height (cm)                                                162.0\n",
              "Concert Goer Country of Origin                            Canada\n",
              "Concert Enjoyment                                  Did Not Enjoy\n",
              "Name: 13609, dtype: object"
            ]
          },
          "metadata": {},
          "execution_count": 211
        }
      ]
    },
    {
      "cell_type": "code",
      "source": [
        "train_data['Band Genre'] = train_data.groupby(['Band Name'])['Band Genre'].transform(lambda x: x.value_counts().index[0])\n",
        "train_data['Band Country of Origin'] = train_data.groupby(['Band Name'])['Band Country of Origin'].transform(lambda x: x.value_counts().index[0])\n",
        "train_data['Band Debut'] = train_data.groupby(['Band Name'])['Band Debut'].transform(lambda x: x.value_counts().index[0])"
      ],
      "metadata": {
        "id": "eoJu-zyVRSei"
      },
      "execution_count": 212,
      "outputs": []
    },
    {
      "cell_type": "code",
      "source": [
        "train_data.iloc[13609]"
      ],
      "metadata": {
        "colab": {
          "base_uri": "https://localhost:8080/"
        },
        "id": "YSVw3x2cRkcQ",
        "outputId": "4892ff5f-7318-4466-cb06-e65e12a08684"
      },
      "execution_count": 213,
      "outputs": [
        {
          "output_type": "execute_result",
          "data": {
            "text/plain": [
              "Id                                      ConcertExperience_147956\n",
              "Band Name                                          Devon Revival\n",
              "Band Genre                                                   RnB\n",
              "Band Country of Origin            United States of America (USA)\n",
              "Band Debut                                                1992.0\n",
              "Concert ID                                                 739.0\n",
              "Concert Attendance                                          54.0\n",
              "Inside Venue                                                True\n",
              "Rain                                                       False\n",
              "Seated                                                     False\n",
              "Personnality Trait 1                                    0.629358\n",
              "Personnality Trait 2                                    0.304194\n",
              "Personnality Trait 3                                   -1.100475\n",
              "Personnality Trait 4                                   -0.187542\n",
              "Concert Goer Age                                            17.0\n",
              "Concert Goer ID                                 concert_goer_118\n",
              "Height (cm)                                                162.0\n",
              "Concert Goer Country of Origin                            Canada\n",
              "Concert Enjoyment                                  Did Not Enjoy\n",
              "Name: 13609, dtype: object"
            ]
          },
          "metadata": {},
          "execution_count": 213
        }
      ]
    },
    {
      "cell_type": "markdown",
      "source": [
        "# Wrong values in Goers"
      ],
      "metadata": {
        "id": "pA7-qazES7H7"
      }
    },
    {
      "cell_type": "code",
      "source": [
        "train_data"
      ],
      "metadata": {
        "colab": {
          "base_uri": "https://localhost:8080/",
          "height": 1000
        },
        "id": "H0JsKCdIRt0i",
        "outputId": "8706272f-9d2c-4db5-9916-4e1427f0576e"
      },
      "execution_count": 214,
      "outputs": [
        {
          "output_type": "execute_result",
          "data": {
            "text/plain": [
              "                              Id                      Band Name  \\\n",
              "0       ConcertExperience_180106    Teenage Crazy Blue Knickers   \n",
              "1       ConcertExperience_146268                   Beyond Devon   \n",
              "2       ConcertExperience_128743                     Ron Talent   \n",
              "3       ConcertExperience_140839                  Devon Revival   \n",
              "4        ConcertExperience_19149                   Beyond Devon   \n",
              "...                          ...                            ...   \n",
              "169995   ConcertExperience_14055            Crazy Joystick Cult   \n",
              "169996  ConcertExperience_192792            Crazy Joystick Cult   \n",
              "169997  ConcertExperience_152942                Why Frogs, Why?   \n",
              "169998  ConcertExperience_138957  Twilight of the Joystick Gods   \n",
              "169999  ConcertExperience_132336                Joystick Attack   \n",
              "\n",
              "            Band Genre          Band Country of Origin  Band Debut  \\\n",
              "0       Indie/Alt Rock  United States of America (USA)      1976.0   \n",
              "1            Pop Music  United States of America (USA)      1968.0   \n",
              "2          Rock n Roll                          Canada      1955.0   \n",
              "3                  RnB  United States of America (USA)      1992.0   \n",
              "4            Pop Music  United States of America (USA)      1968.0   \n",
              "...                ...                             ...         ...   \n",
              "169995             RnB                          Canada      1985.0   \n",
              "169996             RnB                          Canada      1985.0   \n",
              "169997     Heavy Metal                          Canada      2005.0   \n",
              "169998     Hip Hop/Rap  United States of America (USA)      1995.0   \n",
              "169999     Heavy Metal             United Kingdom (UK)      2008.0   \n",
              "\n",
              "        Concert ID  Concert Attendance Inside Venue   Rain Seated  \\\n",
              "0            900.0              2980.0        False  False    NaN   \n",
              "1            731.0                54.0         True  False   True   \n",
              "2              NaN            162754.0        False  False   True   \n",
              "3            704.0              8103.0        False   True  False   \n",
              "4             95.0                54.0        False  False  False   \n",
              "...            ...                 ...          ...    ...    ...   \n",
              "169995        70.0            162754.0         True  False  False   \n",
              "169996       963.0                54.0        False  False  False   \n",
              "169997       764.0                54.0        False  False  False   \n",
              "169998       694.0             22026.0        False   True   True   \n",
              "169999       661.0              2980.0         True  False  False   \n",
              "\n",
              "        Personnality Trait 1  Personnality Trait 2  Personnality Trait 3  \\\n",
              "0                   0.330843             -0.958408             -0.943548   \n",
              "1                  -2.069449              0.017777             -1.910675   \n",
              "2                  -0.484268              1.968772             -0.064167   \n",
              "3                  -0.858054              1.022827             -0.348389   \n",
              "4                  -0.793029             -1.166528             -0.043766   \n",
              "...                      ...                   ...                   ...   \n",
              "169995             -0.095021              0.175175              0.914245   \n",
              "169996             -0.733719             -0.285776             -0.323312   \n",
              "169997              0.744969             -0.965547              1.020598   \n",
              "169998              0.821976              0.351411              0.175762   \n",
              "169999             -1.017410              0.883248             -0.184107   \n",
              "\n",
              "        Personnality Trait 4  Concert Goer Age    Concert Goer ID  \\\n",
              "0                  -1.636806              29.0  concert_goer_1985   \n",
              "1                   0.610265              43.0  concert_goer_1874   \n",
              "2                  -1.260871              68.0   concert_goer_442   \n",
              "3                  -1.147251              17.0  concert_goer_1149   \n",
              "4                   0.969661              59.0   concert_goer_930   \n",
              "...                      ...               ...                ...   \n",
              "169995              0.357359              50.0   concert_goer_707   \n",
              "169996              0.641180              71.0  concert_goer_1373   \n",
              "169997              1.027389              27.0  concert_goer_1286   \n",
              "169998              1.455654              39.0  concert_goer_1845   \n",
              "169999              0.631731              46.0  concert_goer_1281   \n",
              "\n",
              "        Height (cm)  Concert Goer Country of Origin   Concert Enjoyment  \n",
              "0             140.0                        Paraguay       Did Not Enjoy  \n",
              "1             158.0             United Kingdom (UK)             Enjoyed  \n",
              "2             159.0  United States of America (USA)       Did Not Enjoy  \n",
              "3             150.0                          Canada  Worst Concert Ever  \n",
              "4             166.0             United Kingdom (UK)       Did Not Enjoy  \n",
              "...             ...                             ...                 ...  \n",
              "169995        180.0  United States of America (USA)       Did Not Enjoy  \n",
              "169996        143.0                        Bulgaria  Worst Concert Ever  \n",
              "169997        176.0                          Canada       Did Not Enjoy  \n",
              "169998        176.0                          Canada       Did Not Enjoy  \n",
              "169999        146.0                          Canada   Best Concert Ever  \n",
              "\n",
              "[170000 rows x 19 columns]"
            ],
            "text/html": [
              "\n",
              "  <div id=\"df-44dc506d-3693-44a4-a1a5-dae8885ad825\">\n",
              "    <div class=\"colab-df-container\">\n",
              "      <div>\n",
              "<style scoped>\n",
              "    .dataframe tbody tr th:only-of-type {\n",
              "        vertical-align: middle;\n",
              "    }\n",
              "\n",
              "    .dataframe tbody tr th {\n",
              "        vertical-align: top;\n",
              "    }\n",
              "\n",
              "    .dataframe thead th {\n",
              "        text-align: right;\n",
              "    }\n",
              "</style>\n",
              "<table border=\"1\" class=\"dataframe\">\n",
              "  <thead>\n",
              "    <tr style=\"text-align: right;\">\n",
              "      <th></th>\n",
              "      <th>Id</th>\n",
              "      <th>Band Name</th>\n",
              "      <th>Band Genre</th>\n",
              "      <th>Band Country of Origin</th>\n",
              "      <th>Band Debut</th>\n",
              "      <th>Concert ID</th>\n",
              "      <th>Concert Attendance</th>\n",
              "      <th>Inside Venue</th>\n",
              "      <th>Rain</th>\n",
              "      <th>Seated</th>\n",
              "      <th>Personnality Trait 1</th>\n",
              "      <th>Personnality Trait 2</th>\n",
              "      <th>Personnality Trait 3</th>\n",
              "      <th>Personnality Trait 4</th>\n",
              "      <th>Concert Goer Age</th>\n",
              "      <th>Concert Goer ID</th>\n",
              "      <th>Height (cm)</th>\n",
              "      <th>Concert Goer Country of Origin</th>\n",
              "      <th>Concert Enjoyment</th>\n",
              "    </tr>\n",
              "  </thead>\n",
              "  <tbody>\n",
              "    <tr>\n",
              "      <th>0</th>\n",
              "      <td>ConcertExperience_180106</td>\n",
              "      <td>Teenage Crazy Blue Knickers</td>\n",
              "      <td>Indie/Alt Rock</td>\n",
              "      <td>United States of America (USA)</td>\n",
              "      <td>1976.0</td>\n",
              "      <td>900.0</td>\n",
              "      <td>2980.0</td>\n",
              "      <td>False</td>\n",
              "      <td>False</td>\n",
              "      <td>NaN</td>\n",
              "      <td>0.330843</td>\n",
              "      <td>-0.958408</td>\n",
              "      <td>-0.943548</td>\n",
              "      <td>-1.636806</td>\n",
              "      <td>29.0</td>\n",
              "      <td>concert_goer_1985</td>\n",
              "      <td>140.0</td>\n",
              "      <td>Paraguay</td>\n",
              "      <td>Did Not Enjoy</td>\n",
              "    </tr>\n",
              "    <tr>\n",
              "      <th>1</th>\n",
              "      <td>ConcertExperience_146268</td>\n",
              "      <td>Beyond Devon</td>\n",
              "      <td>Pop Music</td>\n",
              "      <td>United States of America (USA)</td>\n",
              "      <td>1968.0</td>\n",
              "      <td>731.0</td>\n",
              "      <td>54.0</td>\n",
              "      <td>True</td>\n",
              "      <td>False</td>\n",
              "      <td>True</td>\n",
              "      <td>-2.069449</td>\n",
              "      <td>0.017777</td>\n",
              "      <td>-1.910675</td>\n",
              "      <td>0.610265</td>\n",
              "      <td>43.0</td>\n",
              "      <td>concert_goer_1874</td>\n",
              "      <td>158.0</td>\n",
              "      <td>United Kingdom (UK)</td>\n",
              "      <td>Enjoyed</td>\n",
              "    </tr>\n",
              "    <tr>\n",
              "      <th>2</th>\n",
              "      <td>ConcertExperience_128743</td>\n",
              "      <td>Ron Talent</td>\n",
              "      <td>Rock n Roll</td>\n",
              "      <td>Canada</td>\n",
              "      <td>1955.0</td>\n",
              "      <td>NaN</td>\n",
              "      <td>162754.0</td>\n",
              "      <td>False</td>\n",
              "      <td>False</td>\n",
              "      <td>True</td>\n",
              "      <td>-0.484268</td>\n",
              "      <td>1.968772</td>\n",
              "      <td>-0.064167</td>\n",
              "      <td>-1.260871</td>\n",
              "      <td>68.0</td>\n",
              "      <td>concert_goer_442</td>\n",
              "      <td>159.0</td>\n",
              "      <td>United States of America (USA)</td>\n",
              "      <td>Did Not Enjoy</td>\n",
              "    </tr>\n",
              "    <tr>\n",
              "      <th>3</th>\n",
              "      <td>ConcertExperience_140839</td>\n",
              "      <td>Devon Revival</td>\n",
              "      <td>RnB</td>\n",
              "      <td>United States of America (USA)</td>\n",
              "      <td>1992.0</td>\n",
              "      <td>704.0</td>\n",
              "      <td>8103.0</td>\n",
              "      <td>False</td>\n",
              "      <td>True</td>\n",
              "      <td>False</td>\n",
              "      <td>-0.858054</td>\n",
              "      <td>1.022827</td>\n",
              "      <td>-0.348389</td>\n",
              "      <td>-1.147251</td>\n",
              "      <td>17.0</td>\n",
              "      <td>concert_goer_1149</td>\n",
              "      <td>150.0</td>\n",
              "      <td>Canada</td>\n",
              "      <td>Worst Concert Ever</td>\n",
              "    </tr>\n",
              "    <tr>\n",
              "      <th>4</th>\n",
              "      <td>ConcertExperience_19149</td>\n",
              "      <td>Beyond Devon</td>\n",
              "      <td>Pop Music</td>\n",
              "      <td>United States of America (USA)</td>\n",
              "      <td>1968.0</td>\n",
              "      <td>95.0</td>\n",
              "      <td>54.0</td>\n",
              "      <td>False</td>\n",
              "      <td>False</td>\n",
              "      <td>False</td>\n",
              "      <td>-0.793029</td>\n",
              "      <td>-1.166528</td>\n",
              "      <td>-0.043766</td>\n",
              "      <td>0.969661</td>\n",
              "      <td>59.0</td>\n",
              "      <td>concert_goer_930</td>\n",
              "      <td>166.0</td>\n",
              "      <td>United Kingdom (UK)</td>\n",
              "      <td>Did Not Enjoy</td>\n",
              "    </tr>\n",
              "    <tr>\n",
              "      <th>...</th>\n",
              "      <td>...</td>\n",
              "      <td>...</td>\n",
              "      <td>...</td>\n",
              "      <td>...</td>\n",
              "      <td>...</td>\n",
              "      <td>...</td>\n",
              "      <td>...</td>\n",
              "      <td>...</td>\n",
              "      <td>...</td>\n",
              "      <td>...</td>\n",
              "      <td>...</td>\n",
              "      <td>...</td>\n",
              "      <td>...</td>\n",
              "      <td>...</td>\n",
              "      <td>...</td>\n",
              "      <td>...</td>\n",
              "      <td>...</td>\n",
              "      <td>...</td>\n",
              "      <td>...</td>\n",
              "    </tr>\n",
              "    <tr>\n",
              "      <th>169995</th>\n",
              "      <td>ConcertExperience_14055</td>\n",
              "      <td>Crazy Joystick Cult</td>\n",
              "      <td>RnB</td>\n",
              "      <td>Canada</td>\n",
              "      <td>1985.0</td>\n",
              "      <td>70.0</td>\n",
              "      <td>162754.0</td>\n",
              "      <td>True</td>\n",
              "      <td>False</td>\n",
              "      <td>False</td>\n",
              "      <td>-0.095021</td>\n",
              "      <td>0.175175</td>\n",
              "      <td>0.914245</td>\n",
              "      <td>0.357359</td>\n",
              "      <td>50.0</td>\n",
              "      <td>concert_goer_707</td>\n",
              "      <td>180.0</td>\n",
              "      <td>United States of America (USA)</td>\n",
              "      <td>Did Not Enjoy</td>\n",
              "    </tr>\n",
              "    <tr>\n",
              "      <th>169996</th>\n",
              "      <td>ConcertExperience_192792</td>\n",
              "      <td>Crazy Joystick Cult</td>\n",
              "      <td>RnB</td>\n",
              "      <td>Canada</td>\n",
              "      <td>1985.0</td>\n",
              "      <td>963.0</td>\n",
              "      <td>54.0</td>\n",
              "      <td>False</td>\n",
              "      <td>False</td>\n",
              "      <td>False</td>\n",
              "      <td>-0.733719</td>\n",
              "      <td>-0.285776</td>\n",
              "      <td>-0.323312</td>\n",
              "      <td>0.641180</td>\n",
              "      <td>71.0</td>\n",
              "      <td>concert_goer_1373</td>\n",
              "      <td>143.0</td>\n",
              "      <td>Bulgaria</td>\n",
              "      <td>Worst Concert Ever</td>\n",
              "    </tr>\n",
              "    <tr>\n",
              "      <th>169997</th>\n",
              "      <td>ConcertExperience_152942</td>\n",
              "      <td>Why Frogs, Why?</td>\n",
              "      <td>Heavy Metal</td>\n",
              "      <td>Canada</td>\n",
              "      <td>2005.0</td>\n",
              "      <td>764.0</td>\n",
              "      <td>54.0</td>\n",
              "      <td>False</td>\n",
              "      <td>False</td>\n",
              "      <td>False</td>\n",
              "      <td>0.744969</td>\n",
              "      <td>-0.965547</td>\n",
              "      <td>1.020598</td>\n",
              "      <td>1.027389</td>\n",
              "      <td>27.0</td>\n",
              "      <td>concert_goer_1286</td>\n",
              "      <td>176.0</td>\n",
              "      <td>Canada</td>\n",
              "      <td>Did Not Enjoy</td>\n",
              "    </tr>\n",
              "    <tr>\n",
              "      <th>169998</th>\n",
              "      <td>ConcertExperience_138957</td>\n",
              "      <td>Twilight of the Joystick Gods</td>\n",
              "      <td>Hip Hop/Rap</td>\n",
              "      <td>United States of America (USA)</td>\n",
              "      <td>1995.0</td>\n",
              "      <td>694.0</td>\n",
              "      <td>22026.0</td>\n",
              "      <td>False</td>\n",
              "      <td>True</td>\n",
              "      <td>True</td>\n",
              "      <td>0.821976</td>\n",
              "      <td>0.351411</td>\n",
              "      <td>0.175762</td>\n",
              "      <td>1.455654</td>\n",
              "      <td>39.0</td>\n",
              "      <td>concert_goer_1845</td>\n",
              "      <td>176.0</td>\n",
              "      <td>Canada</td>\n",
              "      <td>Did Not Enjoy</td>\n",
              "    </tr>\n",
              "    <tr>\n",
              "      <th>169999</th>\n",
              "      <td>ConcertExperience_132336</td>\n",
              "      <td>Joystick Attack</td>\n",
              "      <td>Heavy Metal</td>\n",
              "      <td>United Kingdom (UK)</td>\n",
              "      <td>2008.0</td>\n",
              "      <td>661.0</td>\n",
              "      <td>2980.0</td>\n",
              "      <td>True</td>\n",
              "      <td>False</td>\n",
              "      <td>False</td>\n",
              "      <td>-1.017410</td>\n",
              "      <td>0.883248</td>\n",
              "      <td>-0.184107</td>\n",
              "      <td>0.631731</td>\n",
              "      <td>46.0</td>\n",
              "      <td>concert_goer_1281</td>\n",
              "      <td>146.0</td>\n",
              "      <td>Canada</td>\n",
              "      <td>Best Concert Ever</td>\n",
              "    </tr>\n",
              "  </tbody>\n",
              "</table>\n",
              "<p>170000 rows × 19 columns</p>\n",
              "</div>\n",
              "      <button class=\"colab-df-convert\" onclick=\"convertToInteractive('df-44dc506d-3693-44a4-a1a5-dae8885ad825')\"\n",
              "              title=\"Convert this dataframe to an interactive table.\"\n",
              "              style=\"display:none;\">\n",
              "        \n",
              "  <svg xmlns=\"http://www.w3.org/2000/svg\" height=\"24px\"viewBox=\"0 0 24 24\"\n",
              "       width=\"24px\">\n",
              "    <path d=\"M0 0h24v24H0V0z\" fill=\"none\"/>\n",
              "    <path d=\"M18.56 5.44l.94 2.06.94-2.06 2.06-.94-2.06-.94-.94-2.06-.94 2.06-2.06.94zm-11 1L8.5 8.5l.94-2.06 2.06-.94-2.06-.94L8.5 2.5l-.94 2.06-2.06.94zm10 10l.94 2.06.94-2.06 2.06-.94-2.06-.94-.94-2.06-.94 2.06-2.06.94z\"/><path d=\"M17.41 7.96l-1.37-1.37c-.4-.4-.92-.59-1.43-.59-.52 0-1.04.2-1.43.59L10.3 9.45l-7.72 7.72c-.78.78-.78 2.05 0 2.83L4 21.41c.39.39.9.59 1.41.59.51 0 1.02-.2 1.41-.59l7.78-7.78 2.81-2.81c.8-.78.8-2.07 0-2.86zM5.41 20L4 18.59l7.72-7.72 1.47 1.35L5.41 20z\"/>\n",
              "  </svg>\n",
              "      </button>\n",
              "      \n",
              "  <style>\n",
              "    .colab-df-container {\n",
              "      display:flex;\n",
              "      flex-wrap:wrap;\n",
              "      gap: 12px;\n",
              "    }\n",
              "\n",
              "    .colab-df-convert {\n",
              "      background-color: #E8F0FE;\n",
              "      border: none;\n",
              "      border-radius: 50%;\n",
              "      cursor: pointer;\n",
              "      display: none;\n",
              "      fill: #1967D2;\n",
              "      height: 32px;\n",
              "      padding: 0 0 0 0;\n",
              "      width: 32px;\n",
              "    }\n",
              "\n",
              "    .colab-df-convert:hover {\n",
              "      background-color: #E2EBFA;\n",
              "      box-shadow: 0px 1px 2px rgba(60, 64, 67, 0.3), 0px 1px 3px 1px rgba(60, 64, 67, 0.15);\n",
              "      fill: #174EA6;\n",
              "    }\n",
              "\n",
              "    [theme=dark] .colab-df-convert {\n",
              "      background-color: #3B4455;\n",
              "      fill: #D2E3FC;\n",
              "    }\n",
              "\n",
              "    [theme=dark] .colab-df-convert:hover {\n",
              "      background-color: #434B5C;\n",
              "      box-shadow: 0px 1px 3px 1px rgba(0, 0, 0, 0.15);\n",
              "      filter: drop-shadow(0px 1px 2px rgba(0, 0, 0, 0.3));\n",
              "      fill: #FFFFFF;\n",
              "    }\n",
              "  </style>\n",
              "\n",
              "      <script>\n",
              "        const buttonEl =\n",
              "          document.querySelector('#df-44dc506d-3693-44a4-a1a5-dae8885ad825 button.colab-df-convert');\n",
              "        buttonEl.style.display =\n",
              "          google.colab.kernel.accessAllowed ? 'block' : 'none';\n",
              "\n",
              "        async function convertToInteractive(key) {\n",
              "          const element = document.querySelector('#df-44dc506d-3693-44a4-a1a5-dae8885ad825');\n",
              "          const dataTable =\n",
              "            await google.colab.kernel.invokeFunction('convertToInteractive',\n",
              "                                                     [key], {});\n",
              "          if (!dataTable) return;\n",
              "\n",
              "          const docLinkHtml = 'Like what you see? Visit the ' +\n",
              "            '<a target=\"_blank\" href=https://colab.research.google.com/notebooks/data_table.ipynb>data table notebook</a>'\n",
              "            + ' to learn more about interactive tables.';\n",
              "          element.innerHTML = '';\n",
              "          dataTable['output_type'] = 'display_data';\n",
              "          await google.colab.output.renderOutput(dataTable, element);\n",
              "          const docLink = document.createElement('div');\n",
              "          docLink.innerHTML = docLinkHtml;\n",
              "          element.appendChild(docLink);\n",
              "        }\n",
              "      </script>\n",
              "    </div>\n",
              "  </div>\n",
              "  "
            ]
          },
          "metadata": {},
          "execution_count": 214
        }
      ]
    },
    {
      "cell_type": "code",
      "source": [
        "train_data['Concert Goer ID'].isnull().sum()"
      ],
      "metadata": {
        "colab": {
          "base_uri": "https://localhost:8080/"
        },
        "id": "6AbFONNiTxeq",
        "outputId": "7dacb024-b7d0-463d-da24-132dd8c4a75e"
      },
      "execution_count": 215,
      "outputs": [
        {
          "output_type": "execute_result",
          "data": {
            "text/plain": [
              "815"
            ]
          },
          "metadata": {},
          "execution_count": 215
        }
      ]
    },
    {
      "cell_type": "code",
      "source": [
        "train_data['Personnality Trait 1'].isnull().sum()"
      ],
      "metadata": {
        "colab": {
          "base_uri": "https://localhost:8080/"
        },
        "id": "J9sFCLjqT3Fu",
        "outputId": "e8c59959-2b83-4152-c5a3-3cbecf4e81da"
      },
      "execution_count": 216,
      "outputs": [
        {
          "output_type": "execute_result",
          "data": {
            "text/plain": [
              "852"
            ]
          },
          "metadata": {},
          "execution_count": 216
        }
      ]
    },
    {
      "cell_type": "code",
      "source": [
        "train_data['Personnality Trait 2'].isnull().sum()"
      ],
      "metadata": {
        "colab": {
          "base_uri": "https://localhost:8080/"
        },
        "id": "UzlQzspLT6as",
        "outputId": "72e38c14-02cb-4c5b-ecb6-da29bf380eca"
      },
      "execution_count": 217,
      "outputs": [
        {
          "output_type": "execute_result",
          "data": {
            "text/plain": [
              "849"
            ]
          },
          "metadata": {},
          "execution_count": 217
        }
      ]
    },
    {
      "cell_type": "code",
      "source": [
        "train_data['Personnality Trait 3'].isnull().sum()"
      ],
      "metadata": {
        "colab": {
          "base_uri": "https://localhost:8080/"
        },
        "id": "3z6HDnGtUBtS",
        "outputId": "635b3007-e8b5-4bf0-f3fa-7818df1b1cb6"
      },
      "execution_count": 218,
      "outputs": [
        {
          "output_type": "execute_result",
          "data": {
            "text/plain": [
              "893"
            ]
          },
          "metadata": {},
          "execution_count": 218
        }
      ]
    },
    {
      "cell_type": "code",
      "source": [
        "train_data['Personnality Trait 4'].isnull().sum()"
      ],
      "metadata": {
        "colab": {
          "base_uri": "https://localhost:8080/"
        },
        "id": "s-I1HcAPV4Zs",
        "outputId": "36d976e3-5a13-4163-8897-2252f2dacc8e"
      },
      "execution_count": 219,
      "outputs": [
        {
          "output_type": "execute_result",
          "data": {
            "text/plain": [
              "865"
            ]
          },
          "metadata": {},
          "execution_count": 219
        }
      ]
    },
    {
      "cell_type": "code",
      "source": [
        "train_data['Concert Goer Age'].isnull().sum()"
      ],
      "metadata": {
        "colab": {
          "base_uri": "https://localhost:8080/"
        },
        "id": "zuHvHTOgV7ew",
        "outputId": "78d5389b-505b-474f-c66e-e65811f61379"
      },
      "execution_count": 220,
      "outputs": [
        {
          "output_type": "execute_result",
          "data": {
            "text/plain": [
              "853"
            ]
          },
          "metadata": {},
          "execution_count": 220
        }
      ]
    },
    {
      "cell_type": "code",
      "source": [
        "train_data['Height (cm)'].isnull().sum()"
      ],
      "metadata": {
        "colab": {
          "base_uri": "https://localhost:8080/"
        },
        "id": "mt9d44b0V-ty",
        "outputId": "d1e2da7f-2780-4e0b-c0d8-7f3c0ca74f6d"
      },
      "execution_count": 221,
      "outputs": [
        {
          "output_type": "execute_result",
          "data": {
            "text/plain": [
              "847"
            ]
          },
          "metadata": {},
          "execution_count": 221
        }
      ]
    },
    {
      "cell_type": "code",
      "source": [
        "train_data['Concert Goer Country of Origin'].isnull().sum()"
      ],
      "metadata": {
        "colab": {
          "base_uri": "https://localhost:8080/"
        },
        "id": "4XRuK4fUWBVG",
        "outputId": "ffb416a1-9861-485e-f653-7067e506844c"
      },
      "execution_count": 222,
      "outputs": [
        {
          "output_type": "execute_result",
          "data": {
            "text/plain": [
              "859"
            ]
          },
          "metadata": {},
          "execution_count": 222
        }
      ]
    },
    {
      "cell_type": "code",
      "source": [
        "train_data['Band Name'].fillna(train_data.groupby(['Band Genre', 'Band Country of Origin', 'Band Debut'])['Band Name'].transform(lambda x: x.value_counts()).index[0], inplace=True)"
      ],
      "metadata": {
        "id": "VH6PhjE7Xc44"
      },
      "execution_count": 223,
      "outputs": []
    },
    {
      "cell_type": "code",
      "source": [
        "train_data['Concert Goer ID'] = train_data['Concert Goer ID'].fillna(train_data.groupby(['Personnality Trait 1', 'Personnality Trait 2', 'Personnality Trait 2', 'Personnality Trait 3', 'Personnality Trait 4', 'Concert Goer Age', 'Height (cm)', 'Concert Goer Country of Origin'])['Concert Goer ID'].transform(lambda x: x.value_counts()).index[0])"
      ],
      "metadata": {
        "id": "KjdLIV53WheL"
      },
      "execution_count": 224,
      "outputs": []
    },
    {
      "cell_type": "code",
      "source": [
        "train_data['Personnality Trait 1'] = train_data['Personnality Trait 1'].fillna(train_data.groupby(['Concert Goer ID'])['Personnality Trait 1'].transform(lambda x: x.value_counts().index[0]))\n",
        "train_data['Personnality Trait 2'] = train_data['Personnality Trait 2'].fillna(train_data.groupby(['Concert Goer ID'])['Personnality Trait 2'].transform(lambda x: x.value_counts().index[0]))\n",
        "train_data['Personnality Trait 3'] = train_data['Personnality Trait 3'].fillna(train_data.groupby(['Concert Goer ID'])['Personnality Trait 3'].transform(lambda x: x.value_counts().index[0]))\n",
        "train_data['Personnality Trait 4'] = train_data['Personnality Trait 4'].fillna(train_data.groupby(['Concert Goer ID'])['Personnality Trait 4'].transform(lambda x: x.value_counts().index[0]))\n",
        "train_data['Concert Goer Age'] = train_data['Concert Goer Age'].fillna(train_data.groupby(['Concert Goer ID'])['Concert Goer Age'].transform(lambda x: x.value_counts().index[0]))\n",
        "train_data['Height (cm)'] = train_data['Height (cm)'].fillna(train_data.groupby(['Concert Goer ID'])['Height (cm)'].transform(lambda x: x.value_counts().index[0]))\n",
        "train_data['Concert Goer Country of Origin'] = train_data['Concert Goer Country of Origin'].fillna(train_data.groupby(['Concert Goer ID'])['Concert Goer Country of Origin'].transform(lambda x: x.value_counts().index[0]))"
      ],
      "metadata": {
        "id": "oaLgf0V8Tts4"
      },
      "execution_count": 225,
      "outputs": []
    },
    {
      "cell_type": "code",
      "source": [
        "train_data['Personnality Trait 1'] = train_data.groupby(['Concert Goer ID'])['Personnality Trait 1'].transform(lambda x: x.value_counts().index[0])\n",
        "train_data['Personnality Trait 2'] = train_data.groupby(['Concert Goer ID'])['Personnality Trait 2'].transform(lambda x: x.value_counts().index[0])\n",
        "train_data['Personnality Trait 3'] = train_data.groupby(['Concert Goer ID'])['Personnality Trait 3'].transform(lambda x: x.value_counts().index[0])\n",
        "train_data['Personnality Trait 4'] = train_data.groupby(['Concert Goer ID'])['Personnality Trait 4'].transform(lambda x: x.value_counts().index[0])\n",
        "train_data['Concert Goer Age'] = train_data.groupby(['Concert Goer ID'])['Concert Goer Age'].transform(lambda x: x.value_counts().index[0])\n",
        "train_data['Height (cm)'] = train_data.groupby(['Concert Goer ID'])['Height (cm)'].transform(lambda x: x.value_counts().index[0])\n",
        "train_data['Concert Goer Country of Origin'] = train_data.groupby(['Concert Goer ID'])['Concert Goer Country of Origin'].transform(lambda x: x.value_counts().index[0])"
      ],
      "metadata": {
        "id": "ZezDUmIpWHsg"
      },
      "execution_count": 226,
      "outputs": []
    },
    {
      "cell_type": "code",
      "source": [
        "train_data"
      ],
      "metadata": {
        "colab": {
          "base_uri": "https://localhost:8080/",
          "height": 1000
        },
        "id": "EszotWQpYWeF",
        "outputId": "3b4cc5a1-cc14-4591-c5e1-159d89190bba"
      },
      "execution_count": 227,
      "outputs": [
        {
          "output_type": "execute_result",
          "data": {
            "text/plain": [
              "                              Id                      Band Name  \\\n",
              "0       ConcertExperience_180106    Teenage Crazy Blue Knickers   \n",
              "1       ConcertExperience_146268                   Beyond Devon   \n",
              "2       ConcertExperience_128743                     Ron Talent   \n",
              "3       ConcertExperience_140839                  Devon Revival   \n",
              "4        ConcertExperience_19149                   Beyond Devon   \n",
              "...                          ...                            ...   \n",
              "169995   ConcertExperience_14055            Crazy Joystick Cult   \n",
              "169996  ConcertExperience_192792            Crazy Joystick Cult   \n",
              "169997  ConcertExperience_152942                Why Frogs, Why?   \n",
              "169998  ConcertExperience_138957  Twilight of the Joystick Gods   \n",
              "169999  ConcertExperience_132336                Joystick Attack   \n",
              "\n",
              "            Band Genre          Band Country of Origin  Band Debut  \\\n",
              "0       Indie/Alt Rock  United States of America (USA)      1976.0   \n",
              "1            Pop Music  United States of America (USA)      1968.0   \n",
              "2          Rock n Roll                          Canada      1955.0   \n",
              "3                  RnB  United States of America (USA)      1992.0   \n",
              "4            Pop Music  United States of America (USA)      1968.0   \n",
              "...                ...                             ...         ...   \n",
              "169995             RnB                          Canada      1985.0   \n",
              "169996             RnB                          Canada      1985.0   \n",
              "169997     Heavy Metal                          Canada      2005.0   \n",
              "169998     Hip Hop/Rap  United States of America (USA)      1995.0   \n",
              "169999     Heavy Metal             United Kingdom (UK)      2008.0   \n",
              "\n",
              "        Concert ID  Concert Attendance Inside Venue   Rain Seated  \\\n",
              "0            900.0              2980.0        False  False    NaN   \n",
              "1            731.0                54.0         True  False   True   \n",
              "2              NaN            162754.0        False  False   True   \n",
              "3            704.0              8103.0        False   True  False   \n",
              "4             95.0                54.0        False  False  False   \n",
              "...            ...                 ...          ...    ...    ...   \n",
              "169995        70.0            162754.0         True  False  False   \n",
              "169996       963.0                54.0        False  False  False   \n",
              "169997       764.0                54.0        False  False  False   \n",
              "169998       694.0             22026.0        False   True   True   \n",
              "169999       661.0              2980.0         True  False  False   \n",
              "\n",
              "        Personnality Trait 1  Personnality Trait 2  Personnality Trait 3  \\\n",
              "0                   0.330843             -0.958408             -0.943548   \n",
              "1                  -2.069449              0.017777             -1.910675   \n",
              "2                  -0.484268              1.968772             -0.064167   \n",
              "3                  -0.858054              1.022827             -0.348389   \n",
              "4                  -0.793029             -1.166528             -0.043766   \n",
              "...                      ...                   ...                   ...   \n",
              "169995             -0.095021              0.175175              0.914245   \n",
              "169996             -0.733719             -0.285776             -0.323312   \n",
              "169997              0.744969             -0.965547              1.020598   \n",
              "169998              0.821976              0.351411              0.175762   \n",
              "169999             -1.017410              0.883248             -0.184107   \n",
              "\n",
              "        Personnality Trait 4  Concert Goer Age    Concert Goer ID  \\\n",
              "0                  -1.636806              29.0  concert_goer_1985   \n",
              "1                   0.610265              43.0  concert_goer_1874   \n",
              "2                  -1.260871              68.0   concert_goer_442   \n",
              "3                  -1.147251              17.0  concert_goer_1149   \n",
              "4                   0.969661              59.0   concert_goer_930   \n",
              "...                      ...               ...                ...   \n",
              "169995              0.357359              50.0   concert_goer_707   \n",
              "169996              0.641180              71.0  concert_goer_1373   \n",
              "169997              1.027389              27.0  concert_goer_1286   \n",
              "169998              1.455654              39.0  concert_goer_1845   \n",
              "169999              0.631731              46.0  concert_goer_1281   \n",
              "\n",
              "        Height (cm)  Concert Goer Country of Origin   Concert Enjoyment  \n",
              "0             140.0                        Paraguay       Did Not Enjoy  \n",
              "1             158.0             United Kingdom (UK)             Enjoyed  \n",
              "2             159.0  United States of America (USA)       Did Not Enjoy  \n",
              "3             150.0                          Canada  Worst Concert Ever  \n",
              "4             166.0             United Kingdom (UK)       Did Not Enjoy  \n",
              "...             ...                             ...                 ...  \n",
              "169995        180.0  United States of America (USA)       Did Not Enjoy  \n",
              "169996        143.0                        Bulgaria  Worst Concert Ever  \n",
              "169997        176.0                          Canada       Did Not Enjoy  \n",
              "169998        176.0                          Canada       Did Not Enjoy  \n",
              "169999        146.0                          Canada   Best Concert Ever  \n",
              "\n",
              "[170000 rows x 19 columns]"
            ],
            "text/html": [
              "\n",
              "  <div id=\"df-ceb20312-593f-43ea-8771-9e9a4cfa5efe\">\n",
              "    <div class=\"colab-df-container\">\n",
              "      <div>\n",
              "<style scoped>\n",
              "    .dataframe tbody tr th:only-of-type {\n",
              "        vertical-align: middle;\n",
              "    }\n",
              "\n",
              "    .dataframe tbody tr th {\n",
              "        vertical-align: top;\n",
              "    }\n",
              "\n",
              "    .dataframe thead th {\n",
              "        text-align: right;\n",
              "    }\n",
              "</style>\n",
              "<table border=\"1\" class=\"dataframe\">\n",
              "  <thead>\n",
              "    <tr style=\"text-align: right;\">\n",
              "      <th></th>\n",
              "      <th>Id</th>\n",
              "      <th>Band Name</th>\n",
              "      <th>Band Genre</th>\n",
              "      <th>Band Country of Origin</th>\n",
              "      <th>Band Debut</th>\n",
              "      <th>Concert ID</th>\n",
              "      <th>Concert Attendance</th>\n",
              "      <th>Inside Venue</th>\n",
              "      <th>Rain</th>\n",
              "      <th>Seated</th>\n",
              "      <th>Personnality Trait 1</th>\n",
              "      <th>Personnality Trait 2</th>\n",
              "      <th>Personnality Trait 3</th>\n",
              "      <th>Personnality Trait 4</th>\n",
              "      <th>Concert Goer Age</th>\n",
              "      <th>Concert Goer ID</th>\n",
              "      <th>Height (cm)</th>\n",
              "      <th>Concert Goer Country of Origin</th>\n",
              "      <th>Concert Enjoyment</th>\n",
              "    </tr>\n",
              "  </thead>\n",
              "  <tbody>\n",
              "    <tr>\n",
              "      <th>0</th>\n",
              "      <td>ConcertExperience_180106</td>\n",
              "      <td>Teenage Crazy Blue Knickers</td>\n",
              "      <td>Indie/Alt Rock</td>\n",
              "      <td>United States of America (USA)</td>\n",
              "      <td>1976.0</td>\n",
              "      <td>900.0</td>\n",
              "      <td>2980.0</td>\n",
              "      <td>False</td>\n",
              "      <td>False</td>\n",
              "      <td>NaN</td>\n",
              "      <td>0.330843</td>\n",
              "      <td>-0.958408</td>\n",
              "      <td>-0.943548</td>\n",
              "      <td>-1.636806</td>\n",
              "      <td>29.0</td>\n",
              "      <td>concert_goer_1985</td>\n",
              "      <td>140.0</td>\n",
              "      <td>Paraguay</td>\n",
              "      <td>Did Not Enjoy</td>\n",
              "    </tr>\n",
              "    <tr>\n",
              "      <th>1</th>\n",
              "      <td>ConcertExperience_146268</td>\n",
              "      <td>Beyond Devon</td>\n",
              "      <td>Pop Music</td>\n",
              "      <td>United States of America (USA)</td>\n",
              "      <td>1968.0</td>\n",
              "      <td>731.0</td>\n",
              "      <td>54.0</td>\n",
              "      <td>True</td>\n",
              "      <td>False</td>\n",
              "      <td>True</td>\n",
              "      <td>-2.069449</td>\n",
              "      <td>0.017777</td>\n",
              "      <td>-1.910675</td>\n",
              "      <td>0.610265</td>\n",
              "      <td>43.0</td>\n",
              "      <td>concert_goer_1874</td>\n",
              "      <td>158.0</td>\n",
              "      <td>United Kingdom (UK)</td>\n",
              "      <td>Enjoyed</td>\n",
              "    </tr>\n",
              "    <tr>\n",
              "      <th>2</th>\n",
              "      <td>ConcertExperience_128743</td>\n",
              "      <td>Ron Talent</td>\n",
              "      <td>Rock n Roll</td>\n",
              "      <td>Canada</td>\n",
              "      <td>1955.0</td>\n",
              "      <td>NaN</td>\n",
              "      <td>162754.0</td>\n",
              "      <td>False</td>\n",
              "      <td>False</td>\n",
              "      <td>True</td>\n",
              "      <td>-0.484268</td>\n",
              "      <td>1.968772</td>\n",
              "      <td>-0.064167</td>\n",
              "      <td>-1.260871</td>\n",
              "      <td>68.0</td>\n",
              "      <td>concert_goer_442</td>\n",
              "      <td>159.0</td>\n",
              "      <td>United States of America (USA)</td>\n",
              "      <td>Did Not Enjoy</td>\n",
              "    </tr>\n",
              "    <tr>\n",
              "      <th>3</th>\n",
              "      <td>ConcertExperience_140839</td>\n",
              "      <td>Devon Revival</td>\n",
              "      <td>RnB</td>\n",
              "      <td>United States of America (USA)</td>\n",
              "      <td>1992.0</td>\n",
              "      <td>704.0</td>\n",
              "      <td>8103.0</td>\n",
              "      <td>False</td>\n",
              "      <td>True</td>\n",
              "      <td>False</td>\n",
              "      <td>-0.858054</td>\n",
              "      <td>1.022827</td>\n",
              "      <td>-0.348389</td>\n",
              "      <td>-1.147251</td>\n",
              "      <td>17.0</td>\n",
              "      <td>concert_goer_1149</td>\n",
              "      <td>150.0</td>\n",
              "      <td>Canada</td>\n",
              "      <td>Worst Concert Ever</td>\n",
              "    </tr>\n",
              "    <tr>\n",
              "      <th>4</th>\n",
              "      <td>ConcertExperience_19149</td>\n",
              "      <td>Beyond Devon</td>\n",
              "      <td>Pop Music</td>\n",
              "      <td>United States of America (USA)</td>\n",
              "      <td>1968.0</td>\n",
              "      <td>95.0</td>\n",
              "      <td>54.0</td>\n",
              "      <td>False</td>\n",
              "      <td>False</td>\n",
              "      <td>False</td>\n",
              "      <td>-0.793029</td>\n",
              "      <td>-1.166528</td>\n",
              "      <td>-0.043766</td>\n",
              "      <td>0.969661</td>\n",
              "      <td>59.0</td>\n",
              "      <td>concert_goer_930</td>\n",
              "      <td>166.0</td>\n",
              "      <td>United Kingdom (UK)</td>\n",
              "      <td>Did Not Enjoy</td>\n",
              "    </tr>\n",
              "    <tr>\n",
              "      <th>...</th>\n",
              "      <td>...</td>\n",
              "      <td>...</td>\n",
              "      <td>...</td>\n",
              "      <td>...</td>\n",
              "      <td>...</td>\n",
              "      <td>...</td>\n",
              "      <td>...</td>\n",
              "      <td>...</td>\n",
              "      <td>...</td>\n",
              "      <td>...</td>\n",
              "      <td>...</td>\n",
              "      <td>...</td>\n",
              "      <td>...</td>\n",
              "      <td>...</td>\n",
              "      <td>...</td>\n",
              "      <td>...</td>\n",
              "      <td>...</td>\n",
              "      <td>...</td>\n",
              "      <td>...</td>\n",
              "    </tr>\n",
              "    <tr>\n",
              "      <th>169995</th>\n",
              "      <td>ConcertExperience_14055</td>\n",
              "      <td>Crazy Joystick Cult</td>\n",
              "      <td>RnB</td>\n",
              "      <td>Canada</td>\n",
              "      <td>1985.0</td>\n",
              "      <td>70.0</td>\n",
              "      <td>162754.0</td>\n",
              "      <td>True</td>\n",
              "      <td>False</td>\n",
              "      <td>False</td>\n",
              "      <td>-0.095021</td>\n",
              "      <td>0.175175</td>\n",
              "      <td>0.914245</td>\n",
              "      <td>0.357359</td>\n",
              "      <td>50.0</td>\n",
              "      <td>concert_goer_707</td>\n",
              "      <td>180.0</td>\n",
              "      <td>United States of America (USA)</td>\n",
              "      <td>Did Not Enjoy</td>\n",
              "    </tr>\n",
              "    <tr>\n",
              "      <th>169996</th>\n",
              "      <td>ConcertExperience_192792</td>\n",
              "      <td>Crazy Joystick Cult</td>\n",
              "      <td>RnB</td>\n",
              "      <td>Canada</td>\n",
              "      <td>1985.0</td>\n",
              "      <td>963.0</td>\n",
              "      <td>54.0</td>\n",
              "      <td>False</td>\n",
              "      <td>False</td>\n",
              "      <td>False</td>\n",
              "      <td>-0.733719</td>\n",
              "      <td>-0.285776</td>\n",
              "      <td>-0.323312</td>\n",
              "      <td>0.641180</td>\n",
              "      <td>71.0</td>\n",
              "      <td>concert_goer_1373</td>\n",
              "      <td>143.0</td>\n",
              "      <td>Bulgaria</td>\n",
              "      <td>Worst Concert Ever</td>\n",
              "    </tr>\n",
              "    <tr>\n",
              "      <th>169997</th>\n",
              "      <td>ConcertExperience_152942</td>\n",
              "      <td>Why Frogs, Why?</td>\n",
              "      <td>Heavy Metal</td>\n",
              "      <td>Canada</td>\n",
              "      <td>2005.0</td>\n",
              "      <td>764.0</td>\n",
              "      <td>54.0</td>\n",
              "      <td>False</td>\n",
              "      <td>False</td>\n",
              "      <td>False</td>\n",
              "      <td>0.744969</td>\n",
              "      <td>-0.965547</td>\n",
              "      <td>1.020598</td>\n",
              "      <td>1.027389</td>\n",
              "      <td>27.0</td>\n",
              "      <td>concert_goer_1286</td>\n",
              "      <td>176.0</td>\n",
              "      <td>Canada</td>\n",
              "      <td>Did Not Enjoy</td>\n",
              "    </tr>\n",
              "    <tr>\n",
              "      <th>169998</th>\n",
              "      <td>ConcertExperience_138957</td>\n",
              "      <td>Twilight of the Joystick Gods</td>\n",
              "      <td>Hip Hop/Rap</td>\n",
              "      <td>United States of America (USA)</td>\n",
              "      <td>1995.0</td>\n",
              "      <td>694.0</td>\n",
              "      <td>22026.0</td>\n",
              "      <td>False</td>\n",
              "      <td>True</td>\n",
              "      <td>True</td>\n",
              "      <td>0.821976</td>\n",
              "      <td>0.351411</td>\n",
              "      <td>0.175762</td>\n",
              "      <td>1.455654</td>\n",
              "      <td>39.0</td>\n",
              "      <td>concert_goer_1845</td>\n",
              "      <td>176.0</td>\n",
              "      <td>Canada</td>\n",
              "      <td>Did Not Enjoy</td>\n",
              "    </tr>\n",
              "    <tr>\n",
              "      <th>169999</th>\n",
              "      <td>ConcertExperience_132336</td>\n",
              "      <td>Joystick Attack</td>\n",
              "      <td>Heavy Metal</td>\n",
              "      <td>United Kingdom (UK)</td>\n",
              "      <td>2008.0</td>\n",
              "      <td>661.0</td>\n",
              "      <td>2980.0</td>\n",
              "      <td>True</td>\n",
              "      <td>False</td>\n",
              "      <td>False</td>\n",
              "      <td>-1.017410</td>\n",
              "      <td>0.883248</td>\n",
              "      <td>-0.184107</td>\n",
              "      <td>0.631731</td>\n",
              "      <td>46.0</td>\n",
              "      <td>concert_goer_1281</td>\n",
              "      <td>146.0</td>\n",
              "      <td>Canada</td>\n",
              "      <td>Best Concert Ever</td>\n",
              "    </tr>\n",
              "  </tbody>\n",
              "</table>\n",
              "<p>170000 rows × 19 columns</p>\n",
              "</div>\n",
              "      <button class=\"colab-df-convert\" onclick=\"convertToInteractive('df-ceb20312-593f-43ea-8771-9e9a4cfa5efe')\"\n",
              "              title=\"Convert this dataframe to an interactive table.\"\n",
              "              style=\"display:none;\">\n",
              "        \n",
              "  <svg xmlns=\"http://www.w3.org/2000/svg\" height=\"24px\"viewBox=\"0 0 24 24\"\n",
              "       width=\"24px\">\n",
              "    <path d=\"M0 0h24v24H0V0z\" fill=\"none\"/>\n",
              "    <path d=\"M18.56 5.44l.94 2.06.94-2.06 2.06-.94-2.06-.94-.94-2.06-.94 2.06-2.06.94zm-11 1L8.5 8.5l.94-2.06 2.06-.94-2.06-.94L8.5 2.5l-.94 2.06-2.06.94zm10 10l.94 2.06.94-2.06 2.06-.94-2.06-.94-.94-2.06-.94 2.06-2.06.94z\"/><path d=\"M17.41 7.96l-1.37-1.37c-.4-.4-.92-.59-1.43-.59-.52 0-1.04.2-1.43.59L10.3 9.45l-7.72 7.72c-.78.78-.78 2.05 0 2.83L4 21.41c.39.39.9.59 1.41.59.51 0 1.02-.2 1.41-.59l7.78-7.78 2.81-2.81c.8-.78.8-2.07 0-2.86zM5.41 20L4 18.59l7.72-7.72 1.47 1.35L5.41 20z\"/>\n",
              "  </svg>\n",
              "      </button>\n",
              "      \n",
              "  <style>\n",
              "    .colab-df-container {\n",
              "      display:flex;\n",
              "      flex-wrap:wrap;\n",
              "      gap: 12px;\n",
              "    }\n",
              "\n",
              "    .colab-df-convert {\n",
              "      background-color: #E8F0FE;\n",
              "      border: none;\n",
              "      border-radius: 50%;\n",
              "      cursor: pointer;\n",
              "      display: none;\n",
              "      fill: #1967D2;\n",
              "      height: 32px;\n",
              "      padding: 0 0 0 0;\n",
              "      width: 32px;\n",
              "    }\n",
              "\n",
              "    .colab-df-convert:hover {\n",
              "      background-color: #E2EBFA;\n",
              "      box-shadow: 0px 1px 2px rgba(60, 64, 67, 0.3), 0px 1px 3px 1px rgba(60, 64, 67, 0.15);\n",
              "      fill: #174EA6;\n",
              "    }\n",
              "\n",
              "    [theme=dark] .colab-df-convert {\n",
              "      background-color: #3B4455;\n",
              "      fill: #D2E3FC;\n",
              "    }\n",
              "\n",
              "    [theme=dark] .colab-df-convert:hover {\n",
              "      background-color: #434B5C;\n",
              "      box-shadow: 0px 1px 3px 1px rgba(0, 0, 0, 0.15);\n",
              "      filter: drop-shadow(0px 1px 2px rgba(0, 0, 0, 0.3));\n",
              "      fill: #FFFFFF;\n",
              "    }\n",
              "  </style>\n",
              "\n",
              "      <script>\n",
              "        const buttonEl =\n",
              "          document.querySelector('#df-ceb20312-593f-43ea-8771-9e9a4cfa5efe button.colab-df-convert');\n",
              "        buttonEl.style.display =\n",
              "          google.colab.kernel.accessAllowed ? 'block' : 'none';\n",
              "\n",
              "        async function convertToInteractive(key) {\n",
              "          const element = document.querySelector('#df-ceb20312-593f-43ea-8771-9e9a4cfa5efe');\n",
              "          const dataTable =\n",
              "            await google.colab.kernel.invokeFunction('convertToInteractive',\n",
              "                                                     [key], {});\n",
              "          if (!dataTable) return;\n",
              "\n",
              "          const docLinkHtml = 'Like what you see? Visit the ' +\n",
              "            '<a target=\"_blank\" href=https://colab.research.google.com/notebooks/data_table.ipynb>data table notebook</a>'\n",
              "            + ' to learn more about interactive tables.';\n",
              "          element.innerHTML = '';\n",
              "          dataTable['output_type'] = 'display_data';\n",
              "          await google.colab.output.renderOutput(dataTable, element);\n",
              "          const docLink = document.createElement('div');\n",
              "          docLink.innerHTML = docLinkHtml;\n",
              "          element.appendChild(docLink);\n",
              "        }\n",
              "      </script>\n",
              "    </div>\n",
              "  </div>\n",
              "  "
            ]
          },
          "metadata": {},
          "execution_count": 227
        }
      ]
    },
    {
      "cell_type": "code",
      "source": [
        "train_data['Concert Attendance'].value_counts()"
      ],
      "metadata": {
        "colab": {
          "base_uri": "https://localhost:8080/"
        },
        "id": "PsKB3Y7jfAil",
        "outputId": "24779ded-5531-4549-fdf9-61597cea2e83"
      },
      "execution_count": 228,
      "outputs": [
        {
          "output_type": "execute_result",
          "data": {
            "text/plain": [
              "2.980000e+03    22482\n",
              "5.400000e+01    20959\n",
              "2.202600e+04    20746\n",
              "8.103000e+03    18456\n",
              "1.480000e+02    18234\n",
              "5.987400e+04    17759\n",
              "1.627540e+05    17207\n",
              "1.096000e+03    17033\n",
              "4.030000e+02    16048\n",
              "1.480000e+06       25\n",
              "5.400000e+05       23\n",
              "2.980000e+07       22\n",
              "4.030000e+06       22\n",
              "5.987400e+08       21\n",
              "1.096000e+07       19\n",
              "8.103000e+07       18\n",
              "2.202600e+08       17\n",
              "1.627540e+09       14\n",
              "Name: Concert Attendance, dtype: int64"
            ]
          },
          "metadata": {},
          "execution_count": 228
        }
      ]
    },
    {
      "cell_type": "code",
      "source": [
        "train_data['Concert ID'].value_counts()"
      ],
      "metadata": {
        "colab": {
          "base_uri": "https://localhost:8080/"
        },
        "id": "YPt1Zmm0fXEX",
        "outputId": "7af71659-56d4-48f7-c3b4-cd63160bdc43"
      },
      "execution_count": 229,
      "outputs": [
        {
          "output_type": "execute_result",
          "data": {
            "text/plain": [
              "773.0    182\n",
              "136.0    182\n",
              "127.0    181\n",
              "359.0    181\n",
              "464.0    181\n",
              "        ... \n",
              "101.0    155\n",
              "450.0    154\n",
              "997.0    154\n",
              "342.0    153\n",
              "615.0    153\n",
              "Name: Concert ID, Length: 1000, dtype: int64"
            ]
          },
          "metadata": {},
          "execution_count": 229
        }
      ]
    },
    {
      "cell_type": "code",
      "source": [
        "train_data['Concert ID'].isnull().sum()"
      ],
      "metadata": {
        "colab": {
          "base_uri": "https://localhost:8080/"
        },
        "id": "FKbwXgKqkDwM",
        "outputId": "c73ba197-b8ed-4bb3-9f8c-a9e0a72585d0"
      },
      "execution_count": 230,
      "outputs": [
        {
          "output_type": "execute_result",
          "data": {
            "text/plain": [
              "870"
            ]
          },
          "metadata": {},
          "execution_count": 230
        }
      ]
    },
    {
      "cell_type": "code",
      "source": [
        "train_data['Concert ID'].fillna(train_data.groupby(['Concert Attendance', 'Inside Venue', 'Rain'])['Concert ID'].transform(lambda x: x.value_counts()).index[0], inplace=True)"
      ],
      "metadata": {
        "id": "UlaK9a69kPDW"
      },
      "execution_count": 231,
      "outputs": []
    },
    {
      "cell_type": "code",
      "source": [
        "train_data['Concert ID'].isnull().sum()"
      ],
      "metadata": {
        "colab": {
          "base_uri": "https://localhost:8080/"
        },
        "id": "mu5xyOAgkdAZ",
        "outputId": "7f9d8cb7-759e-4272-cf08-83d32a148ba7"
      },
      "execution_count": 232,
      "outputs": [
        {
          "output_type": "execute_result",
          "data": {
            "text/plain": [
              "0"
            ]
          },
          "metadata": {},
          "execution_count": 232
        }
      ]
    },
    {
      "cell_type": "code",
      "source": [
        "train_data['Concert Attendance'].fillna(train_data.groupby(['Concert ID'])['Concert Attendance'].transform(lambda x: x.value_counts().index[0]), inplace=True)\n",
        "train_data['Inside Venue'].fillna(train_data.groupby(['Concert ID'])['Inside Venue'].transform(lambda x: x.value_counts().index[0]), inplace=True)\n",
        "train_data['Rain'].fillna(train_data.groupby(['Concert ID'])['Rain'].transform(lambda x: x.value_counts().index[0]), inplace=True)"
      ],
      "metadata": {
        "id": "B6NotXIQkfRk"
      },
      "execution_count": 233,
      "outputs": []
    },
    {
      "cell_type": "code",
      "source": [
        "train_data['Concert Attendance'].isnull().sum()"
      ],
      "metadata": {
        "colab": {
          "base_uri": "https://localhost:8080/"
        },
        "id": "0aal5hg9k-Gq",
        "outputId": "6aa3cb7e-2d92-414f-db82-f48b9aeb504f"
      },
      "execution_count": 234,
      "outputs": [
        {
          "output_type": "execute_result",
          "data": {
            "text/plain": [
              "0"
            ]
          },
          "metadata": {},
          "execution_count": 234
        }
      ]
    },
    {
      "cell_type": "code",
      "source": [
        "train_data['Inside Venue'].isnull().sum()"
      ],
      "metadata": {
        "colab": {
          "base_uri": "https://localhost:8080/"
        },
        "id": "G303viY4lBL7",
        "outputId": "89f7b9b8-7d6d-4933-cdab-a684651f4be4"
      },
      "execution_count": 235,
      "outputs": [
        {
          "output_type": "execute_result",
          "data": {
            "text/plain": [
              "0"
            ]
          },
          "metadata": {},
          "execution_count": 235
        }
      ]
    },
    {
      "cell_type": "code",
      "source": [
        "train_data['Rain'].isnull().sum()"
      ],
      "metadata": {
        "colab": {
          "base_uri": "https://localhost:8080/"
        },
        "id": "mFJl_-IHlERp",
        "outputId": "85848bea-bdc6-4337-8353-4b2200fbfcfc"
      },
      "execution_count": 236,
      "outputs": [
        {
          "output_type": "execute_result",
          "data": {
            "text/plain": [
              "0"
            ]
          },
          "metadata": {},
          "execution_count": 236
        }
      ]
    },
    {
      "cell_type": "code",
      "source": [
        "train_data['Concert Attendance'] = train_data.groupby(['Concert ID'])['Concert Attendance'].transform(lambda x: x.value_counts().index[0])\n",
        "train_data['Inside Venue'] = train_data.groupby(['Concert ID'])['Inside Venue'].transform(lambda x: x.value_counts().index[0])\n",
        "train_data['Rain'] = train_data.groupby(['Concert ID'])['Rain'].transform(lambda x: x.value_counts().index[0])"
      ],
      "metadata": {
        "id": "Rni2yC6elHVS"
      },
      "execution_count": 237,
      "outputs": []
    },
    {
      "cell_type": "code",
      "source": [
        "train_data.iloc[20845]"
      ],
      "metadata": {
        "colab": {
          "base_uri": "https://localhost:8080/"
        },
        "id": "e89qyaC2l111",
        "outputId": "8fe50751-1530-4cd5-a4e7-efc9eafb66c3"
      },
      "execution_count": 238,
      "outputs": [
        {
          "output_type": "execute_result",
          "data": {
            "text/plain": [
              "Id                                      ConcertExperience_187428\n",
              "Band Name                                          Devon Revival\n",
              "Band Genre                                                   RnB\n",
              "Band Country of Origin            United States of America (USA)\n",
              "Band Debut                                                1992.0\n",
              "Concert ID                                                 937.0\n",
              "Concert Attendance                                       22026.0\n",
              "Inside Venue                                               False\n",
              "Rain                                                       False\n",
              "Seated                                                      True\n",
              "Personnality Trait 1                                   -0.022594\n",
              "Personnality Trait 2                                   -1.550281\n",
              "Personnality Trait 3                                   -0.363448\n",
              "Personnality Trait 4                                   -0.683181\n",
              "Concert Goer Age                                            67.0\n",
              "Concert Goer ID                                  concert_goer_77\n",
              "Height (cm)                                                170.0\n",
              "Concert Goer Country of Origin                            Turkey\n",
              "Concert Enjoyment                                  Did Not Enjoy\n",
              "Name: 20845, dtype: object"
            ]
          },
          "metadata": {},
          "execution_count": 238
        }
      ]
    },
    {
      "cell_type": "code",
      "source": [
        "train_data.to_csv('train_cleaned.csv', index=False)"
      ],
      "metadata": {
        "id": "KODbtqbUmR-w"
      },
      "execution_count": 239,
      "outputs": []
    }
  ]
}