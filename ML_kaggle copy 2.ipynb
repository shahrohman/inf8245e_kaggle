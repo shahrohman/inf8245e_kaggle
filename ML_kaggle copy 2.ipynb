{
 "cells": [
  {
   "cell_type": "markdown",
   "metadata": {},
   "source": [
    "## Context\n",
    "\n",
    "* For this project, you will take part in a Kaggle competition based on tabular data. The goal is to design a machine learning algorithm that, given information on a particular concertgoer experience, can automatically classify the enjoyment of that concertgoer to that concert. In this classification problem, we have 4 classes. The training dataset consists of 170,000 training examples and the testing dataset contains 30,000 test examples.\n",
    "\n",
    "* Each training rows contains a unique ID, 18 attributes and 1 target containing the class\n",
    "that needs to be predicted. You will be evaluated on the test private leaderboard mean\n",
    "F1-Score.\n",
    "\n",
    "## Instructions\n",
    "\n",
    "* To participate in the competition, you must provide a list of predicted outputs for the\n",
    "instances on the Kaggle website. To solve the problem you are encouraged to use any\n",
    "classification methods you can think off, presented in the course or otherwise. Looking\n",
    "into creative way to create new features from those provided may prove especially usefull\n",
    "in this competition."
   ]
  },
  {
   "cell_type": "markdown",
   "metadata": {},
   "source": [
    "* The goal of this competition is to classify a particular concert experience in one of four classes: \n",
    "1. Worst Concert Ever\n",
    "2. Did Not Enjoy\n",
    "3. Enjoyed\n",
    "4. Best Concert Ever\n",
    "\n",
    "* To perform this task you will be given information on the band, the venue, as well as the specific concertgoers.\n",
    " \n",
    "* The dataset contains information on the specific concert, the specific band, and the specific concertgoers. It is to be noted that all three of those are unchanged across all of the training data and test data. Any conclusions on the specific characteristics of a band, concert, or concertgoers will also extend to the test set.\n",
    "\n",
    "* Unfortunately, the data-gathering step was not impeccable. One can expect some of the training attributes not always to reflect the underlying reality. However, the \"Concert Experience\" column has been verified and is 100% accurate."
   ]
  },
  {
   "cell_type": "code",
   "execution_count": 1,
   "metadata": {},
   "outputs": [],
   "source": [
    "# Import packages\n",
    "import pandas as pd\n",
    "import numpy as np\n",
    "import matplotlib.pyplot as plt\n",
    "\n",
    "\n",
    "# Load data\n",
    "train_data = pd.read_csv('./data/train.csv')\n",
    "valid_data = pd.read_csv('./data/test.csv')"
   ]
  },
  {
   "cell_type": "code",
   "execution_count": 2,
   "metadata": {},
   "outputs": [
    {
     "data": {
      "text/html": [
       "<div>\n",
       "<style scoped>\n",
       "    .dataframe tbody tr th:only-of-type {\n",
       "        vertical-align: middle;\n",
       "    }\n",
       "\n",
       "    .dataframe tbody tr th {\n",
       "        vertical-align: top;\n",
       "    }\n",
       "\n",
       "    .dataframe thead th {\n",
       "        text-align: right;\n",
       "    }\n",
       "</style>\n",
       "<table border=\"1\" class=\"dataframe\">\n",
       "  <thead>\n",
       "    <tr style=\"text-align: right;\">\n",
       "      <th></th>\n",
       "      <th>Id</th>\n",
       "      <th>Band Name</th>\n",
       "      <th>Band Genre</th>\n",
       "      <th>Band Country of Origin</th>\n",
       "      <th>Band Debut</th>\n",
       "      <th>Concert ID</th>\n",
       "      <th>Concert Attendance</th>\n",
       "      <th>Inside Venue</th>\n",
       "      <th>Rain</th>\n",
       "      <th>Seated</th>\n",
       "      <th>Personnality Trait 1</th>\n",
       "      <th>Personnality Trait 2</th>\n",
       "      <th>Personnality Trait 3</th>\n",
       "      <th>Personnality Trait 4</th>\n",
       "      <th>Concert Goer Age</th>\n",
       "      <th>Concert Goer ID</th>\n",
       "      <th>Height (cm)</th>\n",
       "      <th>Concert Goer Country of Origin</th>\n",
       "      <th>Concert Enjoyment</th>\n",
       "    </tr>\n",
       "  </thead>\n",
       "  <tbody>\n",
       "    <tr>\n",
       "      <th>0</th>\n",
       "      <td>ConcertExperience_180106</td>\n",
       "      <td>Teenage Crazy Blue Knickers</td>\n",
       "      <td>Indie/Alt Rock</td>\n",
       "      <td>United States of America (USA)</td>\n",
       "      <td>1976.0</td>\n",
       "      <td>900.0</td>\n",
       "      <td>2980.0</td>\n",
       "      <td>False</td>\n",
       "      <td>False</td>\n",
       "      <td>NaN</td>\n",
       "      <td>0.330843</td>\n",
       "      <td>-0.958408</td>\n",
       "      <td>-0.943548</td>\n",
       "      <td>-1.636806</td>\n",
       "      <td>29.0</td>\n",
       "      <td>concert_goer_1985</td>\n",
       "      <td>140.0</td>\n",
       "      <td>Paraguay</td>\n",
       "      <td>Did Not Enjoy</td>\n",
       "    </tr>\n",
       "    <tr>\n",
       "      <th>1</th>\n",
       "      <td>ConcertExperience_146268</td>\n",
       "      <td>Beyond Devon</td>\n",
       "      <td>Pop Music</td>\n",
       "      <td>United States of America (USA)</td>\n",
       "      <td>1968.0</td>\n",
       "      <td>731.0</td>\n",
       "      <td>54.0</td>\n",
       "      <td>True</td>\n",
       "      <td>False</td>\n",
       "      <td>True</td>\n",
       "      <td>-2.069449</td>\n",
       "      <td>0.017777</td>\n",
       "      <td>-1.910675</td>\n",
       "      <td>0.610265</td>\n",
       "      <td>43.0</td>\n",
       "      <td>concert_goer_1874</td>\n",
       "      <td>158.0</td>\n",
       "      <td>United Kingdom (UK)</td>\n",
       "      <td>Enjoyed</td>\n",
       "    </tr>\n",
       "    <tr>\n",
       "      <th>2</th>\n",
       "      <td>ConcertExperience_128743</td>\n",
       "      <td>Ron Talent</td>\n",
       "      <td>Rock n Roll</td>\n",
       "      <td>Canada</td>\n",
       "      <td>1955.0</td>\n",
       "      <td>NaN</td>\n",
       "      <td>162754.0</td>\n",
       "      <td>False</td>\n",
       "      <td>False</td>\n",
       "      <td>True</td>\n",
       "      <td>-0.484268</td>\n",
       "      <td>1.968772</td>\n",
       "      <td>-0.064167</td>\n",
       "      <td>-1.260871</td>\n",
       "      <td>68.0</td>\n",
       "      <td>concert_goer_442</td>\n",
       "      <td>159.0</td>\n",
       "      <td>United States of America (USA)</td>\n",
       "      <td>Did Not Enjoy</td>\n",
       "    </tr>\n",
       "    <tr>\n",
       "      <th>3</th>\n",
       "      <td>ConcertExperience_140839</td>\n",
       "      <td>Devon Revival</td>\n",
       "      <td>RnB</td>\n",
       "      <td>United States of America (USA)</td>\n",
       "      <td>1992.0</td>\n",
       "      <td>704.0</td>\n",
       "      <td>8103.0</td>\n",
       "      <td>False</td>\n",
       "      <td>True</td>\n",
       "      <td>False</td>\n",
       "      <td>-0.858054</td>\n",
       "      <td>1.022827</td>\n",
       "      <td>-0.348389</td>\n",
       "      <td>-1.147251</td>\n",
       "      <td>17.0</td>\n",
       "      <td>concert_goer_1149</td>\n",
       "      <td>150.0</td>\n",
       "      <td>Canada</td>\n",
       "      <td>Worst Concert Ever</td>\n",
       "    </tr>\n",
       "    <tr>\n",
       "      <th>4</th>\n",
       "      <td>ConcertExperience_19149</td>\n",
       "      <td>Beyond Devon</td>\n",
       "      <td>Pop Music</td>\n",
       "      <td>United States of America (USA)</td>\n",
       "      <td>1968.0</td>\n",
       "      <td>95.0</td>\n",
       "      <td>54.0</td>\n",
       "      <td>False</td>\n",
       "      <td>False</td>\n",
       "      <td>False</td>\n",
       "      <td>-0.793029</td>\n",
       "      <td>-1.166528</td>\n",
       "      <td>-0.043766</td>\n",
       "      <td>0.969661</td>\n",
       "      <td>59.0</td>\n",
       "      <td>concert_goer_930</td>\n",
       "      <td>166.0</td>\n",
       "      <td>United Kingdom (UK)</td>\n",
       "      <td>Did Not Enjoy</td>\n",
       "    </tr>\n",
       "    <tr>\n",
       "      <th>...</th>\n",
       "      <td>...</td>\n",
       "      <td>...</td>\n",
       "      <td>...</td>\n",
       "      <td>...</td>\n",
       "      <td>...</td>\n",
       "      <td>...</td>\n",
       "      <td>...</td>\n",
       "      <td>...</td>\n",
       "      <td>...</td>\n",
       "      <td>...</td>\n",
       "      <td>...</td>\n",
       "      <td>...</td>\n",
       "      <td>...</td>\n",
       "      <td>...</td>\n",
       "      <td>...</td>\n",
       "      <td>...</td>\n",
       "      <td>...</td>\n",
       "      <td>...</td>\n",
       "      <td>...</td>\n",
       "    </tr>\n",
       "    <tr>\n",
       "      <th>169995</th>\n",
       "      <td>ConcertExperience_14055</td>\n",
       "      <td>Crazy Joystick Cult</td>\n",
       "      <td>RnB</td>\n",
       "      <td>Canada</td>\n",
       "      <td>1985.0</td>\n",
       "      <td>70.0</td>\n",
       "      <td>162754.0</td>\n",
       "      <td>True</td>\n",
       "      <td>False</td>\n",
       "      <td>False</td>\n",
       "      <td>-0.095021</td>\n",
       "      <td>0.175175</td>\n",
       "      <td>0.914245</td>\n",
       "      <td>0.357359</td>\n",
       "      <td>50.0</td>\n",
       "      <td>concert_goer_707</td>\n",
       "      <td>180.0</td>\n",
       "      <td>United States of America (USA)</td>\n",
       "      <td>Did Not Enjoy</td>\n",
       "    </tr>\n",
       "    <tr>\n",
       "      <th>169996</th>\n",
       "      <td>ConcertExperience_192792</td>\n",
       "      <td>Crazy Joystick Cult</td>\n",
       "      <td>RnB</td>\n",
       "      <td>Canada</td>\n",
       "      <td>1985.0</td>\n",
       "      <td>963.0</td>\n",
       "      <td>54.0</td>\n",
       "      <td>False</td>\n",
       "      <td>False</td>\n",
       "      <td>False</td>\n",
       "      <td>-0.733719</td>\n",
       "      <td>-0.285776</td>\n",
       "      <td>-0.323312</td>\n",
       "      <td>0.641180</td>\n",
       "      <td>71.0</td>\n",
       "      <td>concert_goer_1373</td>\n",
       "      <td>143.0</td>\n",
       "      <td>Bulgaria</td>\n",
       "      <td>Worst Concert Ever</td>\n",
       "    </tr>\n",
       "    <tr>\n",
       "      <th>169997</th>\n",
       "      <td>ConcertExperience_152942</td>\n",
       "      <td>Why Frogs, Why?</td>\n",
       "      <td>Heavy Metal</td>\n",
       "      <td>Canada</td>\n",
       "      <td>2005.0</td>\n",
       "      <td>764.0</td>\n",
       "      <td>54.0</td>\n",
       "      <td>False</td>\n",
       "      <td>False</td>\n",
       "      <td>False</td>\n",
       "      <td>0.744969</td>\n",
       "      <td>-0.965547</td>\n",
       "      <td>1.020598</td>\n",
       "      <td>1.027389</td>\n",
       "      <td>27.0</td>\n",
       "      <td>concert_goer_1286</td>\n",
       "      <td>176.0</td>\n",
       "      <td>Canada</td>\n",
       "      <td>Did Not Enjoy</td>\n",
       "    </tr>\n",
       "    <tr>\n",
       "      <th>169998</th>\n",
       "      <td>ConcertExperience_138957</td>\n",
       "      <td>Twilight of the Joystick Gods</td>\n",
       "      <td>Hip Hop/Rap</td>\n",
       "      <td>United States of America (USA)</td>\n",
       "      <td>1995.0</td>\n",
       "      <td>694.0</td>\n",
       "      <td>22026.0</td>\n",
       "      <td>False</td>\n",
       "      <td>True</td>\n",
       "      <td>True</td>\n",
       "      <td>0.821976</td>\n",
       "      <td>0.351411</td>\n",
       "      <td>0.175762</td>\n",
       "      <td>1.455654</td>\n",
       "      <td>39.0</td>\n",
       "      <td>concert_goer_1845</td>\n",
       "      <td>176.0</td>\n",
       "      <td>Canada</td>\n",
       "      <td>Did Not Enjoy</td>\n",
       "    </tr>\n",
       "    <tr>\n",
       "      <th>169999</th>\n",
       "      <td>ConcertExperience_132336</td>\n",
       "      <td>Joystick Attack</td>\n",
       "      <td>Heavy Metal</td>\n",
       "      <td>United Kingdom (UK)</td>\n",
       "      <td>2008.0</td>\n",
       "      <td>661.0</td>\n",
       "      <td>2980.0</td>\n",
       "      <td>True</td>\n",
       "      <td>False</td>\n",
       "      <td>False</td>\n",
       "      <td>-1.017410</td>\n",
       "      <td>0.883248</td>\n",
       "      <td>-0.184107</td>\n",
       "      <td>0.631731</td>\n",
       "      <td>46.0</td>\n",
       "      <td>concert_goer_1281</td>\n",
       "      <td>146.0</td>\n",
       "      <td>Canada</td>\n",
       "      <td>Best Concert Ever</td>\n",
       "    </tr>\n",
       "  </tbody>\n",
       "</table>\n",
       "<p>170000 rows × 19 columns</p>\n",
       "</div>"
      ],
      "text/plain": [
       "                              Id                      Band Name  \\\n",
       "0       ConcertExperience_180106    Teenage Crazy Blue Knickers   \n",
       "1       ConcertExperience_146268                   Beyond Devon   \n",
       "2       ConcertExperience_128743                     Ron Talent   \n",
       "3       ConcertExperience_140839                  Devon Revival   \n",
       "4        ConcertExperience_19149                   Beyond Devon   \n",
       "...                          ...                            ...   \n",
       "169995   ConcertExperience_14055            Crazy Joystick Cult   \n",
       "169996  ConcertExperience_192792            Crazy Joystick Cult   \n",
       "169997  ConcertExperience_152942                Why Frogs, Why?   \n",
       "169998  ConcertExperience_138957  Twilight of the Joystick Gods   \n",
       "169999  ConcertExperience_132336                Joystick Attack   \n",
       "\n",
       "            Band Genre          Band Country of Origin  Band Debut  \\\n",
       "0       Indie/Alt Rock  United States of America (USA)      1976.0   \n",
       "1            Pop Music  United States of America (USA)      1968.0   \n",
       "2          Rock n Roll                          Canada      1955.0   \n",
       "3                  RnB  United States of America (USA)      1992.0   \n",
       "4            Pop Music  United States of America (USA)      1968.0   \n",
       "...                ...                             ...         ...   \n",
       "169995             RnB                          Canada      1985.0   \n",
       "169996             RnB                          Canada      1985.0   \n",
       "169997     Heavy Metal                          Canada      2005.0   \n",
       "169998     Hip Hop/Rap  United States of America (USA)      1995.0   \n",
       "169999     Heavy Metal             United Kingdom (UK)      2008.0   \n",
       "\n",
       "        Concert ID  Concert Attendance Inside Venue   Rain Seated  \\\n",
       "0            900.0              2980.0        False  False    NaN   \n",
       "1            731.0                54.0         True  False   True   \n",
       "2              NaN            162754.0        False  False   True   \n",
       "3            704.0              8103.0        False   True  False   \n",
       "4             95.0                54.0        False  False  False   \n",
       "...            ...                 ...          ...    ...    ...   \n",
       "169995        70.0            162754.0         True  False  False   \n",
       "169996       963.0                54.0        False  False  False   \n",
       "169997       764.0                54.0        False  False  False   \n",
       "169998       694.0             22026.0        False   True   True   \n",
       "169999       661.0              2980.0         True  False  False   \n",
       "\n",
       "        Personnality Trait 1  Personnality Trait 2  Personnality Trait 3  \\\n",
       "0                   0.330843             -0.958408             -0.943548   \n",
       "1                  -2.069449              0.017777             -1.910675   \n",
       "2                  -0.484268              1.968772             -0.064167   \n",
       "3                  -0.858054              1.022827             -0.348389   \n",
       "4                  -0.793029             -1.166528             -0.043766   \n",
       "...                      ...                   ...                   ...   \n",
       "169995             -0.095021              0.175175              0.914245   \n",
       "169996             -0.733719             -0.285776             -0.323312   \n",
       "169997              0.744969             -0.965547              1.020598   \n",
       "169998              0.821976              0.351411              0.175762   \n",
       "169999             -1.017410              0.883248             -0.184107   \n",
       "\n",
       "        Personnality Trait 4  Concert Goer Age    Concert Goer ID  \\\n",
       "0                  -1.636806              29.0  concert_goer_1985   \n",
       "1                   0.610265              43.0  concert_goer_1874   \n",
       "2                  -1.260871              68.0   concert_goer_442   \n",
       "3                  -1.147251              17.0  concert_goer_1149   \n",
       "4                   0.969661              59.0   concert_goer_930   \n",
       "...                      ...               ...                ...   \n",
       "169995              0.357359              50.0   concert_goer_707   \n",
       "169996              0.641180              71.0  concert_goer_1373   \n",
       "169997              1.027389              27.0  concert_goer_1286   \n",
       "169998              1.455654              39.0  concert_goer_1845   \n",
       "169999              0.631731              46.0  concert_goer_1281   \n",
       "\n",
       "        Height (cm)  Concert Goer Country of Origin   Concert Enjoyment  \n",
       "0             140.0                        Paraguay       Did Not Enjoy  \n",
       "1             158.0             United Kingdom (UK)             Enjoyed  \n",
       "2             159.0  United States of America (USA)       Did Not Enjoy  \n",
       "3             150.0                          Canada  Worst Concert Ever  \n",
       "4             166.0             United Kingdom (UK)       Did Not Enjoy  \n",
       "...             ...                             ...                 ...  \n",
       "169995        180.0  United States of America (USA)       Did Not Enjoy  \n",
       "169996        143.0                        Bulgaria  Worst Concert Ever  \n",
       "169997        176.0                          Canada       Did Not Enjoy  \n",
       "169998        176.0                          Canada       Did Not Enjoy  \n",
       "169999        146.0                          Canada   Best Concert Ever  \n",
       "\n",
       "[170000 rows x 19 columns]"
      ]
     },
     "execution_count": 2,
     "metadata": {},
     "output_type": "execute_result"
    }
   ],
   "source": [
    "train_data"
   ]
  },
  {
   "cell_type": "code",
   "execution_count": 3,
   "metadata": {},
   "outputs": [
    {
     "data": {
      "text/html": [
       "<div>\n",
       "<style scoped>\n",
       "    .dataframe tbody tr th:only-of-type {\n",
       "        vertical-align: middle;\n",
       "    }\n",
       "\n",
       "    .dataframe tbody tr th {\n",
       "        vertical-align: top;\n",
       "    }\n",
       "\n",
       "    .dataframe thead th {\n",
       "        text-align: right;\n",
       "    }\n",
       "</style>\n",
       "<table border=\"1\" class=\"dataframe\">\n",
       "  <thead>\n",
       "    <tr style=\"text-align: right;\">\n",
       "      <th></th>\n",
       "      <th>Id</th>\n",
       "      <th>Band Name</th>\n",
       "      <th>Band Genre</th>\n",
       "      <th>Band Country of Origin</th>\n",
       "      <th>Band Debut</th>\n",
       "      <th>Concert ID</th>\n",
       "      <th>Concert Attendance</th>\n",
       "      <th>Inside Venue</th>\n",
       "      <th>Rain</th>\n",
       "      <th>Seated</th>\n",
       "      <th>Personnality Trait 1</th>\n",
       "      <th>Personnality Trait 2</th>\n",
       "      <th>Personnality Trait 3</th>\n",
       "      <th>Personnality Trait 4</th>\n",
       "      <th>Concert Goer Age</th>\n",
       "      <th>Concert Goer ID</th>\n",
       "      <th>Height (cm)</th>\n",
       "      <th>Concert Goer Country of Origin</th>\n",
       "    </tr>\n",
       "  </thead>\n",
       "  <tbody>\n",
       "    <tr>\n",
       "      <th>0</th>\n",
       "      <td>ConcertExperience_70055</td>\n",
       "      <td>The Crazy Heroes of Devon</td>\n",
       "      <td>Rock n Roll</td>\n",
       "      <td>United States of America (USA)</td>\n",
       "      <td>1980.0</td>\n",
       "      <td>350.0</td>\n",
       "      <td>2980.0</td>\n",
       "      <td>True</td>\n",
       "      <td>False</td>\n",
       "      <td>True</td>\n",
       "      <td>1.065107</td>\n",
       "      <td>0.057660</td>\n",
       "      <td>0.249639</td>\n",
       "      <td>-0.933976</td>\n",
       "      <td>74.0</td>\n",
       "      <td>concert_goer_1587</td>\n",
       "      <td>165.0</td>\n",
       "      <td>United States of America (USA)</td>\n",
       "    </tr>\n",
       "    <tr>\n",
       "      <th>1</th>\n",
       "      <td>ConcertExperience_34799</td>\n",
       "      <td>Joystick for the Jockies</td>\n",
       "      <td>Hip Hop/Rap</td>\n",
       "      <td>United States of America (USA)</td>\n",
       "      <td>2014.0</td>\n",
       "      <td>173.0</td>\n",
       "      <td>8103.0</td>\n",
       "      <td>True</td>\n",
       "      <td>True</td>\n",
       "      <td>False</td>\n",
       "      <td>-0.886947</td>\n",
       "      <td>0.801365</td>\n",
       "      <td>0.525624</td>\n",
       "      <td>0.176655</td>\n",
       "      <td>29.0</td>\n",
       "      <td>concert_goer_293</td>\n",
       "      <td>151.0</td>\n",
       "      <td>Kenya</td>\n",
       "    </tr>\n",
       "    <tr>\n",
       "      <th>2</th>\n",
       "      <td>ConcertExperience_100410</td>\n",
       "      <td>Puddle of Joystick</td>\n",
       "      <td>Rock n Roll</td>\n",
       "      <td>Canada</td>\n",
       "      <td>2010.0</td>\n",
       "      <td>502.0</td>\n",
       "      <td>2980.0</td>\n",
       "      <td>True</td>\n",
       "      <td>True</td>\n",
       "      <td>False</td>\n",
       "      <td>0.744700</td>\n",
       "      <td>-0.797531</td>\n",
       "      <td>-0.034166</td>\n",
       "      <td>-0.226052</td>\n",
       "      <td>27.0</td>\n",
       "      <td>concert_goer_1068</td>\n",
       "      <td>146.0</td>\n",
       "      <td>Canada</td>\n",
       "    </tr>\n",
       "    <tr>\n",
       "      <th>3</th>\n",
       "      <td>ConcertExperience_106446</td>\n",
       "      <td>Flight of the Knickers</td>\n",
       "      <td>NaN</td>\n",
       "      <td>Canada</td>\n",
       "      <td>2014.0</td>\n",
       "      <td>532.0</td>\n",
       "      <td>22026.0</td>\n",
       "      <td>True</td>\n",
       "      <td>False</td>\n",
       "      <td>False</td>\n",
       "      <td>-0.134180</td>\n",
       "      <td>-0.361512</td>\n",
       "      <td>0.969404</td>\n",
       "      <td>-2.341205</td>\n",
       "      <td>38.0</td>\n",
       "      <td>concert_goer_1315</td>\n",
       "      <td>183.0</td>\n",
       "      <td>United States of America (USA)</td>\n",
       "    </tr>\n",
       "    <tr>\n",
       "      <th>4</th>\n",
       "      <td>ConcertExperience_127249</td>\n",
       "      <td>Devon Revival</td>\n",
       "      <td>RnB</td>\n",
       "      <td>United States of America (USA)</td>\n",
       "      <td>1992.0</td>\n",
       "      <td>636.0</td>\n",
       "      <td>2980.0</td>\n",
       "      <td>False</td>\n",
       "      <td>False</td>\n",
       "      <td>False</td>\n",
       "      <td>1.407366</td>\n",
       "      <td>-0.084155</td>\n",
       "      <td>-0.673233</td>\n",
       "      <td>1.733714</td>\n",
       "      <td>21.0</td>\n",
       "      <td>concert_goer_1777</td>\n",
       "      <td>177.0</td>\n",
       "      <td>Fiji</td>\n",
       "    </tr>\n",
       "    <tr>\n",
       "      <th>...</th>\n",
       "      <td>...</td>\n",
       "      <td>...</td>\n",
       "      <td>...</td>\n",
       "      <td>...</td>\n",
       "      <td>...</td>\n",
       "      <td>...</td>\n",
       "      <td>...</td>\n",
       "      <td>...</td>\n",
       "      <td>...</td>\n",
       "      <td>...</td>\n",
       "      <td>...</td>\n",
       "      <td>...</td>\n",
       "      <td>...</td>\n",
       "      <td>...</td>\n",
       "      <td>...</td>\n",
       "      <td>...</td>\n",
       "      <td>...</td>\n",
       "      <td>...</td>\n",
       "    </tr>\n",
       "    <tr>\n",
       "      <th>29995</th>\n",
       "      <td>ConcertExperience_82288</td>\n",
       "      <td>Joystick of the Big Knickers</td>\n",
       "      <td>Hip Hop/Rap</td>\n",
       "      <td>United States of America (USA)</td>\n",
       "      <td>1979.0</td>\n",
       "      <td>411.0</td>\n",
       "      <td>2980.0</td>\n",
       "      <td>True</td>\n",
       "      <td>False</td>\n",
       "      <td>False</td>\n",
       "      <td>-0.421714</td>\n",
       "      <td>-1.549670</td>\n",
       "      <td>-0.351770</td>\n",
       "      <td>0.132489</td>\n",
       "      <td>42.0</td>\n",
       "      <td>concert_goer_1710</td>\n",
       "      <td>178.0</td>\n",
       "      <td>United States of America (USA)</td>\n",
       "    </tr>\n",
       "    <tr>\n",
       "      <th>29996</th>\n",
       "      <td>ConcertExperience_27139</td>\n",
       "      <td>Big Division</td>\n",
       "      <td>Hip Hop/Rap</td>\n",
       "      <td>United States of America (USA)</td>\n",
       "      <td>1978.0</td>\n",
       "      <td>135.0</td>\n",
       "      <td>8103.0</td>\n",
       "      <td>True</td>\n",
       "      <td>False</td>\n",
       "      <td>False</td>\n",
       "      <td>0.615087</td>\n",
       "      <td>-0.047092</td>\n",
       "      <td>0.339228</td>\n",
       "      <td>0.820159</td>\n",
       "      <td>37.0</td>\n",
       "      <td>concert_goer_1758</td>\n",
       "      <td>186.0</td>\n",
       "      <td>Canada</td>\n",
       "    </tr>\n",
       "    <tr>\n",
       "      <th>29997</th>\n",
       "      <td>ConcertExperience_197434</td>\n",
       "      <td>Crazyplay</td>\n",
       "      <td>Pop Music</td>\n",
       "      <td>United States of America (USA)</td>\n",
       "      <td>1995.0</td>\n",
       "      <td>987.0</td>\n",
       "      <td>8103.0</td>\n",
       "      <td>False</td>\n",
       "      <td>False</td>\n",
       "      <td>True</td>\n",
       "      <td>-1.396551</td>\n",
       "      <td>-0.508627</td>\n",
       "      <td>-1.692584</td>\n",
       "      <td>1.640931</td>\n",
       "      <td>45.0</td>\n",
       "      <td>concert_goer_1481</td>\n",
       "      <td>158.0</td>\n",
       "      <td>Greece</td>\n",
       "    </tr>\n",
       "    <tr>\n",
       "      <th>29998</th>\n",
       "      <td>ConcertExperience_166029</td>\n",
       "      <td>Lord of the Crazy Frogs</td>\n",
       "      <td>RnB</td>\n",
       "      <td>United States of America (USA)</td>\n",
       "      <td>1968.0</td>\n",
       "      <td>830.0</td>\n",
       "      <td>8103.0</td>\n",
       "      <td>False</td>\n",
       "      <td>True</td>\n",
       "      <td>False</td>\n",
       "      <td>0.168073</td>\n",
       "      <td>-0.785460</td>\n",
       "      <td>0.898273</td>\n",
       "      <td>1.608389</td>\n",
       "      <td>36.0</td>\n",
       "      <td>concert_goer_1461</td>\n",
       "      <td>170.0</td>\n",
       "      <td>United Kingdom (UK)</td>\n",
       "    </tr>\n",
       "    <tr>\n",
       "      <th>29999</th>\n",
       "      <td>ConcertExperience_24025</td>\n",
       "      <td>Crazy Dream and a Pinch of Joystick</td>\n",
       "      <td>Heavy Metal</td>\n",
       "      <td>United States of America (USA)</td>\n",
       "      <td>1995.0</td>\n",
       "      <td>120.0</td>\n",
       "      <td>54.0</td>\n",
       "      <td>False</td>\n",
       "      <td>True</td>\n",
       "      <td>False</td>\n",
       "      <td>-0.248370</td>\n",
       "      <td>-0.809340</td>\n",
       "      <td>0.085226</td>\n",
       "      <td>-0.133507</td>\n",
       "      <td>47.0</td>\n",
       "      <td>concert_goer_1617</td>\n",
       "      <td>189.0</td>\n",
       "      <td>Canada</td>\n",
       "    </tr>\n",
       "  </tbody>\n",
       "</table>\n",
       "<p>30000 rows × 18 columns</p>\n",
       "</div>"
      ],
      "text/plain": [
       "                             Id                            Band Name  \\\n",
       "0       ConcertExperience_70055            The Crazy Heroes of Devon   \n",
       "1       ConcertExperience_34799             Joystick for the Jockies   \n",
       "2      ConcertExperience_100410                   Puddle of Joystick   \n",
       "3      ConcertExperience_106446               Flight of the Knickers   \n",
       "4      ConcertExperience_127249                        Devon Revival   \n",
       "...                         ...                                  ...   \n",
       "29995   ConcertExperience_82288         Joystick of the Big Knickers   \n",
       "29996   ConcertExperience_27139                         Big Division   \n",
       "29997  ConcertExperience_197434                            Crazyplay   \n",
       "29998  ConcertExperience_166029              Lord of the Crazy Frogs   \n",
       "29999   ConcertExperience_24025  Crazy Dream and a Pinch of Joystick   \n",
       "\n",
       "        Band Genre          Band Country of Origin  Band Debut  Concert ID  \\\n",
       "0      Rock n Roll  United States of America (USA)      1980.0       350.0   \n",
       "1      Hip Hop/Rap  United States of America (USA)      2014.0       173.0   \n",
       "2      Rock n Roll                          Canada      2010.0       502.0   \n",
       "3              NaN                          Canada      2014.0       532.0   \n",
       "4              RnB  United States of America (USA)      1992.0       636.0   \n",
       "...            ...                             ...         ...         ...   \n",
       "29995  Hip Hop/Rap  United States of America (USA)      1979.0       411.0   \n",
       "29996  Hip Hop/Rap  United States of America (USA)      1978.0       135.0   \n",
       "29997    Pop Music  United States of America (USA)      1995.0       987.0   \n",
       "29998          RnB  United States of America (USA)      1968.0       830.0   \n",
       "29999  Heavy Metal  United States of America (USA)      1995.0       120.0   \n",
       "\n",
       "       Concert Attendance Inside Venue   Rain Seated  Personnality Trait 1  \\\n",
       "0                  2980.0         True  False   True              1.065107   \n",
       "1                  8103.0         True   True  False             -0.886947   \n",
       "2                  2980.0         True   True  False              0.744700   \n",
       "3                 22026.0         True  False  False             -0.134180   \n",
       "4                  2980.0        False  False  False              1.407366   \n",
       "...                   ...          ...    ...    ...                   ...   \n",
       "29995              2980.0         True  False  False             -0.421714   \n",
       "29996              8103.0         True  False  False              0.615087   \n",
       "29997              8103.0        False  False   True             -1.396551   \n",
       "29998              8103.0        False   True  False              0.168073   \n",
       "29999                54.0        False   True  False             -0.248370   \n",
       "\n",
       "       Personnality Trait 2  Personnality Trait 3  Personnality Trait 4  \\\n",
       "0                  0.057660              0.249639             -0.933976   \n",
       "1                  0.801365              0.525624              0.176655   \n",
       "2                 -0.797531             -0.034166             -0.226052   \n",
       "3                 -0.361512              0.969404             -2.341205   \n",
       "4                 -0.084155             -0.673233              1.733714   \n",
       "...                     ...                   ...                   ...   \n",
       "29995             -1.549670             -0.351770              0.132489   \n",
       "29996             -0.047092              0.339228              0.820159   \n",
       "29997             -0.508627             -1.692584              1.640931   \n",
       "29998             -0.785460              0.898273              1.608389   \n",
       "29999             -0.809340              0.085226             -0.133507   \n",
       "\n",
       "       Concert Goer Age    Concert Goer ID  Height (cm)  \\\n",
       "0                  74.0  concert_goer_1587        165.0   \n",
       "1                  29.0   concert_goer_293        151.0   \n",
       "2                  27.0  concert_goer_1068        146.0   \n",
       "3                  38.0  concert_goer_1315        183.0   \n",
       "4                  21.0  concert_goer_1777        177.0   \n",
       "...                 ...                ...          ...   \n",
       "29995              42.0  concert_goer_1710        178.0   \n",
       "29996              37.0  concert_goer_1758        186.0   \n",
       "29997              45.0  concert_goer_1481        158.0   \n",
       "29998              36.0  concert_goer_1461        170.0   \n",
       "29999              47.0  concert_goer_1617        189.0   \n",
       "\n",
       "       Concert Goer Country of Origin  \n",
       "0      United States of America (USA)  \n",
       "1                               Kenya  \n",
       "2                              Canada  \n",
       "3      United States of America (USA)  \n",
       "4                                Fiji  \n",
       "...                               ...  \n",
       "29995  United States of America (USA)  \n",
       "29996                          Canada  \n",
       "29997                          Greece  \n",
       "29998             United Kingdom (UK)  \n",
       "29999                          Canada  \n",
       "\n",
       "[30000 rows x 18 columns]"
      ]
     },
     "execution_count": 3,
     "metadata": {},
     "output_type": "execute_result"
    }
   ],
   "source": [
    "valid_data"
   ]
  },
  {
   "cell_type": "code",
   "execution_count": 4,
   "metadata": {},
   "outputs": [
    {
     "data": {
      "text/plain": [
       "Id                                  0\n",
       "Band Name                         859\n",
       "Band Genre                        884\n",
       "Band Country of Origin            790\n",
       "Band Debut                        857\n",
       "Concert ID                        870\n",
       "Concert Attendance                895\n",
       "Inside Venue                      838\n",
       "Rain                              861\n",
       "Seated                            832\n",
       "Personnality Trait 1              852\n",
       "Personnality Trait 2              849\n",
       "Personnality Trait 3              893\n",
       "Personnality Trait 4              865\n",
       "Concert Goer Age                  853\n",
       "Concert Goer ID                   815\n",
       "Height (cm)                       847\n",
       "Concert Goer Country of Origin    859\n",
       "Concert Enjoyment                   0\n",
       "dtype: int64"
      ]
     },
     "execution_count": 4,
     "metadata": {},
     "output_type": "execute_result"
    }
   ],
   "source": [
    "#Count the number of NaN in each column\n",
    "\n",
    "train_data.isnull().sum()"
   ]
  },
  {
   "cell_type": "code",
   "execution_count": 257,
   "metadata": {},
   "outputs": [],
   "source": [
    "# Preprocessing pipeline : \n",
    "# Concert all \"Insert... \" to NaN\n",
    "# Drop 'Concert Goer ID' and 'Id' columns\n",
    "# Impute 'Concert Goer Age' with median\n",
    "# Impute 'Height' with median\n",
    "# One hot encode 'Band Name', 'Band Genre', 'Band Country of Origin', 'Concert Goer Country of Origin'\n",
    "\n",
    "# Convert \"Insert Band Name\" \"Insert Band Genre\" \"Insert Band Country of Origin\" to NaN\n",
    "\n",
    "from sklearn.impute import SimpleImputer\n",
    "from sklearn.preprocessing import OneHotEncoder\n",
    "\n",
    "from sklearn.pipeline import make_pipeline\n",
    "from sklearn.compose import make_column_transformer\n",
    "\n",
    "\n",
    "from sklearn.metrics import f1_score\n",
    "\n",
    "from sklearn.linear_model import LogisticRegression\n",
    "from sklearn.ensemble import RandomForestClassifier\n",
    "from sklearn.tree import DecisionTreeClassifier\n",
    "from sklearn.neighbors import KNeighborsClassifier\n",
    "from sklearn.naive_bayes import GaussianNB\n",
    "from sklearn.ensemble import BaggingClassifier\n",
    "from sklearn.neural_network import MLPClassifier\n",
    "from sklearn.ensemble import AdaBoostClassifier\n",
    "from sklearn.ensemble import GradientBoostingClassifier\n",
    "from sklearn.ensemble import ExtraTreesClassifier\n",
    "from xgboost import XGBClassifier\n",
    "\n",
    "from sklearn.model_selection import train_test_split\n",
    "\n",
    "from sklearn.model_selection import GridSearchCV"
   ]
  },
  {
   "cell_type": "code",
   "execution_count": 258,
   "metadata": {},
   "outputs": [],
   "source": [
    "train_data = train_data.replace({'Insert Band Name':np.nan, 'Insert Band Genre':np.nan, 'Insert Band Country of Origin':np.nan})\n",
    "valid_data = valid_data.replace({'Insert Band Name':np.nan, 'Insert Band Genre':np.nan, 'Insert Band Country of Origin':np.nan})"
   ]
  },
  {
   "cell_type": "code",
   "execution_count": 259,
   "metadata": {},
   "outputs": [],
   "source": [
    "# remove \"Concert Goer ID\" and \"Concert ID\" column\n",
    "train_data = train_data.drop(['Concert Goer ID'], axis=1)\n",
    "train_data = train_data.drop(['Id'], axis=1)\n",
    "\n",
    "valid_data = valid_data.drop(['Concert Goer ID'], axis=1)\n",
    "valid_data = valid_data.drop(['Id'], axis=1)"
   ]
  },
  {
   "cell_type": "code",
   "execution_count": 260,
   "metadata": {},
   "outputs": [],
   "source": [
    "X = train_data.drop(['Concert Enjoyment'], axis=1)\n",
    "y = train_data['Concert Enjoyment']"
   ]
  },
  {
   "cell_type": "code",
   "execution_count": 261,
   "metadata": {},
   "outputs": [
    {
     "data": {
      "text/html": [
       "<div>\n",
       "<style scoped>\n",
       "    .dataframe tbody tr th:only-of-type {\n",
       "        vertical-align: middle;\n",
       "    }\n",
       "\n",
       "    .dataframe tbody tr th {\n",
       "        vertical-align: top;\n",
       "    }\n",
       "\n",
       "    .dataframe thead th {\n",
       "        text-align: right;\n",
       "    }\n",
       "</style>\n",
       "<table border=\"1\" class=\"dataframe\">\n",
       "  <thead>\n",
       "    <tr style=\"text-align: right;\">\n",
       "      <th></th>\n",
       "      <th>Band Name</th>\n",
       "      <th>Band Genre</th>\n",
       "      <th>Band Country of Origin</th>\n",
       "      <th>Band Debut</th>\n",
       "      <th>Concert ID</th>\n",
       "      <th>Concert Attendance</th>\n",
       "      <th>Inside Venue</th>\n",
       "      <th>Rain</th>\n",
       "      <th>Seated</th>\n",
       "      <th>Personnality Trait 1</th>\n",
       "      <th>Personnality Trait 2</th>\n",
       "      <th>Personnality Trait 3</th>\n",
       "      <th>Personnality Trait 4</th>\n",
       "      <th>Concert Goer Age</th>\n",
       "      <th>Height (cm)</th>\n",
       "      <th>Concert Goer Country of Origin</th>\n",
       "    </tr>\n",
       "  </thead>\n",
       "  <tbody>\n",
       "    <tr>\n",
       "      <th>0</th>\n",
       "      <td>Teenage Crazy Blue Knickers</td>\n",
       "      <td>Indie/Alt Rock</td>\n",
       "      <td>United States of America (USA)</td>\n",
       "      <td>1976.0</td>\n",
       "      <td>900.0</td>\n",
       "      <td>2980.0</td>\n",
       "      <td>False</td>\n",
       "      <td>False</td>\n",
       "      <td>NaN</td>\n",
       "      <td>0.330843</td>\n",
       "      <td>-0.958408</td>\n",
       "      <td>-0.943548</td>\n",
       "      <td>-1.636806</td>\n",
       "      <td>29.0</td>\n",
       "      <td>140.0</td>\n",
       "      <td>Paraguay</td>\n",
       "    </tr>\n",
       "    <tr>\n",
       "      <th>1</th>\n",
       "      <td>Beyond Devon</td>\n",
       "      <td>Pop Music</td>\n",
       "      <td>United States of America (USA)</td>\n",
       "      <td>1968.0</td>\n",
       "      <td>731.0</td>\n",
       "      <td>54.0</td>\n",
       "      <td>True</td>\n",
       "      <td>False</td>\n",
       "      <td>True</td>\n",
       "      <td>-2.069449</td>\n",
       "      <td>0.017777</td>\n",
       "      <td>-1.910675</td>\n",
       "      <td>0.610265</td>\n",
       "      <td>43.0</td>\n",
       "      <td>158.0</td>\n",
       "      <td>United Kingdom (UK)</td>\n",
       "    </tr>\n",
       "    <tr>\n",
       "      <th>2</th>\n",
       "      <td>Ron Talent</td>\n",
       "      <td>Rock n Roll</td>\n",
       "      <td>Canada</td>\n",
       "      <td>1955.0</td>\n",
       "      <td>NaN</td>\n",
       "      <td>162754.0</td>\n",
       "      <td>False</td>\n",
       "      <td>False</td>\n",
       "      <td>True</td>\n",
       "      <td>-0.484268</td>\n",
       "      <td>1.968772</td>\n",
       "      <td>-0.064167</td>\n",
       "      <td>-1.260871</td>\n",
       "      <td>68.0</td>\n",
       "      <td>159.0</td>\n",
       "      <td>United States of America (USA)</td>\n",
       "    </tr>\n",
       "    <tr>\n",
       "      <th>3</th>\n",
       "      <td>Devon Revival</td>\n",
       "      <td>RnB</td>\n",
       "      <td>United States of America (USA)</td>\n",
       "      <td>1992.0</td>\n",
       "      <td>704.0</td>\n",
       "      <td>8103.0</td>\n",
       "      <td>False</td>\n",
       "      <td>True</td>\n",
       "      <td>False</td>\n",
       "      <td>-0.858054</td>\n",
       "      <td>1.022827</td>\n",
       "      <td>-0.348389</td>\n",
       "      <td>-1.147251</td>\n",
       "      <td>17.0</td>\n",
       "      <td>150.0</td>\n",
       "      <td>Canada</td>\n",
       "    </tr>\n",
       "    <tr>\n",
       "      <th>4</th>\n",
       "      <td>Beyond Devon</td>\n",
       "      <td>Pop Music</td>\n",
       "      <td>United States of America (USA)</td>\n",
       "      <td>1968.0</td>\n",
       "      <td>95.0</td>\n",
       "      <td>54.0</td>\n",
       "      <td>False</td>\n",
       "      <td>False</td>\n",
       "      <td>False</td>\n",
       "      <td>-0.793029</td>\n",
       "      <td>-1.166528</td>\n",
       "      <td>-0.043766</td>\n",
       "      <td>0.969661</td>\n",
       "      <td>59.0</td>\n",
       "      <td>166.0</td>\n",
       "      <td>United Kingdom (UK)</td>\n",
       "    </tr>\n",
       "  </tbody>\n",
       "</table>\n",
       "</div>"
      ],
      "text/plain": [
       "                     Band Name      Band Genre  \\\n",
       "0  Teenage Crazy Blue Knickers  Indie/Alt Rock   \n",
       "1                 Beyond Devon       Pop Music   \n",
       "2                   Ron Talent     Rock n Roll   \n",
       "3                Devon Revival             RnB   \n",
       "4                 Beyond Devon       Pop Music   \n",
       "\n",
       "           Band Country of Origin  Band Debut  Concert ID  Concert Attendance  \\\n",
       "0  United States of America (USA)      1976.0       900.0              2980.0   \n",
       "1  United States of America (USA)      1968.0       731.0                54.0   \n",
       "2                          Canada      1955.0         NaN            162754.0   \n",
       "3  United States of America (USA)      1992.0       704.0              8103.0   \n",
       "4  United States of America (USA)      1968.0        95.0                54.0   \n",
       "\n",
       "  Inside Venue   Rain Seated  Personnality Trait 1  Personnality Trait 2  \\\n",
       "0        False  False    NaN              0.330843             -0.958408   \n",
       "1         True  False   True             -2.069449              0.017777   \n",
       "2        False  False   True             -0.484268              1.968772   \n",
       "3        False   True  False             -0.858054              1.022827   \n",
       "4        False  False  False             -0.793029             -1.166528   \n",
       "\n",
       "   Personnality Trait 3  Personnality Trait 4  Concert Goer Age  Height (cm)  \\\n",
       "0             -0.943548             -1.636806              29.0        140.0   \n",
       "1             -1.910675              0.610265              43.0        158.0   \n",
       "2             -0.064167             -1.260871              68.0        159.0   \n",
       "3             -0.348389             -1.147251              17.0        150.0   \n",
       "4             -0.043766              0.969661              59.0        166.0   \n",
       "\n",
       "   Concert Goer Country of Origin  \n",
       "0                        Paraguay  \n",
       "1             United Kingdom (UK)  \n",
       "2  United States of America (USA)  \n",
       "3                          Canada  \n",
       "4             United Kingdom (UK)  "
      ]
     },
     "execution_count": 261,
     "metadata": {},
     "output_type": "execute_result"
    }
   ],
   "source": [
    "X.head()"
   ]
  },
  {
   "cell_type": "code",
   "execution_count": 262,
   "metadata": {},
   "outputs": [
    {
     "data": {
      "text/plain": [
       "0         Did Not Enjoy\n",
       "1               Enjoyed\n",
       "2         Did Not Enjoy\n",
       "3    Worst Concert Ever\n",
       "4         Did Not Enjoy\n",
       "Name: Concert Enjoyment, dtype: object"
      ]
     },
     "execution_count": 262,
     "metadata": {},
     "output_type": "execute_result"
    }
   ],
   "source": [
    "y.head()"
   ]
  },
  {
   "cell_type": "code",
   "execution_count": 263,
   "metadata": {},
   "outputs": [],
   "source": [
    "column_trans = make_column_transformer(\n",
    "    (OneHotEncoder(), ['Band Name', 'Band Genre', 'Band Country of Origin', 'Concert Goer Country of Origin']),\n",
    "    remainder='passthrough')\n",
    "# transform output into 4 classes\n",
    "y = y.replace({'Worst Concert Ever':0, 'Did Not Enjoy':1, 'Enjoyed':2, 'Best Concert Ever':3})\n"
   ]
  },
  {
   "cell_type": "code",
   "execution_count": 264,
   "metadata": {},
   "outputs": [],
   "source": [
    "# Split data into train and test set\n",
    "X_train, X_test, y_train, y_test = train_test_split(X, y, test_size=0.2, random_state=7)"
   ]
  },
  {
   "cell_type": "code",
   "execution_count": 265,
   "metadata": {},
   "outputs": [
    {
     "data": {
      "text/plain": [
       "<170000x231 sparse matrix of type '<class 'numpy.float64'>'\n",
       "\twith 2414289 stored elements in Compressed Sparse Row format>"
      ]
     },
     "execution_count": 265,
     "metadata": {},
     "output_type": "execute_result"
    }
   ],
   "source": [
    "column_trans.fit_transform(X)"
   ]
  },
  {
   "cell_type": "code",
   "execution_count": 266,
   "metadata": {},
   "outputs": [
    {
     "data": {
      "text/plain": [
       "0.6522058823529412"
      ]
     },
     "execution_count": 266,
     "metadata": {},
     "output_type": "execute_result"
    }
   ],
   "source": [
    "pipe = make_pipeline(column_trans, XGBClassifier(n_estimators = 1000, max_depth = 3, learning_rate = 0.1, colsample_bytree = 0.6, subsample = 0.6, objective = 'multi:softmax', num_class = 4, min_child_weight = 4, n_jobs = -1))\n",
    "pipe.fit(X_train, y_train)\n",
    "f1_score(y_test, pipe.predict(X_test), average='micro')"
   ]
  },
  {
   "cell_type": "code",
   "execution_count": 267,
   "metadata": {},
   "outputs": [
    {
     "data": {
      "text/plain": [
       "0.655264705882353"
      ]
     },
     "execution_count": 267,
     "metadata": {},
     "output_type": "execute_result"
    }
   ],
   "source": [
    "pipe = make_pipeline(column_trans, XGBClassifier(n_estimators = 1500, max_depth = 3, learning_rate = 0.1, colsample_bytree = 0.6, subsample = 0.6, objective = 'multi:softmax', num_class = 4, min_child_weight = 4, n_jobs = -1))\n",
    "pipe.fit(X_train, y_train)\n",
    "f1_score(y_test, pipe.predict(X_test), average='micro')"
   ]
  },
  {
   "cell_type": "code",
   "execution_count": 268,
   "metadata": {},
   "outputs": [
    {
     "data": {
      "text/plain": [
       "0.6575588235294118"
      ]
     },
     "execution_count": 268,
     "metadata": {},
     "output_type": "execute_result"
    }
   ],
   "source": [
    "pipe = make_pipeline(column_trans, XGBClassifier(n_estimators = 2000, max_depth = 3, learning_rate = 0.1, colsample_bytree = 0.6, subsample = 0.6, objective = 'multi:softmax', num_class = 4, min_child_weight = 4, n_jobs = -1))\n",
    "pipe.fit(X_train, y_train)\n",
    "f1_score(y_test, pipe.predict(X_test), average='micro')"
   ]
  },
  {
   "cell_type": "code",
   "execution_count": 269,
   "metadata": {},
   "outputs": [
    {
     "data": {
      "text/plain": [
       "0.6629411764705883"
      ]
     },
     "execution_count": 269,
     "metadata": {},
     "output_type": "execute_result"
    }
   ],
   "source": [
    "pipe = make_pipeline(column_trans, XGBClassifier(n_estimators = 1500, max_depth = 4, learning_rate = 0.1, colsample_bytree = 0.6, subsample = 0.6, objective = 'multi:softmax', num_class = 4, min_child_weight = 4, n_jobs = -1))\n",
    "pipe.fit(X_train, y_train)\n",
    "f1_score(y_test, pipe.predict(X_test), average='micro')"
   ]
  },
  {
   "cell_type": "code",
   "execution_count": 270,
   "metadata": {},
   "outputs": [
    {
     "data": {
      "text/plain": [
       "0.6674117647058824"
      ]
     },
     "execution_count": 270,
     "metadata": {},
     "output_type": "execute_result"
    }
   ],
   "source": [
    "pipe = make_pipeline(column_trans, XGBClassifier(n_estimators = 1500, max_depth = 5, learning_rate = 0.1, colsample_bytree = 0.6, subsample = 0.6, objective = 'multi:softmax', num_class = 4, min_child_weight = 4, n_jobs = -1))\n",
    "pipe.fit(X_train, y_train)\n",
    "f1_score(y_test, pipe.predict(X_test), average='micro')"
   ]
  },
  {
   "cell_type": "code",
   "execution_count": 271,
   "metadata": {},
   "outputs": [
    {
     "data": {
      "text/plain": [
       "0.6696176470588235"
      ]
     },
     "execution_count": 271,
     "metadata": {},
     "output_type": "execute_result"
    }
   ],
   "source": [
    "pipe = make_pipeline(column_trans, XGBClassifier(n_estimators = 1500, max_depth = 6, learning_rate = 0.1, colsample_bytree = 0.6, subsample = 0.6, objective = 'multi:softmax', num_class = 4, min_child_weight = 4, n_jobs = -1))\n",
    "pipe.fit(X_train, y_train)\n",
    "f1_score(y_test, pipe.predict(X_test), average='micro')"
   ]
  },
  {
   "cell_type": "code",
   "execution_count": 272,
   "metadata": {},
   "outputs": [
    {
     "data": {
      "text/plain": [
       "0.6667058823529411"
      ]
     },
     "execution_count": 272,
     "metadata": {},
     "output_type": "execute_result"
    }
   ],
   "source": [
    "pipe = make_pipeline(column_trans, XGBClassifier(n_estimators = 1500, max_depth = 5, learning_rate = 0.1, colsample_bytree = 0.7, subsample = 0.6, objective = 'multi:softmax', num_class = 4, min_child_weight = 4, n_jobs = -1))\n",
    "pipe.fit(X_train, y_train)\n",
    "f1_score(y_test, pipe.predict(X_test), average='micro')"
   ]
  },
  {
   "cell_type": "code",
   "execution_count": 273,
   "metadata": {},
   "outputs": [
    {
     "data": {
      "text/plain": [
       "0.6659117647058823"
      ]
     },
     "execution_count": 273,
     "metadata": {},
     "output_type": "execute_result"
    }
   ],
   "source": [
    "pipe = make_pipeline(column_trans, XGBClassifier(n_estimators = 1500, max_depth = 5, learning_rate = 0.1, colsample_bytree = 0.8, subsample = 0.6, objective = 'multi:softmax', num_class = 4, min_child_weight = 4, n_jobs = -1))\n",
    "pipe.fit(X_train, y_train)\n",
    "f1_score(y_test, pipe.predict(X_test), average='micro')"
   ]
  },
  {
   "cell_type": "code",
   "execution_count": 274,
   "metadata": {},
   "outputs": [
    {
     "data": {
      "text/plain": [
       "0.6674117647058824"
      ]
     },
     "execution_count": 274,
     "metadata": {},
     "output_type": "execute_result"
    }
   ],
   "source": [
    "pipe = make_pipeline(column_trans, XGBClassifier(n_estimators = 1500, max_depth = 5, learning_rate = 0.1, colsample_bytree = 0.9, subsample = 0.6, objective = 'multi:softmax', num_class = 4, min_child_weight = 4, n_jobs = -1))\n",
    "pipe.fit(X_train, y_train)\n",
    "f1_score(y_test, pipe.predict(X_test), average='micro')"
   ]
  },
  {
   "cell_type": "code",
   "execution_count": 275,
   "metadata": {},
   "outputs": [
    {
     "data": {
      "text/plain": [
       "0.6688235294117647"
      ]
     },
     "execution_count": 275,
     "metadata": {},
     "output_type": "execute_result"
    }
   ],
   "source": [
    "pipe = make_pipeline(column_trans, XGBClassifier(n_estimators = 1500, max_depth = 5, learning_rate = 0.1, colsample_bytree = 1, subsample = 0.6, objective = 'multi:softmax', num_class = 4, min_child_weight = 4, n_jobs = -1))\n",
    "pipe.fit(X_train, y_train)\n",
    "f1_score(y_test, pipe.predict(X_test), average='micro')"
   ]
  },
  {
   "cell_type": "code",
   "execution_count": 276,
   "metadata": {},
   "outputs": [
    {
     "data": {
      "text/plain": [
       "0.6681470588235294"
      ]
     },
     "execution_count": 276,
     "metadata": {},
     "output_type": "execute_result"
    }
   ],
   "source": [
    "pipe = make_pipeline(column_trans, XGBClassifier(n_estimators = 1500, max_depth = 5, learning_rate = 0.1, colsample_bytree = 0.8, subsample = 0.7, objective = 'multi:softmax', num_class = 4, min_child_weight = 4, n_jobs = -1))\n",
    "pipe.fit(X_train, y_train)\n",
    "f1_score(y_test, pipe.predict(X_test), average='micro')"
   ]
  },
  {
   "cell_type": "code",
   "execution_count": 277,
   "metadata": {},
   "outputs": [
    {
     "data": {
      "text/plain": [
       "0.6670882352941176"
      ]
     },
     "execution_count": 277,
     "metadata": {},
     "output_type": "execute_result"
    }
   ],
   "source": [
    "pipe = make_pipeline(column_trans, XGBClassifier(n_estimators = 1500, max_depth = 5, learning_rate = 0.1, colsample_bytree = 0.8, subsample = 0.8, objective = 'multi:softmax', num_class = 4, min_child_weight = 4, n_jobs = -1))\n",
    "pipe.fit(X_train, y_train)\n",
    "f1_score(y_test, pipe.predict(X_test), average='micro')"
   ]
  },
  {
   "cell_type": "code",
   "execution_count": 278,
   "metadata": {},
   "outputs": [
    {
     "data": {
      "text/plain": [
       "0.6675"
      ]
     },
     "execution_count": 278,
     "metadata": {},
     "output_type": "execute_result"
    }
   ],
   "source": [
    "pipe = make_pipeline(column_trans, XGBClassifier(n_estimators = 1500, max_depth = 5, learning_rate = 0.1, colsample_bytree = 0.8, subsample = 0.9, objective = 'multi:softmax', num_class = 4, min_child_weight = 4, n_jobs = -1))\n",
    "pipe.fit(X_train, y_train)\n",
    "f1_score(y_test, pipe.predict(X_test), average='micro')"
   ]
  },
  {
   "cell_type": "code",
   "execution_count": 279,
   "metadata": {},
   "outputs": [
    {
     "data": {
      "text/plain": [
       "0.6675"
      ]
     },
     "execution_count": 279,
     "metadata": {},
     "output_type": "execute_result"
    }
   ],
   "source": [
    "pipe = make_pipeline(column_trans, XGBClassifier(n_estimators = 1500, max_depth = 5, learning_rate = 0.1, colsample_bytree = 0.8, subsample = 0.9, objective = 'multi:softmax', num_class = 4, min_child_weight = 4, n_jobs = -1))\n",
    "pipe.fit(X_train, y_train)\n",
    "f1_score(y_test, pipe.predict(X_test), average='micro')"
   ]
  },
  {
   "cell_type": "code",
   "execution_count": 280,
   "metadata": {},
   "outputs": [
    {
     "data": {
      "text/plain": [
       "0.6669411764705883"
      ]
     },
     "execution_count": 280,
     "metadata": {},
     "output_type": "execute_result"
    }
   ],
   "source": [
    "pipe = make_pipeline(column_trans, XGBClassifier(n_estimators = 1500, max_depth = 5, learning_rate = 0.1, colsample_bytree = 0.8, subsample = 0.9, objective = 'multi:softmax', num_class = 4, min_child_weight = 3, n_jobs = -1))\n",
    "pipe.fit(X_train, y_train)\n",
    "f1_score(y_test, pipe.predict(X_test), average='micro')"
   ]
  },
  {
   "cell_type": "code",
   "execution_count": 281,
   "metadata": {},
   "outputs": [
    {
     "data": {
      "text/plain": [
       "0.6675294117647059"
      ]
     },
     "execution_count": 281,
     "metadata": {},
     "output_type": "execute_result"
    }
   ],
   "source": [
    "pipe = make_pipeline(column_trans, XGBClassifier(n_estimators = 1500, max_depth = 5, learning_rate = 0.1, colsample_bytree = 0.8, subsample = 0.6, objective = 'multi:softmax', num_class = 4, min_child_weight = 2, n_jobs = -1))\n",
    "pipe.fit(X_train, y_train)\n",
    "f1_score(y_test, pipe.predict(X_test), average='micro')"
   ]
  },
  {
   "cell_type": "code",
   "execution_count": 282,
   "metadata": {},
   "outputs": [
    {
     "data": {
      "text/plain": [
       "0.6671176470588235"
      ]
     },
     "execution_count": 282,
     "metadata": {},
     "output_type": "execute_result"
    }
   ],
   "source": [
    "pipe = make_pipeline(column_trans, XGBClassifier(n_estimators = 1500, max_depth = 5, learning_rate = 0.1, colsample_bytree = 0.8, subsample = 0.6, objective = 'multi:softmax', num_class = 4, min_child_weight = 5, n_jobs = -1))\n",
    "pipe.fit(X_train, y_train)\n",
    "f1_score(y_test, pipe.predict(X_test), average='micro')"
   ]
  },
  {
   "cell_type": "code",
   "execution_count": 283,
   "metadata": {},
   "outputs": [
    {
     "data": {
      "text/plain": [
       "0.6690588235294118"
      ]
     },
     "execution_count": 283,
     "metadata": {},
     "output_type": "execute_result"
    }
   ],
   "source": [
    "pipe = make_pipeline(column_trans, XGBClassifier(n_estimators = 2000, max_depth = 5, learning_rate = 0.1, colsample_bytree = 0.8, subsample = 0.9, objective = 'multi:softmax', num_class = 4, min_child_weight = 4, n_jobs = -1))\n",
    "pipe.fit(X_train, y_train)\n",
    "f1_score(y_test, pipe.predict(X_test), average='micro')"
   ]
  },
  {
   "cell_type": "code",
   "execution_count": 284,
   "metadata": {},
   "outputs": [
    {
     "data": {
      "text/plain": [
       "0.6698235294117647"
      ]
     },
     "execution_count": 284,
     "metadata": {},
     "output_type": "execute_result"
    }
   ],
   "source": [
    "pipe = make_pipeline(column_trans, XGBClassifier(n_estimators = 2500, max_depth = 5, learning_rate = 0.1, colsample_bytree = 0.8, subsample = 0.9, objective = 'multi:softmax', num_class = 4, min_child_weight = 4, n_jobs = -1))\n",
    "pipe.fit(X_train, y_train)\n",
    "f1_score(y_test, pipe.predict(X_test), average='micro')"
   ]
  },
  {
   "cell_type": "code",
   "execution_count": 285,
   "metadata": {},
   "outputs": [
    {
     "data": {
      "text/plain": [
       "0.6691470588235294"
      ]
     },
     "execution_count": 285,
     "metadata": {},
     "output_type": "execute_result"
    }
   ],
   "source": [
    "pipe = make_pipeline(column_trans, XGBClassifier(n_estimators = 3000, max_depth = 5, learning_rate = 0.1, colsample_bytree = 0.8, subsample = 0.9, objective = 'multi:softmax', num_class = 4, min_child_weight = 4, n_jobs = -1))\n",
    "pipe.fit(X_train, y_train)\n",
    "f1_score(y_test, pipe.predict(X_test), average='micro')"
   ]
  },
  {
   "cell_type": "code",
   "execution_count": 286,
   "metadata": {},
   "outputs": [
    {
     "data": {
      "text/plain": [
       "0.6688529411764705"
      ]
     },
     "execution_count": 286,
     "metadata": {},
     "output_type": "execute_result"
    }
   ],
   "source": [
    "pipe = make_pipeline(column_trans, XGBClassifier(n_estimators = 3500, max_depth = 5, learning_rate = 0.1, colsample_bytree = 0.8, subsample = 0.9, objective = 'multi:softmax', num_class = 4, min_child_weight = 4, n_jobs = -1))\n",
    "pipe.fit(X_train, y_train)\n",
    "f1_score(y_test, pipe.predict(X_test), average='micro')"
   ]
  },
  {
   "cell_type": "code",
   "execution_count": 287,
   "metadata": {},
   "outputs": [
    {
     "data": {
      "text/plain": [
       "0.668235294117647"
      ]
     },
     "execution_count": 287,
     "metadata": {},
     "output_type": "execute_result"
    }
   ],
   "source": [
    "pipe = make_pipeline(column_trans, XGBClassifier(n_estimators = 4000, max_depth = 5, learning_rate = 0.1, colsample_bytree = 0.8, subsample = 0.9, objective = 'multi:softmax', num_class = 4, min_child_weight = 4, n_jobs = -1))\n",
    "pipe.fit(X_train, y_train)\n",
    "f1_score(y_test, pipe.predict(X_test), average='micro')"
   ]
  },
  {
   "cell_type": "code",
   "execution_count": 288,
   "metadata": {},
   "outputs": [
    {
     "data": {
      "text/plain": [
       "0.667235294117647"
      ]
     },
     "execution_count": 288,
     "metadata": {},
     "output_type": "execute_result"
    }
   ],
   "source": [
    "pipe = make_pipeline(column_trans, XGBClassifier(n_estimators = 2500, max_depth = 5, learning_rate = 0.05, colsample_bytree = 0.8, subsample = 0.9, objective = 'multi:softmax', num_class = 4, min_child_weight = 4, n_jobs = -1))\n",
    "pipe.fit(X_train, y_train)\n",
    "f1_score(y_test, pipe.predict(X_test), average='micro')"
   ]
  },
  {
   "cell_type": "code",
   "execution_count": 250,
   "metadata": {},
   "outputs": [],
   "source": [
    "# Grid search for best parameters\n",
    "param_grid = {\n",
    "    'n_estimators': [1000, 1500, 2000],\n",
    "    'max_depth': [3,4, 5, 6, 7],\n",
    "    'learning_rate': [0.1,0.2],\n",
    "    'colsample_bytree': [0.6, 0.7, 0.8, 0.9, 1],\n",
    "    'subsample': [0.6, 0.7, 0.8, 0.9, 1],\n",
    "    'min_child_weight': [3, 4, 5, 6],\n",
    "    'objective': ['multi:softmax'],\n",
    "    'num_class': [4]\n",
    "}"
   ]
  },
  {
   "cell_type": "code",
   "execution_count": 251,
   "metadata": {},
   "outputs": [],
   "source": [
    "CV_clf = GridSearchCV(estimator=pipe, param_grid=param_grid, cv= 3, verbose=1, n_jobs=-1, scoring='f1_micro')"
   ]
  },
  {
   "cell_type": "code",
   "execution_count": 252,
   "metadata": {},
   "outputs": [
    {
     "name": "stdout",
     "output_type": "stream",
     "text": [
      "Fitting 3 folds for each of 3000 candidates, totalling 9000 fits\n"
     ]
    },
    {
     "ename": "ValueError",
     "evalue": "Invalid parameter 'colsample_bytree' for estimator Pipeline(steps=[('columntransformer',\n                 ColumnTransformer(remainder='passthrough',\n                                   transformers=[('onehotencoder',\n                                                  OneHotEncoder(),\n                                                  ['Band Name', 'Band Genre',\n                                                   'Band Country of Origin',\n                                                   'Concert Goer Country of '\n                                                   'Origin'])])),\n                ('xgbclassifier',\n                 XGBClassifier(base_score=None, booster=None, callbacks=None,\n                               colsample_bylevel=None, colsample_bynode=None,\n                               colsample_bytree=None,...\n                               feature_types=None, gamma=None, gpu_id=None,\n                               grow_policy=None, importance_type=None,\n                               interaction_constraints=None, learning_rate=None,\n                               max_bin=None, max_cat_threshold=None,\n                               max_cat_to_onehot=None, max_delta_step=None,\n                               max_depth=None, max_leaves=None,\n                               min_child_weight=None, missing=nan,\n                               monotone_constraints=None, n_estimators=100,\n                               n_jobs=None, num_parallel_tree=None,\n                               predictor=None, random_state=None, ...))]). Valid parameters are: ['memory', 'steps', 'verbose'].",
     "output_type": "error",
     "traceback": [
      "\u001b[1;31m---------------------------------------------------------------------------\u001b[0m",
      "\u001b[1;31m_RemoteTraceback\u001b[0m                          Traceback (most recent call last)",
      "\u001b[1;31m_RemoteTraceback\u001b[0m: \n\"\"\"\nTraceback (most recent call last):\n  File \"C:\\Users\\shahr\\AppData\\Local\\Packages\\PythonSoftwareFoundation.Python.3.10_qbz5n2kfra8p0\\LocalCache\\local-packages\\Python310\\site-packages\\joblib\\externals\\loky\\process_executor.py\", line 428, in _process_worker\n    r = call_item()\n  File \"C:\\Users\\shahr\\AppData\\Local\\Packages\\PythonSoftwareFoundation.Python.3.10_qbz5n2kfra8p0\\LocalCache\\local-packages\\Python310\\site-packages\\joblib\\externals\\loky\\process_executor.py\", line 275, in __call__\n    return self.fn(*self.args, **self.kwargs)\n  File \"C:\\Users\\shahr\\AppData\\Local\\Packages\\PythonSoftwareFoundation.Python.3.10_qbz5n2kfra8p0\\LocalCache\\local-packages\\Python310\\site-packages\\joblib\\_parallel_backends.py\", line 620, in __call__\n    return self.func(*args, **kwargs)\n  File \"C:\\Users\\shahr\\AppData\\Local\\Packages\\PythonSoftwareFoundation.Python.3.10_qbz5n2kfra8p0\\LocalCache\\local-packages\\Python310\\site-packages\\joblib\\parallel.py\", line 288, in __call__\n    return [func(*args, **kwargs)\n  File \"C:\\Users\\shahr\\AppData\\Local\\Packages\\PythonSoftwareFoundation.Python.3.10_qbz5n2kfra8p0\\LocalCache\\local-packages\\Python310\\site-packages\\joblib\\parallel.py\", line 288, in <listcomp>\n    return [func(*args, **kwargs)\n  File \"C:\\Users\\shahr\\AppData\\Local\\Packages\\PythonSoftwareFoundation.Python.3.10_qbz5n2kfra8p0\\LocalCache\\local-packages\\Python310\\site-packages\\sklearn\\utils\\fixes.py\", line 117, in __call__\n    return self.function(*args, **kwargs)\n  File \"C:\\Users\\shahr\\AppData\\Local\\Packages\\PythonSoftwareFoundation.Python.3.10_qbz5n2kfra8p0\\LocalCache\\local-packages\\Python310\\site-packages\\sklearn\\model_selection\\_validation.py\", line 674, in _fit_and_score\n    estimator = estimator.set_params(**cloned_parameters)\n  File \"C:\\Users\\shahr\\AppData\\Local\\Packages\\PythonSoftwareFoundation.Python.3.10_qbz5n2kfra8p0\\LocalCache\\local-packages\\Python310\\site-packages\\sklearn\\pipeline.py\", line 188, in set_params\n    self._set_params(\"steps\", **kwargs)\n  File \"C:\\Users\\shahr\\AppData\\Local\\Packages\\PythonSoftwareFoundation.Python.3.10_qbz5n2kfra8p0\\LocalCache\\local-packages\\Python310\\site-packages\\sklearn\\utils\\metaestimators.py\", line 72, in _set_params\n    super().set_params(**params)\n  File \"C:\\Users\\shahr\\AppData\\Local\\Packages\\PythonSoftwareFoundation.Python.3.10_qbz5n2kfra8p0\\LocalCache\\local-packages\\Python310\\site-packages\\sklearn\\base.py\", line 246, in set_params\n    raise ValueError(\nValueError: Invalid parameter 'colsample_bytree' for estimator Pipeline(steps=[('columntransformer',\n                 ColumnTransformer(remainder='passthrough',\n                                   transformers=[('onehotencoder',\n                                                  OneHotEncoder(),\n                                                  ['Band Name', 'Band Genre',\n                                                   'Band Country of Origin',\n                                                   'Concert Goer Country of '\n                                                   'Origin'])])),\n                ('xgbclassifier',\n                 XGBClassifier(base_score=None, booster=None, callbacks=None,\n                               colsample_bylevel=None, colsample_bynode=None,\n                               colsample_bytree=None,...\n                               feature_types=None, gamma=None, gpu_id=None,\n                               grow_policy=None, importance_type=None,\n                               interaction_constraints=None, learning_rate=None,\n                               max_bin=None, max_cat_threshold=None,\n                               max_cat_to_onehot=None, max_delta_step=None,\n                               max_depth=None, max_leaves=None,\n                               min_child_weight=None, missing=nan,\n                               monotone_constraints=None, n_estimators=100,\n                               n_jobs=None, num_parallel_tree=None,\n                               predictor=None, random_state=None, ...))]). Valid parameters are: ['memory', 'steps', 'verbose'].\n\"\"\"",
      "\nThe above exception was the direct cause of the following exception:\n",
      "\u001b[1;31mValueError\u001b[0m                                Traceback (most recent call last)",
      "Cell \u001b[1;32mIn [252], line 1\u001b[0m\n\u001b[1;32m----> 1\u001b[0m CV_clf\u001b[39m.\u001b[39;49mfit(X_train, y_train)\n",
      "File \u001b[1;32m~\\AppData\\Local\\Packages\\PythonSoftwareFoundation.Python.3.10_qbz5n2kfra8p0\\LocalCache\\local-packages\\Python310\\site-packages\\sklearn\\model_selection\\_search.py:875\u001b[0m, in \u001b[0;36mBaseSearchCV.fit\u001b[1;34m(self, X, y, groups, **fit_params)\u001b[0m\n\u001b[0;32m    869\u001b[0m     results \u001b[39m=\u001b[39m \u001b[39mself\u001b[39m\u001b[39m.\u001b[39m_format_results(\n\u001b[0;32m    870\u001b[0m         all_candidate_params, n_splits, all_out, all_more_results\n\u001b[0;32m    871\u001b[0m     )\n\u001b[0;32m    873\u001b[0m     \u001b[39mreturn\u001b[39;00m results\n\u001b[1;32m--> 875\u001b[0m \u001b[39mself\u001b[39;49m\u001b[39m.\u001b[39;49m_run_search(evaluate_candidates)\n\u001b[0;32m    877\u001b[0m \u001b[39m# multimetric is determined here because in the case of a callable\u001b[39;00m\n\u001b[0;32m    878\u001b[0m \u001b[39m# self.scoring the return type is only known after calling\u001b[39;00m\n\u001b[0;32m    879\u001b[0m first_test_score \u001b[39m=\u001b[39m all_out[\u001b[39m0\u001b[39m][\u001b[39m\"\u001b[39m\u001b[39mtest_scores\u001b[39m\u001b[39m\"\u001b[39m]\n",
      "File \u001b[1;32m~\\AppData\\Local\\Packages\\PythonSoftwareFoundation.Python.3.10_qbz5n2kfra8p0\\LocalCache\\local-packages\\Python310\\site-packages\\sklearn\\model_selection\\_search.py:1379\u001b[0m, in \u001b[0;36mGridSearchCV._run_search\u001b[1;34m(self, evaluate_candidates)\u001b[0m\n\u001b[0;32m   1377\u001b[0m \u001b[39mdef\u001b[39;00m \u001b[39m_run_search\u001b[39m(\u001b[39mself\u001b[39m, evaluate_candidates):\n\u001b[0;32m   1378\u001b[0m     \u001b[39m\"\"\"Search all candidates in param_grid\"\"\"\u001b[39;00m\n\u001b[1;32m-> 1379\u001b[0m     evaluate_candidates(ParameterGrid(\u001b[39mself\u001b[39;49m\u001b[39m.\u001b[39;49mparam_grid))\n",
      "File \u001b[1;32m~\\AppData\\Local\\Packages\\PythonSoftwareFoundation.Python.3.10_qbz5n2kfra8p0\\LocalCache\\local-packages\\Python310\\site-packages\\sklearn\\model_selection\\_search.py:822\u001b[0m, in \u001b[0;36mBaseSearchCV.fit.<locals>.evaluate_candidates\u001b[1;34m(candidate_params, cv, more_results)\u001b[0m\n\u001b[0;32m    814\u001b[0m \u001b[39mif\u001b[39;00m \u001b[39mself\u001b[39m\u001b[39m.\u001b[39mverbose \u001b[39m>\u001b[39m \u001b[39m0\u001b[39m:\n\u001b[0;32m    815\u001b[0m     \u001b[39mprint\u001b[39m(\n\u001b[0;32m    816\u001b[0m         \u001b[39m\"\u001b[39m\u001b[39mFitting \u001b[39m\u001b[39m{0}\u001b[39;00m\u001b[39m folds for each of \u001b[39m\u001b[39m{1}\u001b[39;00m\u001b[39m candidates,\u001b[39m\u001b[39m\"\u001b[39m\n\u001b[0;32m    817\u001b[0m         \u001b[39m\"\u001b[39m\u001b[39m totalling \u001b[39m\u001b[39m{2}\u001b[39;00m\u001b[39m fits\u001b[39m\u001b[39m\"\u001b[39m\u001b[39m.\u001b[39mformat(\n\u001b[0;32m    818\u001b[0m             n_splits, n_candidates, n_candidates \u001b[39m*\u001b[39m n_splits\n\u001b[0;32m    819\u001b[0m         )\n\u001b[0;32m    820\u001b[0m     )\n\u001b[1;32m--> 822\u001b[0m out \u001b[39m=\u001b[39m parallel(\n\u001b[0;32m    823\u001b[0m     delayed(_fit_and_score)(\n\u001b[0;32m    824\u001b[0m         clone(base_estimator),\n\u001b[0;32m    825\u001b[0m         X,\n\u001b[0;32m    826\u001b[0m         y,\n\u001b[0;32m    827\u001b[0m         train\u001b[39m=\u001b[39;49mtrain,\n\u001b[0;32m    828\u001b[0m         test\u001b[39m=\u001b[39;49mtest,\n\u001b[0;32m    829\u001b[0m         parameters\u001b[39m=\u001b[39;49mparameters,\n\u001b[0;32m    830\u001b[0m         split_progress\u001b[39m=\u001b[39;49m(split_idx, n_splits),\n\u001b[0;32m    831\u001b[0m         candidate_progress\u001b[39m=\u001b[39;49m(cand_idx, n_candidates),\n\u001b[0;32m    832\u001b[0m         \u001b[39m*\u001b[39;49m\u001b[39m*\u001b[39;49mfit_and_score_kwargs,\n\u001b[0;32m    833\u001b[0m     )\n\u001b[0;32m    834\u001b[0m     \u001b[39mfor\u001b[39;49;00m (cand_idx, parameters), (split_idx, (train, test)) \u001b[39min\u001b[39;49;00m product(\n\u001b[0;32m    835\u001b[0m         \u001b[39menumerate\u001b[39;49m(candidate_params), \u001b[39menumerate\u001b[39;49m(cv\u001b[39m.\u001b[39;49msplit(X, y, groups))\n\u001b[0;32m    836\u001b[0m     )\n\u001b[0;32m    837\u001b[0m )\n\u001b[0;32m    839\u001b[0m \u001b[39mif\u001b[39;00m \u001b[39mlen\u001b[39m(out) \u001b[39m<\u001b[39m \u001b[39m1\u001b[39m:\n\u001b[0;32m    840\u001b[0m     \u001b[39mraise\u001b[39;00m \u001b[39mValueError\u001b[39;00m(\n\u001b[0;32m    841\u001b[0m         \u001b[39m\"\u001b[39m\u001b[39mNo fits were performed. \u001b[39m\u001b[39m\"\u001b[39m\n\u001b[0;32m    842\u001b[0m         \u001b[39m\"\u001b[39m\u001b[39mWas the CV iterator empty? \u001b[39m\u001b[39m\"\u001b[39m\n\u001b[0;32m    843\u001b[0m         \u001b[39m\"\u001b[39m\u001b[39mWere there no candidates?\u001b[39m\u001b[39m\"\u001b[39m\n\u001b[0;32m    844\u001b[0m     )\n",
      "File \u001b[1;32m~\\AppData\\Local\\Packages\\PythonSoftwareFoundation.Python.3.10_qbz5n2kfra8p0\\LocalCache\\local-packages\\Python310\\site-packages\\joblib\\parallel.py:1098\u001b[0m, in \u001b[0;36mParallel.__call__\u001b[1;34m(self, iterable)\u001b[0m\n\u001b[0;32m   1095\u001b[0m     \u001b[39mself\u001b[39m\u001b[39m.\u001b[39m_iterating \u001b[39m=\u001b[39m \u001b[39mFalse\u001b[39;00m\n\u001b[0;32m   1097\u001b[0m \u001b[39mwith\u001b[39;00m \u001b[39mself\u001b[39m\u001b[39m.\u001b[39m_backend\u001b[39m.\u001b[39mretrieval_context():\n\u001b[1;32m-> 1098\u001b[0m     \u001b[39mself\u001b[39;49m\u001b[39m.\u001b[39;49mretrieve()\n\u001b[0;32m   1099\u001b[0m \u001b[39m# Make sure that we get a last message telling us we are done\u001b[39;00m\n\u001b[0;32m   1100\u001b[0m elapsed_time \u001b[39m=\u001b[39m time\u001b[39m.\u001b[39mtime() \u001b[39m-\u001b[39m \u001b[39mself\u001b[39m\u001b[39m.\u001b[39m_start_time\n",
      "File \u001b[1;32m~\\AppData\\Local\\Packages\\PythonSoftwareFoundation.Python.3.10_qbz5n2kfra8p0\\LocalCache\\local-packages\\Python310\\site-packages\\joblib\\parallel.py:975\u001b[0m, in \u001b[0;36mParallel.retrieve\u001b[1;34m(self)\u001b[0m\n\u001b[0;32m    973\u001b[0m \u001b[39mtry\u001b[39;00m:\n\u001b[0;32m    974\u001b[0m     \u001b[39mif\u001b[39;00m \u001b[39mgetattr\u001b[39m(\u001b[39mself\u001b[39m\u001b[39m.\u001b[39m_backend, \u001b[39m'\u001b[39m\u001b[39msupports_timeout\u001b[39m\u001b[39m'\u001b[39m, \u001b[39mFalse\u001b[39;00m):\n\u001b[1;32m--> 975\u001b[0m         \u001b[39mself\u001b[39m\u001b[39m.\u001b[39m_output\u001b[39m.\u001b[39mextend(job\u001b[39m.\u001b[39;49mget(timeout\u001b[39m=\u001b[39;49m\u001b[39mself\u001b[39;49m\u001b[39m.\u001b[39;49mtimeout))\n\u001b[0;32m    976\u001b[0m     \u001b[39melse\u001b[39;00m:\n\u001b[0;32m    977\u001b[0m         \u001b[39mself\u001b[39m\u001b[39m.\u001b[39m_output\u001b[39m.\u001b[39mextend(job\u001b[39m.\u001b[39mget())\n",
      "File \u001b[1;32m~\\AppData\\Local\\Packages\\PythonSoftwareFoundation.Python.3.10_qbz5n2kfra8p0\\LocalCache\\local-packages\\Python310\\site-packages\\joblib\\_parallel_backends.py:567\u001b[0m, in \u001b[0;36mLokyBackend.wrap_future_result\u001b[1;34m(future, timeout)\u001b[0m\n\u001b[0;32m    564\u001b[0m \u001b[39m\"\"\"Wrapper for Future.result to implement the same behaviour as\u001b[39;00m\n\u001b[0;32m    565\u001b[0m \u001b[39mAsyncResults.get from multiprocessing.\"\"\"\u001b[39;00m\n\u001b[0;32m    566\u001b[0m \u001b[39mtry\u001b[39;00m:\n\u001b[1;32m--> 567\u001b[0m     \u001b[39mreturn\u001b[39;00m future\u001b[39m.\u001b[39;49mresult(timeout\u001b[39m=\u001b[39;49mtimeout)\n\u001b[0;32m    568\u001b[0m \u001b[39mexcept\u001b[39;00m CfTimeoutError \u001b[39mas\u001b[39;00m e:\n\u001b[0;32m    569\u001b[0m     \u001b[39mraise\u001b[39;00m \u001b[39mTimeoutError\u001b[39;00m \u001b[39mfrom\u001b[39;00m \u001b[39me\u001b[39;00m\n",
      "File \u001b[1;32mC:\\Program Files\\WindowsApps\\PythonSoftwareFoundation.Python.3.10_3.10.2288.0_x64__qbz5n2kfra8p0\\lib\\concurrent\\futures\\_base.py:458\u001b[0m, in \u001b[0;36mFuture.result\u001b[1;34m(self, timeout)\u001b[0m\n\u001b[0;32m    456\u001b[0m     \u001b[39mraise\u001b[39;00m CancelledError()\n\u001b[0;32m    457\u001b[0m \u001b[39melif\u001b[39;00m \u001b[39mself\u001b[39m\u001b[39m.\u001b[39m_state \u001b[39m==\u001b[39m FINISHED:\n\u001b[1;32m--> 458\u001b[0m     \u001b[39mreturn\u001b[39;00m \u001b[39mself\u001b[39;49m\u001b[39m.\u001b[39;49m__get_result()\n\u001b[0;32m    459\u001b[0m \u001b[39melse\u001b[39;00m:\n\u001b[0;32m    460\u001b[0m     \u001b[39mraise\u001b[39;00m \u001b[39mTimeoutError\u001b[39;00m()\n",
      "File \u001b[1;32mC:\\Program Files\\WindowsApps\\PythonSoftwareFoundation.Python.3.10_3.10.2288.0_x64__qbz5n2kfra8p0\\lib\\concurrent\\futures\\_base.py:403\u001b[0m, in \u001b[0;36mFuture.__get_result\u001b[1;34m(self)\u001b[0m\n\u001b[0;32m    401\u001b[0m \u001b[39mif\u001b[39;00m \u001b[39mself\u001b[39m\u001b[39m.\u001b[39m_exception:\n\u001b[0;32m    402\u001b[0m     \u001b[39mtry\u001b[39;00m:\n\u001b[1;32m--> 403\u001b[0m         \u001b[39mraise\u001b[39;00m \u001b[39mself\u001b[39m\u001b[39m.\u001b[39m_exception\n\u001b[0;32m    404\u001b[0m     \u001b[39mfinally\u001b[39;00m:\n\u001b[0;32m    405\u001b[0m         \u001b[39m# Break a reference cycle with the exception in self._exception\u001b[39;00m\n\u001b[0;32m    406\u001b[0m         \u001b[39mself\u001b[39m \u001b[39m=\u001b[39m \u001b[39mNone\u001b[39;00m\n",
      "\u001b[1;31mValueError\u001b[0m: Invalid parameter 'colsample_bytree' for estimator Pipeline(steps=[('columntransformer',\n                 ColumnTransformer(remainder='passthrough',\n                                   transformers=[('onehotencoder',\n                                                  OneHotEncoder(),\n                                                  ['Band Name', 'Band Genre',\n                                                   'Band Country of Origin',\n                                                   'Concert Goer Country of '\n                                                   'Origin'])])),\n                ('xgbclassifier',\n                 XGBClassifier(base_score=None, booster=None, callbacks=None,\n                               colsample_bylevel=None, colsample_bynode=None,\n                               colsample_bytree=None,...\n                               feature_types=None, gamma=None, gpu_id=None,\n                               grow_policy=None, importance_type=None,\n                               interaction_constraints=None, learning_rate=None,\n                               max_bin=None, max_cat_threshold=None,\n                               max_cat_to_onehot=None, max_delta_step=None,\n                               max_depth=None, max_leaves=None,\n                               min_child_weight=None, missing=nan,\n                               monotone_constraints=None, n_estimators=100,\n                               n_jobs=None, num_parallel_tree=None,\n                               predictor=None, random_state=None, ...))]). Valid parameters are: ['memory', 'steps', 'verbose']."
     ]
    }
   ],
   "source": [
    "CV_clf.fit(X_train, y_train)"
   ]
  },
  {
   "cell_type": "code",
   "execution_count": null,
   "metadata": {},
   "outputs": [],
   "source": [
    "CV_clf.best_params_"
   ]
  },
  {
   "cell_type": "markdown",
   "metadata": {},
   "source": [
    "### Test avec Random Forest\n",
    "\n",
    "----"
   ]
  },
  {
   "cell_type": "code",
   "execution_count": 314,
   "metadata": {},
   "outputs": [
    {
     "data": {
      "text/plain": [
       "0.6490055585901102"
      ]
     },
     "execution_count": 314,
     "metadata": {},
     "output_type": "execute_result"
    }
   ],
   "source": [
    "clf = RandomForestClassifier(n_estimators=500, max_depth=25)\n",
    "clf.fit(X_train, y_train)\n",
    "f1_score(y_test, clf.predict(X_test), average='micro')"
   ]
  },
  {
   "cell_type": "markdown",
   "metadata": {},
   "source": [
    "---"
   ]
  },
  {
   "cell_type": "markdown",
   "metadata": {},
   "source": [
    "## Test set prediction"
   ]
  },
  {
   "cell_type": "code",
   "execution_count": 258,
   "metadata": {},
   "outputs": [
    {
     "data": {
      "text/plain": [
       "0.6734569289592905"
      ]
     },
     "execution_count": 258,
     "metadata": {},
     "output_type": "execute_result"
    }
   ],
   "source": [
    "best_model = XGBClassifier(n_estimators=1500, max_depth=5, objective='multi:softmax', num_class=4, learning_rate=0.1, colsample_bytree=0.6, subsample=1)\n",
    "best_model.fit(X_train_3, y_train)\n",
    "f1_score(y_test, best_model.predict(X_test_3), average='micro')"
   ]
  },
  {
   "cell_type": "code",
   "execution_count": null,
   "metadata": {},
   "outputs": [
    {
     "data": {
      "text/plain": [
       "array([3, 2, 2, ..., 2, 0, 0])"
      ]
     },
     "execution_count": 119,
     "metadata": {},
     "output_type": "execute_result"
    }
   ],
   "source": [
    "best_y_pred = best_model.predict(valid_data_np)\n",
    "best_y_pred"
   ]
  },
  {
   "cell_type": "code",
   "execution_count": null,
   "metadata": {},
   "outputs": [
    {
     "data": {
      "text/plain": [
       "30000"
      ]
     },
     "execution_count": 120,
     "metadata": {},
     "output_type": "execute_result"
    }
   ],
   "source": [
    "len(valid_data_np)"
   ]
  },
  {
   "cell_type": "code",
   "execution_count": null,
   "metadata": {},
   "outputs": [
    {
     "data": {
      "text/plain": [
       "Enjoyed               0.448367\n",
       "Did Not Enjoy         0.435067\n",
       "Worst Concert Ever    0.065867\n",
       "Best Concert Ever     0.050700\n",
       "Name: Predicted, dtype: float64"
      ]
     },
     "execution_count": 121,
     "metadata": {},
     "output_type": "execute_result"
    }
   ],
   "source": [
    "# Convert back y_pred to the original label and save it into submission.csv\n",
    "y_final_pred = pd.DataFrame(best_y_pred, columns = ['Predicted'])\n",
    "\n",
    "y_final_pred['Predicted'] = y_final_pred['Predicted'].map({0: 'Worst Concert Ever', 1: 'Did Not Enjoy', 2: 'Enjoyed', 3: 'Best Concert Ever'})\n",
    "# insert column 'Id' to the first column\n",
    "y_final_pred.insert(0, 'Id', range(1, 1 + len(y_final_pred)))\n",
    "\n",
    "first_y_test = pd.read_csv('./data/test.csv')\n",
    "y_final_pred['Id'] = first_y_test['Id']\n",
    "\n",
    "# save the result to submission.csv\n",
    "y_final_pred.to_csv('submission2.csv', index = False)\n",
    "\n",
    "# analyze the result\n",
    "y_final_pred['Predicted'].value_counts() / y_final_pred.shape[0]"
   ]
  },
  {
   "cell_type": "code",
   "execution_count": null,
   "metadata": {},
   "outputs": [
    {
     "data": {
      "text/plain": [
       "30000"
      ]
     },
     "execution_count": 122,
     "metadata": {},
     "output_type": "execute_result"
    }
   ],
   "source": [
    "y_final_pred['Predicted'].value_counts().sum()"
   ]
  },
  {
   "cell_type": "code",
   "execution_count": null,
   "metadata": {},
   "outputs": [
    {
     "data": {
      "text/plain": [
       "Enjoyed               0.400153\n",
       "Did Not Enjoy         0.399676\n",
       "Best Concert Ever     0.100159\n",
       "Worst Concert Ever    0.100012\n",
       "Name: Concert Enjoyment, dtype: float64"
      ]
     },
     "execution_count": 123,
     "metadata": {},
     "output_type": "execute_result"
    }
   ],
   "source": [
    "analysis = pd.read_csv('./data/train.csv')\n",
    "analysis['Concert Enjoyment'].value_counts() / analysis.shape[0]"
   ]
  }
 ],
 "metadata": {
  "kernelspec": {
   "display_name": "Python 3.10.8 64-bit (microsoft store)",
   "language": "python",
   "name": "python3"
  },
  "language_info": {
   "codemirror_mode": {
    "name": "ipython",
    "version": 3
   },
   "file_extension": ".py",
   "mimetype": "text/x-python",
   "name": "python",
   "nbconvert_exporter": "python",
   "pygments_lexer": "ipython3",
   "version": "3.10.8"
  },
  "orig_nbformat": 4,
  "vscode": {
   "interpreter": {
    "hash": "6ff0e76087f3e47eab7abe8b3f655cdf756aea80f803ee5dbb618bc163f6cbc8"
   }
  }
 },
 "nbformat": 4,
 "nbformat_minor": 2
}
