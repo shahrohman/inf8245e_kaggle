{
 "cells": [
  {
   "cell_type": "markdown",
   "metadata": {},
   "source": [
    "# Context\n",
    "\n",
    "* For this project, you will take part in a Kaggle competition based on tabular data. The goal is to design a machine learning algorithm that, given information on a particular concertgoer experience, can automatically classify the enjoyment of that concertgoer to that concert. In this classification problem, we have 4 classes. The training dataset consists of 170,000 training examples and the testing dataset contains 30,000 test examples.\n",
    "\n",
    "* Each training rows contains a unique ID, 18 attributes and 1 target containing the class\n",
    "that needs to be predicted. You will be evaluated on the test private leaderboard mean\n",
    "F1-Score.\n",
    "\n",
    "# Instructions\n",
    "\n",
    "* To participate in the competition, you must provide a list of predicted outputs for the\n",
    "instances on the Kaggle website. To solve the problem you are encouraged to use any\n",
    "classification methods you can think off, presented in the course or otherwise. Looking\n",
    "into creative way to create new features from those provided may prove especially usefull\n",
    "in this competition."
   ]
  },
  {
   "cell_type": "markdown",
   "metadata": {},
   "source": [
    "* The goal of this competition is to classify a particular concert experience in one of four classes: \n",
    "1. Worst Concert Ever\n",
    "2. Did Not Enjoy\n",
    "3. Enjoyed\n",
    "4. Best Concert Ever\n",
    "\n",
    "* To perform this task you will be given information on the band, the venue, as well as the specific concertgoers.\n",
    " \n",
    "* The dataset contains information on the specific concert, the specific band, and the specific concertgoers. It is to be noted that all three of those are unchanged across all of the training data and test data. Any conclusions on the specific characteristics of a band, concert, or concertgoers will also extend to the test set.\n",
    "\n",
    "* Unfortunately, the data-gathering step was not impeccable. One can expect some of the training attributes not always to reflect the underlying reality. However, the \"Concert Experience\" column has been verified and is 100% accurate.\n",
    "\n",
    "---"
   ]
  },
  {
   "cell_type": "code",
   "execution_count": 41,
   "metadata": {},
   "outputs": [],
   "source": [
    "seed = 7"
   ]
  },
  {
   "cell_type": "code",
   "execution_count": 42,
   "metadata": {},
   "outputs": [],
   "source": [
    "# Import packages\n",
    "import pandas as pd\n",
    "import numpy as np\n",
    "%matplotlib inline\n",
    "import matplotlib.pyplot as plt\n",
    "\n",
    "\n",
    "# Load data\n",
    "train_data = pd.read_csv('./data/train_cleaned3.csv')\n",
    "valid_data = pd.read_csv('./data/test_cleaned3.csv')"
   ]
  },
  {
   "cell_type": "code",
   "execution_count": 43,
   "metadata": {},
   "outputs": [
    {
     "name": "stderr",
     "output_type": "stream",
     "text": [
      "C:\\Users\\shahr\\AppData\\Local\\Temp\\ipykernel_16436\\4223729738.py:2: FutureWarning: The frame.append method is deprecated and will be removed from pandas in a future version. Use pandas.concat instead.\n",
      "  train_data = train_data.append(valid_data, ignore_index=True)\n"
     ]
    }
   ],
   "source": [
    "# Concatenate train and valid data in order to clean them together\n",
    "train_data = train_data.append(valid_data, ignore_index=True)"
   ]
  },
  {
   "cell_type": "markdown",
   "metadata": {},
   "source": [
    "---"
   ]
  },
  {
   "cell_type": "markdown",
   "metadata": {},
   "source": [
    "# Cleaning datas"
   ]
  },
  {
   "cell_type": "markdown",
   "metadata": {},
   "source": [
    "## Band informations cleaning"
   ]
  },
  {
   "cell_type": "markdown",
   "metadata": {},
   "source": [
    "### Filling missing values"
   ]
  },
  {
   "cell_type": "code",
   "execution_count": 44,
   "metadata": {
    "id": "-V3lZgdZkuoT"
   },
   "outputs": [],
   "source": [
    "train_data = train_data.replace({'Insert Band Name':np.nan, 'Insert Band Genre':np.nan, 'Insert Band Country of Origin':np.nan})"
   ]
  },
  {
   "cell_type": "code",
   "execution_count": 45,
   "metadata": {},
   "outputs": [],
   "source": [
    "train_data['Band Name'] = train_data['Band Name'].astype('category')\n",
    "train_data['Band Name'].fillna(train_data.groupby(['Band Genre', 'Band Country of Origin', 'Band Debut'])['Band Name'].transform(lambda x: x.value_counts().index[0]), inplace=True)\n",
    "train_data['Band Name'].fillna(train_data.groupby(['Concert ID'])['Band Name'].transform(lambda x: x.value_counts().index[0]), inplace=True)"
   ]
  },
  {
   "cell_type": "code",
   "execution_count": 46,
   "metadata": {
    "id": "UbC2P7W951s1"
   },
   "outputs": [],
   "source": [
    "train_data['Band Genre'].fillna(train_data.groupby(['Band Name'])['Band Genre'].transform(lambda x: x.value_counts().index[0]), inplace=True)\n",
    "train_data['Band Country of Origin'].fillna(train_data.groupby(['Band Name'])['Band Country of Origin'].transform(lambda x: x.value_counts().index[0]), inplace=True)\n",
    "train_data['Band Debut'].fillna(train_data.groupby(['Band Name'])['Band Debut'].transform(lambda x: x.value_counts().index[0]), inplace=True)\n",
    "\n",
    "train_data['Band Genre'].fillna(train_data.groupby(['Band Country of Origin', 'Band Debut'])['Band Genre'].transform(lambda x: x.value_counts().index[0]), inplace=True)\n",
    "train_data['Band Country of Origin'].fillna(train_data.groupby(['Band Genre', 'Band Debut'])['Band Country of Origin'].transform(lambda x: x.value_counts().index[0]), inplace=True)\n",
    "train_data['Band Debut'].fillna(train_data.groupby(['Band Genre', 'Band Country of Origin'])['Band Debut'].transform(lambda x: x.value_counts().index[0]), inplace=True)"
   ]
  },
  {
   "cell_type": "markdown",
   "metadata": {},
   "source": [
    "### Replacing wrong values by most frequent value"
   ]
  },
  {
   "cell_type": "code",
   "execution_count": 47,
   "metadata": {
    "id": "eoJu-zyVRSei"
   },
   "outputs": [],
   "source": [
    "train_data['Band Genre'] = train_data.groupby(['Band Name'])['Band Genre'].transform(lambda x: x.value_counts().index[0])\n",
    "train_data['Band Country of Origin'] = train_data.groupby(['Band Name'])['Band Country of Origin'].transform(lambda x: x.value_counts().index[0])\n",
    "train_data['Band Debut'] = train_data.groupby(['Band Name'])['Band Debut'].transform(lambda x: x.value_counts().index[0])"
   ]
  },
  {
   "cell_type": "markdown",
   "metadata": {
    "id": "pA7-qazES7H7"
   },
   "source": [
    "## Goers information cleaning"
   ]
  },
  {
   "cell_type": "markdown",
   "metadata": {},
   "source": [
    "### Filling missing values"
   ]
  },
  {
   "cell_type": "code",
   "execution_count": 48,
   "metadata": {
    "id": "KjdLIV53WheL"
   },
   "outputs": [],
   "source": [
    "# Convert Concert Goer ID to category\n",
    "train_data['Concert Goer ID'] = train_data['Concert Goer ID'].astype('category')\n",
    "train_data['Concert Goer ID'].fillna(train_data.groupby(['Personnality Trait 1', 'Personnality Trait 2', 'Personnality Trait 3', 'Personnality Trait 4', 'Concert Goer Age', 'Height (cm)', 'Concert Goer Country of Origin'])['Concert Goer ID'].transform(lambda x: x.value_counts().index[0]), inplace=True)\n",
    "\n",
    "train_data['Concert Goer ID'].fillna(train_data.groupby(['Personnality Trait 2', 'Personnality Trait 3', 'Personnality Trait 4', 'Concert Goer Age', 'Height (cm)', 'Concert Goer Country of Origin'])['Concert Goer ID'].transform(lambda x: x.value_counts().index[0]), inplace=True)\n",
    "train_data['Concert Goer ID'].fillna(train_data.groupby(['Personnality Trait 1', 'Personnality Trait 3', 'Personnality Trait 4', 'Concert Goer Age', 'Height (cm)', 'Concert Goer Country of Origin'])['Concert Goer ID'].transform(lambda x: x.value_counts().index[0]), inplace=True)\n",
    "train_data['Concert Goer ID'].fillna(train_data.groupby(['Personnality Trait 1', 'Personnality Trait 2', 'Personnality Trait 4', 'Concert Goer Age', 'Height (cm)', 'Concert Goer Country of Origin'])['Concert Goer ID'].transform(lambda x: x.value_counts().index[0]), inplace=True)\n",
    "train_data['Concert Goer ID'].fillna(train_data.groupby(['Personnality Trait 1', 'Personnality Trait 2', 'Personnality Trait 3', 'Concert Goer Age', 'Height (cm)', 'Concert Goer Country of Origin'])['Concert Goer ID'].transform(lambda x: x.value_counts().index[0]), inplace=True)\n",
    "train_data['Concert Goer ID'].fillna(train_data.groupby(['Personnality Trait 1', 'Personnality Trait 2', 'Personnality Trait 3', 'Personnality Trait 4', 'Height (cm)', 'Concert Goer Country of Origin'])['Concert Goer ID'].transform(lambda x: x.value_counts().index[0]), inplace=True)\n",
    "train_data['Concert Goer ID'].fillna(train_data.groupby(['Personnality Trait 1', 'Personnality Trait 2', 'Personnality Trait 3', 'Personnality Trait 4', 'Concert Goer Age', 'Concert Goer Country of Origin'])['Concert Goer ID'].transform(lambda x: x.value_counts().index[0]), inplace=True)\n",
    "train_data['Concert Goer ID'].fillna(train_data.groupby(['Personnality Trait 1', 'Personnality Trait 2', 'Personnality Trait 3', 'Personnality Trait 4', 'Concert Goer Age', 'Height (cm)'])['Concert Goer ID'].transform(lambda x: x.value_counts().index[0]), inplace=True)\n",
    "\n",
    "train_data['Concert Goer ID'].fillna(train_data.groupby(['Personnality Trait 3', 'Personnality Trait 4', 'Concert Goer Age', 'Height (cm)', 'Concert Goer Country of Origin'])['Concert Goer ID'].transform(lambda x: x.value_counts().index[0]), inplace=True)\n",
    "train_data['Concert Goer ID'].fillna(train_data.groupby(['Personnality Trait 2', 'Personnality Trait 4', 'Concert Goer Age', 'Height (cm)', 'Concert Goer Country of Origin'])['Concert Goer ID'].transform(lambda x: x.value_counts().index[0]), inplace=True)\n",
    "train_data['Concert Goer ID'].fillna(train_data.groupby(['Personnality Trait 2', 'Personnality Trait 3', 'Concert Goer Age', 'Height (cm)', 'Concert Goer Country of Origin'])['Concert Goer ID'].transform(lambda x: x.value_counts().index[0]), inplace=True)\n",
    "train_data['Concert Goer ID'].fillna(train_data.groupby(['Personnality Trait 2', 'Personnality Trait 3', 'Personnality Trait 4', 'Height (cm)', 'Concert Goer Country of Origin'])['Concert Goer ID'].transform(lambda x: x.value_counts().index[0]), inplace=True)\n",
    "train_data['Concert Goer ID'].fillna(train_data.groupby(['Personnality Trait 2', 'Personnality Trait 3', 'Personnality Trait 4', 'Concert Goer Age', 'Concert Goer Country of Origin'])['Concert Goer ID'].transform(lambda x: x.value_counts().index[0]), inplace=True)\n",
    "train_data['Concert Goer ID'].fillna(train_data.groupby(['Personnality Trait 2', 'Personnality Trait 3', 'Personnality Trait 4', 'Concert Goer Age', 'Height (cm)'])['Concert Goer ID'].transform(lambda x: x.value_counts().index[0]), inplace=True)\n",
    "\n",
    "train_data['Concert Goer ID'].fillna(train_data.groupby(['Personnality Trait 1', 'Personnality Trait 4', 'Concert Goer Age', 'Height (cm)', 'Concert Goer Country of Origin'])['Concert Goer ID'].transform(lambda x: x.value_counts().index[0]), inplace=True)\n",
    "train_data['Concert Goer ID'].fillna(train_data.groupby(['Personnality Trait 1', 'Personnality Trait 3', 'Concert Goer Age', 'Height (cm)', 'Concert Goer Country of Origin'])['Concert Goer ID'].transform(lambda x: x.value_counts().index[0]), inplace=True)\n",
    "train_data['Concert Goer ID'].fillna(train_data.groupby(['Personnality Trait 1', 'Personnality Trait 3', 'Personnality Trait 4', 'Height (cm)', 'Concert Goer Country of Origin'])['Concert Goer ID'].transform(lambda x: x.value_counts().index[0]), inplace=True)\n",
    "train_data['Concert Goer ID'].fillna(train_data.groupby(['Personnality Trait 1', 'Personnality Trait 3', 'Personnality Trait 4', 'Concert Goer Age', 'Concert Goer Country of Origin'])['Concert Goer ID'].transform(lambda x: x.value_counts().index[0]), inplace=True)\n",
    "train_data['Concert Goer ID'].fillna(train_data.groupby(['Personnality Trait 1', 'Personnality Trait 3', 'Personnality Trait 4', 'Concert Goer Age', 'Height (cm)', ])['Concert Goer ID'].transform(lambda x: x.value_counts().index[0]), inplace=True)\n",
    "\n",
    "train_data['Concert Goer ID'].fillna(train_data.groupby(['Personnality Trait 1', 'Personnality Trait 2', 'Concert Goer Age', 'Height (cm)', 'Concert Goer Country of Origin'])['Concert Goer ID'].transform(lambda x: x.value_counts().index[0]), inplace=True)\n",
    "train_data['Concert Goer ID'].fillna(train_data.groupby(['Personnality Trait 1', 'Personnality Trait 2', 'Personnality Trait 4', 'Height (cm)', 'Concert Goer Country of Origin'])['Concert Goer ID'].transform(lambda x: x.value_counts().index[0]), inplace=True)\n",
    "train_data['Concert Goer ID'].fillna(train_data.groupby(['Personnality Trait 1', 'Personnality Trait 2', 'Personnality Trait 4', 'Concert Goer Age', 'Concert Goer Country of Origin'])['Concert Goer ID'].transform(lambda x: x.value_counts().index[0]), inplace=True)\n",
    "train_data['Concert Goer ID'].fillna(train_data.groupby(['Personnality Trait 1', 'Personnality Trait 2', 'Personnality Trait 4', 'Concert Goer Age', 'Height (cm)'])['Concert Goer ID'].transform(lambda x: x.value_counts().index[0]), inplace=True)\n",
    "\n",
    "train_data['Concert Goer ID'].fillna(train_data.groupby(['Personnality Trait 1', 'Personnality Trait 2', 'Personnality Trait 3', 'Height (cm)', 'Concert Goer Country of Origin'])['Concert Goer ID'].transform(lambda x: x.value_counts().index[0]), inplace=True)\n",
    "train_data['Concert Goer ID'].fillna(train_data.groupby(['Personnality Trait 2', 'Personnality Trait 3', 'Personnality Trait 4', 'Concert Goer Age', 'Concert Goer Country of Origin'])['Concert Goer ID'].transform(lambda x: x.value_counts().index[0]), inplace=True)\n",
    "train_data['Concert Goer ID'].fillna(train_data.groupby(['Personnality Trait 2', 'Personnality Trait 3', 'Personnality Trait 4', 'Concert Goer Age', 'Height (cm)'])['Concert Goer ID'].transform(lambda x: x.value_counts().index[0]), inplace=True)\n",
    "\n",
    "train_data['Concert Goer ID'].fillna(train_data.groupby(['Personnality Trait 1', 'Personnality Trait 2', 'Personnality Trait 3', 'Personnality Trait 4', 'Concert Goer Country of Origin'])['Concert Goer ID'].transform(lambda x: x.value_counts().index[0]), inplace=True)\n",
    "train_data['Concert Goer ID'].fillna(train_data.groupby(['Personnality Trait 1', 'Personnality Trait 2', 'Personnality Trait 3', 'Personnality Trait 4', 'Height (cm)'])['Concert Goer ID'].transform(lambda x: x.value_counts().index[0]), inplace=True)\n",
    "\n",
    "train_data['Concert Goer ID'].fillna(train_data.groupby(['Personnality Trait 1', 'Personnality Trait 2', 'Personnality Trait 3', 'Personnality Trait 4', 'Concert Goer Age'])['Concert Goer ID'].transform(lambda x: x.value_counts().index[0]), inplace=True)\n"
   ]
  },
  {
   "cell_type": "markdown",
   "metadata": {},
   "source": [
    "### Replacing wrong values by most frequent value"
   ]
  },
  {
   "cell_type": "code",
   "execution_count": 49,
   "metadata": {
    "id": "oaLgf0V8Tts4"
   },
   "outputs": [],
   "source": [
    "train_data['Personnality Trait 1'] = train_data['Personnality Trait 1'].fillna(train_data.groupby(['Concert Goer ID'])['Personnality Trait 1'].transform(lambda x: x.value_counts().index[0]))\n",
    "train_data['Personnality Trait 2'] = train_data['Personnality Trait 2'].fillna(train_data.groupby(['Concert Goer ID'])['Personnality Trait 2'].transform(lambda x: x.value_counts().index[0]))\n",
    "train_data['Personnality Trait 3'] = train_data['Personnality Trait 3'].fillna(train_data.groupby(['Concert Goer ID'])['Personnality Trait 3'].transform(lambda x: x.value_counts().index[0]))\n",
    "train_data['Personnality Trait 4'] = train_data['Personnality Trait 4'].fillna(train_data.groupby(['Concert Goer ID'])['Personnality Trait 4'].transform(lambda x: x.value_counts().index[0]))\n",
    "train_data['Concert Goer Age'] = train_data['Concert Goer Age'].fillna(train_data.groupby(['Concert Goer ID'])['Concert Goer Age'].transform(lambda x: x.value_counts().index[0]))\n",
    "train_data['Height (cm)'] = train_data['Height (cm)'].fillna(train_data.groupby(['Concert Goer ID'])['Height (cm)'].transform(lambda x: x.value_counts().index[0]))\n",
    "train_data['Concert Goer Country of Origin'] = train_data['Concert Goer Country of Origin'].fillna(train_data.groupby(['Concert Goer ID'])['Concert Goer Country of Origin'].transform(lambda x: x.value_counts().index[0]))"
   ]
  },
  {
   "cell_type": "code",
   "execution_count": 50,
   "metadata": {
    "id": "ZezDUmIpWHsg"
   },
   "outputs": [],
   "source": [
    "train_data['Personnality Trait 1'] = train_data.groupby(['Concert Goer ID'])['Personnality Trait 1'].transform(lambda x: x.value_counts().index[0])\n",
    "train_data['Personnality Trait 2'] = train_data.groupby(['Concert Goer ID'])['Personnality Trait 2'].transform(lambda x: x.value_counts().index[0])\n",
    "train_data['Personnality Trait 3'] = train_data.groupby(['Concert Goer ID'])['Personnality Trait 3'].transform(lambda x: x.value_counts().index[0])\n",
    "train_data['Personnality Trait 4'] = train_data.groupby(['Concert Goer ID'])['Personnality Trait 4'].transform(lambda x: x.value_counts().index[0])\n",
    "train_data['Concert Goer Age'] = train_data.groupby(['Concert Goer ID'])['Concert Goer Age'].transform(lambda x: x.value_counts().index[0])\n",
    "train_data['Height (cm)'] = train_data.groupby(['Concert Goer ID'])['Height (cm)'].transform(lambda x: x.value_counts().index[0])\n",
    "train_data['Concert Goer Country of Origin'] = train_data.groupby(['Concert Goer ID'])['Concert Goer Country of Origin'].transform(lambda x: x.value_counts().index[0])"
   ]
  },
  {
   "cell_type": "markdown",
   "metadata": {},
   "source": [
    "## Concert ID cleaning"
   ]
  },
  {
   "cell_type": "markdown",
   "metadata": {},
   "source": [
    "### Filling missing values"
   ]
  },
  {
   "cell_type": "code",
   "execution_count": 51,
   "metadata": {
    "id": "UlaK9a69kPDW"
   },
   "outputs": [],
   "source": [
    "train_data['Concert ID'].fillna(train_data.groupby(['Band Name'])['Concert ID'].transform(lambda x: x.value_counts().index[0]), inplace=True)"
   ]
  },
  {
   "cell_type": "code",
   "execution_count": 52,
   "metadata": {
    "id": "B6NotXIQkfRk"
   },
   "outputs": [],
   "source": [
    "train_data['Concert Attendance'].fillna(train_data.groupby(['Concert ID'])['Concert Attendance'].transform(lambda x: x.value_counts().index[0]), inplace=True)\n",
    "train_data['Inside Venue'].fillna(train_data.groupby(['Concert ID'])['Inside Venue'].transform(lambda x: x.value_counts().index[0]), inplace=True)\n",
    "train_data['Rain'].fillna(train_data.groupby(['Concert ID'])['Rain'].transform(lambda x: x.value_counts().index[0]), inplace=True)"
   ]
  },
  {
   "cell_type": "markdown",
   "metadata": {},
   "source": [
    "### Replacing wrong values by most frequent value"
   ]
  },
  {
   "cell_type": "code",
   "execution_count": 53,
   "metadata": {
    "id": "Rni2yC6elHVS"
   },
   "outputs": [],
   "source": [
    "train_data['Concert Attendance'] = train_data.groupby(['Concert ID'])['Concert Attendance'].transform(lambda x: x.value_counts().index[0])\n",
    "train_data['Inside Venue'] = train_data.groupby(['Concert ID'])['Inside Venue'].transform(lambda x: x.value_counts().index[0])\n",
    "train_data['Rain'] = train_data.groupby(['Concert ID'])['Rain'].transform(lambda x: x.value_counts().index[0])"
   ]
  },
  {
   "cell_type": "markdown",
   "metadata": {},
   "source": [
    "## Reseparing train data and test data"
   ]
  },
  {
   "cell_type": "code",
   "execution_count": 54,
   "metadata": {},
   "outputs": [],
   "source": [
    "# Separate train_data from valid_data \n",
    "valid_data = train_data.iloc[170000:]\n",
    "train_data = train_data.iloc[:170000]\n",
    "\n",
    "valid_data = valid_data.drop(['Concert Enjoyment'], axis=1)"
   ]
  },
  {
   "cell_type": "markdown",
   "metadata": {},
   "source": [
    "---"
   ]
  },
  {
   "cell_type": "markdown",
   "metadata": {},
   "source": [
    "# Preprocessing"
   ]
  },
  {
   "cell_type": "code",
   "execution_count": 55,
   "metadata": {},
   "outputs": [],
   "source": [
    "# Replace \"Concert Enjoyment column\" with numerical values\n",
    "train_data['Concert Enjoyment'] = train_data['Concert Enjoyment'].replace(['Worst Concert Ever', 'Did Not Enjoy', 'Enjoyed', 'Best Concert Ever'], [0, 1, 2, 3])\n",
    "\n",
    "# Remove 'concer_goer_' before all Concer Goer ID and transform it into integer\n",
    "train_data['Concert Goer ID'] = train_data['Concert Goer ID'].str.replace('concert_goer_', '')\n",
    "train_data['Concert Goer ID'] = train_data['Concert Goer ID'].astype(int)\n",
    "\n",
    "valid_data['Concert Goer ID'] = valid_data['Concert Goer ID'].str.replace('concert_goer_', '')\n",
    "valid_data['Concert Goer ID'] = valid_data['Concert Goer ID'].astype(int)\n",
    "\n",
    "# Fill nan value of \"Seated\" with random value\n",
    "train_data['Seated'] = train_data['Seated'].fillna(np.random.choice([0, 1], p=[0.5, 0.5]))\n",
    "valid_data['Seated'] = valid_data['Seated'].fillna(np.random.choice([0, 1], p=[0.5, 0.5]))\n",
    "\n",
    "train_data['Seated'] = train_data['Seated'].astype(int)\n",
    "valid_data['Seated'] = valid_data['Seated'].astype(int)\n",
    "\n",
    "# Drop Id column\n",
    "train_data.drop('Id', axis=1, inplace=True)\n",
    "valid_data.drop('Id', axis=1, inplace=True)"
   ]
  },
  {
   "cell_type": "markdown",
   "metadata": {},
   "source": [
    "## Feature Engineering"
   ]
  },
  {
   "cell_type": "code",
   "execution_count": 56,
   "metadata": {},
   "outputs": [],
   "source": [
    "def add_rating(df, train_data, category):\n",
    "    rate = train_data.groupby([category]).agg({'Concert Enjoyment': 'mean'})\n",
    "    df[category + ' Rating'] = df[category].map(rate['Concert Enjoyment']).astype(float)\n",
    "    return df"
   ]
  },
  {
   "cell_type": "code",
   "execution_count": 57,
   "metadata": {},
   "outputs": [],
   "source": [
    "train_data = add_rating(train_data, train_data, 'Band Name')\n",
    "train_data = add_rating(train_data, train_data, 'Concert ID')\n",
    "\n",
    "valid_data = add_rating(valid_data, train_data, 'Band Name')\n",
    "valid_data = add_rating(valid_data, train_data, 'Concert ID')"
   ]
  },
  {
   "cell_type": "markdown",
   "metadata": {},
   "source": [
    "## One Hot Encoding"
   ]
  },
  {
   "cell_type": "code",
   "execution_count": 58,
   "metadata": {},
   "outputs": [],
   "source": [
    "from sklearn.preprocessing import OneHotEncoder\n",
    "\n",
    "OH_encoder = OneHotEncoder(handle_unknown='ignore', sparse=False)\n",
    "OH_cols_train = pd.DataFrame(OH_encoder.fit_transform(train_data[['Band Name', 'Band Genre', 'Band Country of Origin', \"Concert Goer Country of Origin\"]]))\n",
    "\n",
    "def OneHot(df):\n",
    "\n",
    "    # Apply ont hot ender to each column with categorical data\n",
    "    OH_encoder = OneHotEncoder(handle_unknown='ignore', sparse=False)\n",
    "    OH_cols_train = pd.DataFrame(OH_encoder.fit_transform(df[['Band Name', 'Band Genre', 'Band Country of Origin', \"Concert Goer Country of Origin\"]]))\n",
    "\n",
    "    # One hot encoding removed index; put it back; let the band name be the header without the name of the category\n",
    "    OH_cols_train.index = df.index\n",
    "    OH_cols_train.columns = OH_encoder.get_feature_names_out(['Band Name', 'Band Genre', 'Band Country of Origin', \"Concert Goer Country of Origin\"])\n",
    "    # Modify all the column names to remove the 'Band Name', 'Band Genre', 'Band Country of Origin' and 'Concert Goer Country of Origin' from the name\n",
    "    OH_cols_train.columns = OH_cols_train.columns.str.replace('Band Name_', '')\n",
    "    OH_cols_train.columns = OH_cols_train.columns.str.replace('Band Genre_', '')\n",
    "    OH_cols_train.columns = OH_cols_train.columns.str.replace('Band Country of Origin_', '')\n",
    "    OH_cols_train.columns = OH_cols_train.columns.str.replace('Concert Goer Country of Origin_', '')\n",
    "\n",
    "    # Remove categorical columns (will replace with one-hot encoding)\n",
    "    numeric_train_data = df.drop(['Band Name', 'Band Genre', 'Band Country of Origin', \"Concert Goer Country of Origin\"], axis=1)\n",
    "\n",
    "    # Add one-hot encoded columns to numerical features but let the name of the band as header\n",
    "    df = pd.concat([OH_cols_train,numeric_train_data], axis=1)\n",
    "\n",
    "    return df"
   ]
  },
  {
   "cell_type": "code",
   "execution_count": 59,
   "metadata": {},
   "outputs": [],
   "source": [
    "train_data = OneHot(train_data)\n",
    "valid_data = OneHot(valid_data)"
   ]
  },
  {
   "cell_type": "code",
   "execution_count": 155,
   "metadata": {},
   "outputs": [],
   "source": [
    "X = train_data.drop(['Concert Enjoyment'], axis=1)\n",
    "y = train_data['Concert Enjoyment']"
   ]
  },
  {
   "cell_type": "markdown",
   "metadata": {},
   "source": [
    "## Normalization"
   ]
  },
  {
   "cell_type": "code",
   "execution_count": 61,
   "metadata": {},
   "outputs": [],
   "source": [
    "def musigma_normalize(df):\n",
    "    df['Band Debut'] = (df['Band Debut'] - df['Band Debut'].mean()) / df['Band Debut'].std()\n",
    "    df['Concert ID'] = (df['Concert ID'] - df['Concert ID'].mean()) / df['Concert ID'].std()\n",
    "    df['Concert Attendance'] = (df['Concert Attendance'] - df['Concert Attendance'].mean()) / df['Concert Attendance'].std()\n",
    "    df['Personnality Trait 1'] = (df['Personnality Trait 1'] - df['Personnality Trait 1'].mean()) / df['Personnality Trait 1'].std()\n",
    "    df['Personnality Trait 2'] = (df['Personnality Trait 2'] - df['Personnality Trait 2'].mean()) / df['Personnality Trait 2'].std()\n",
    "    df['Personnality Trait 3'] = (df['Personnality Trait 3'] - df['Personnality Trait 3'].mean()) / df['Personnality Trait 3'].std()\n",
    "    df['Personnality Trait 4'] = (df['Personnality Trait 4'] - df['Personnality Trait 4'].mean()) / df['Personnality Trait 4'].std()\n",
    "    df['Concert Goer Age'] = (df['Concert Goer Age'] - df['Concert Goer Age'].mean()) / df['Concert Goer Age'].std()\n",
    "    df['Height (cm)'] = (df['Height (cm)'] - df['Height (cm)'].mean()) / df['Height (cm)'].std()\n",
    "    df['Concert Goer ID'] = (df['Concert Goer ID'] - df['Concert Goer ID'].mean()) / df['Concert Goer ID'].std()\n",
    "    df['Concert ID Rating'] = (df['Concert ID Rating'] - df['Concert ID Rating'].mean()) / df['Concert ID Rating'].std()\n",
    "    df['Band Name Rating'] = (df['Band Name Rating'] - df['Band Name Rating'].mean()) / df['Band Name Rating'].std()\n",
    "    return df"
   ]
  },
  {
   "cell_type": "code",
   "execution_count": 138,
   "metadata": {},
   "outputs": [],
   "source": [
    "def minmax_normalize(df):\n",
    "    df['Band Debut'] = (df['Band Debut'] - df['Band Debut'].min()) / (df['Band Debut'].max() - df['Band Debut'].min())\n",
    "    df['Concert ID'] = (df['Concert ID'] - df['Concert ID'].min()) / (df['Concert ID'].max() - df['Concert ID'].min())\n",
    "    df['Concert Attendance'] = (df['Concert Attendance'] - df['Concert Attendance'].min()) / (df['Concert Attendance'].max() - df['Concert Attendance'].min())\n",
    "    df['Personnality Trait 1'] = (df['Personnality Trait 1'] - df['Personnality Trait 1'].min()) / (df['Personnality Trait 1'].max() - df['Personnality Trait 1'].min())\n",
    "    df['Personnality Trait 2'] = (df['Personnality Trait 2'] - df['Personnality Trait 2'].min()) / (df['Personnality Trait 2'].max() - df['Personnality Trait 2'].min())\n",
    "    df['Personnality Trait 3'] = (df['Personnality Trait 3'] - df['Personnality Trait 3'].min()) / (df['Personnality Trait 3'].max() - df['Personnality Trait 3'].min())\n",
    "    df['Personnality Trait 4'] = (df['Personnality Trait 4'] - df['Personnality Trait 4'].min()) / (df['Personnality Trait 4'].max() - df['Personnality Trait 4'].min())\n",
    "    df['Concert Goer Age'] = (df['Concert Goer Age'] - df['Concert Goer Age'].min()) / (df['Concert Goer Age'].max() - df['Concert Goer Age'].min())\n",
    "    df['Height (cm)'] = (df['Height (cm)'] - df['Height (cm)'].min()) / (df['Height (cm)'].max() - df['Height (cm)'].min())\n",
    "    df['Concert ID Rating'] = (df['Concert ID Rating'] - df['Concert ID Rating'].min()) / (df['Concert ID Rating'].max() - df['Concert ID Rating'].min())\n",
    "    df['Band Name Rating'] = (df['Band Name Rating'] - df['Band Name Rating'].min()) / (df['Band Name Rating'].max() - df['Band Name Rating'].min())\n",
    "    return df"
   ]
  },
  {
   "cell_type": "markdown",
   "metadata": {},
   "source": [
    "---"
   ]
  },
  {
   "cell_type": "code",
   "execution_count": 156,
   "metadata": {},
   "outputs": [],
   "source": [
    "X = musigma_normalize(X)\n",
    "X_valid = musigma_normalize(valid_data)"
   ]
  },
  {
   "cell_type": "code",
   "execution_count": 157,
   "metadata": {},
   "outputs": [],
   "source": [
    "X = X.to_numpy()\n",
    "y = y.to_numpy()"
   ]
  },
  {
   "cell_type": "code",
   "execution_count": 158,
   "metadata": {},
   "outputs": [],
   "source": [
    "from sklearn.metrics import f1_score\n",
    "\n",
    "from sklearn.linear_model import LogisticRegression\n",
    "from sklearn.ensemble import RandomForestClassifier\n",
    "from sklearn.neighbors import KNeighborsClassifier\n",
    "from sklearn.ensemble import BaggingClassifier\n",
    "from sklearn.neural_network import MLPClassifier\n",
    "from sklearn.ensemble import GradientBoostingClassifier\n",
    "from xgboost import XGBClassifier\n",
    "\n",
    "from sklearn.model_selection import train_test_split\n",
    "\n",
    "# Process test data\n",
    "val_size = 0.3\n",
    "X_train, X_test, y_train, y_test = train_test_split(X, y, test_size=val_size, random_state=seed)"
   ]
  },
  {
   "cell_type": "markdown",
   "metadata": {},
   "source": [
    "---"
   ]
  },
  {
   "cell_type": "markdown",
   "metadata": {},
   "source": [
    "# Processing"
   ]
  },
  {
   "cell_type": "markdown",
   "metadata": {},
   "source": [
    "## First predictions"
   ]
  },
  {
   "cell_type": "code",
   "execution_count": 79,
   "metadata": {},
   "outputs": [],
   "source": [
    "first_predictions = pd.DataFrame()"
   ]
  },
  {
   "cell_type": "markdown",
   "metadata": {},
   "source": [
    "### Logistic Regression"
   ]
  },
  {
   "cell_type": "code",
   "execution_count": 67,
   "metadata": {},
   "outputs": [
    {
     "data": {
      "text/plain": [
       "0.6303823529411765"
      ]
     },
     "execution_count": 67,
     "metadata": {},
     "output_type": "execute_result"
    }
   ],
   "source": [
    "clf_lg = LogisticRegression(solver='lbfgs', penalty='l2', C=0.01, max_iter=1000, random_state=seed)\n",
    "clf_lg.fit(X_train, y_train)\n",
    "pred_lg = clf_lg.predict(X_test)\n",
    "f1_score(y_test, pred_lg, average='micro')"
   ]
  },
  {
   "cell_type": "code",
   "execution_count": 80,
   "metadata": {},
   "outputs": [],
   "source": [
    "if f1_score(y_test, pred_lg, average='micro') > 0.62:\n",
    "    # Concatenate with first_prediction\n",
    "    pred_lg = pd.DataFrame(pred_lg)\n",
    "    pred_lg.columns = ['Logistic Regression']\n",
    "    first_predictions = pd.concat([first_predictions, pd.DataFrame(pred_lg)], axis=1)"
   ]
  },
  {
   "cell_type": "markdown",
   "metadata": {},
   "source": [
    "### KNN"
   ]
  },
  {
   "cell_type": "code",
   "execution_count": 77,
   "metadata": {},
   "outputs": [
    {
     "data": {
      "text/plain": [
       "0.6310882352941176"
      ]
     },
     "execution_count": 77,
     "metadata": {},
     "output_type": "execute_result"
    }
   ],
   "source": [
    "clf_knn = KNeighborsClassifier(n_neighbors=25, weights='uniform', algorithm='auto', leaf_size=30, p=2, metric='minkowski', metric_params=None, n_jobs=-1)\n",
    "clf_knn.fit(X_train, y_train)\n",
    "pred_knn = clf_knn.predict(X_test)\n",
    "f1_score(y_test, pred_knn, average='micro')"
   ]
  },
  {
   "cell_type": "code",
   "execution_count": 81,
   "metadata": {},
   "outputs": [],
   "source": [
    "if f1_score(y_test, pred_knn, average='micro') > 0.62:\n",
    "    # Concatenate with first_prediction\n",
    "    pred_knn = pd.DataFrame(pred_knn)\n",
    "    pred_knn.columns = ['KNN']\n",
    "    first_predictions = pd.concat([first_predictions, pd.DataFrame(pred_knn)], axis=1)"
   ]
  },
  {
   "cell_type": "markdown",
   "metadata": {},
   "source": [
    "### Random Forest"
   ]
  },
  {
   "cell_type": "code",
   "execution_count": 82,
   "metadata": {},
   "outputs": [
    {
     "data": {
      "text/plain": [
       "0.659"
      ]
     },
     "execution_count": 82,
     "metadata": {},
     "output_type": "execute_result"
    }
   ],
   "source": [
    "clf_rd = RandomForestClassifier(n_estimators=1000, max_depth=30, n_jobs=-1, random_state=seed)\n",
    "clf_rd.fit(X_train, y_train)\n",
    "pred_rd = clf_rd.predict(X_test)\n",
    "f1_score(y_test, pred_rd, average='micro')"
   ]
  },
  {
   "cell_type": "code",
   "execution_count": 83,
   "metadata": {},
   "outputs": [],
   "source": [
    "if f1_score(y_test, pred_rd, average='micro') > 0.62:\n",
    "    # Concatenate with first_prediction\n",
    "    pred_rd = pd.DataFrame(pred_rd)\n",
    "    pred_rd.columns = ['Random Forest']\n",
    "    first_predictions = pd.concat([first_predictions, pd.DataFrame(pred_rd)], axis=1)"
   ]
  },
  {
   "cell_type": "markdown",
   "metadata": {},
   "source": [
    "### Bagging"
   ]
  },
  {
   "cell_type": "code",
   "execution_count": 84,
   "metadata": {},
   "outputs": [
    {
     "data": {
      "text/plain": [
       "0.6527647058823529"
      ]
     },
     "execution_count": 84,
     "metadata": {},
     "output_type": "execute_result"
    }
   ],
   "source": [
    "clf_bagg = BaggingClassifier(n_estimators=500, max_samples=0.5, max_features=0.5, n_jobs=-1, random_state=seed)\n",
    "clf_bagg.fit(X_train, y_train)\n",
    "pred_bagg = clf_bagg.predict(X_test)\n",
    "f1_score(y_test, pred_bagg, average='micro')"
   ]
  },
  {
   "cell_type": "code",
   "execution_count": 85,
   "metadata": {},
   "outputs": [],
   "source": [
    "if f1_score(y_test, pred_bagg, average='micro') > 0.62:\n",
    "    # Concatenate with first_prediction\n",
    "    pred_bagg = pd.DataFrame(pred_bagg)\n",
    "    pred_bagg.columns = ['Bagging']\n",
    "    first_predictions = pd.concat([first_predictions, pd.DataFrame(pred_bagg)], axis=1)"
   ]
  },
  {
   "cell_type": "markdown",
   "metadata": {},
   "source": [
    "### Gradient Boosting"
   ]
  },
  {
   "cell_type": "code",
   "execution_count": 86,
   "metadata": {},
   "outputs": [
    {
     "data": {
      "text/plain": [
       "0.6657647058823529"
      ]
     },
     "execution_count": 86,
     "metadata": {},
     "output_type": "execute_result"
    }
   ],
   "source": [
    "clf_gb = GradientBoostingClassifier(n_estimators=1000, learning_rate=0.1, random_state=seed)\n",
    "clf_gb.fit(X_train, y_train)\n",
    "pred_gb = clf_gb.predict(X_test)\n",
    "f1_score(y_test, pred_gb, average='micro')"
   ]
  },
  {
   "cell_type": "code",
   "execution_count": 87,
   "metadata": {},
   "outputs": [],
   "source": [
    "if f1_score(y_test, pred_bagg, average='micro') > 0.62:\n",
    "    # Concatenate with first_prediction\n",
    "    pred_gb = pd.DataFrame(pred_gb)\n",
    "    pred_gb.columns = ['Gradient Boosting']\n",
    "    first_predictions = pd.concat([first_predictions, pd.DataFrame(pred_gb)], axis=1)"
   ]
  },
  {
   "cell_type": "markdown",
   "metadata": {},
   "source": [
    "### XGBoost"
   ]
  },
  {
   "cell_type": "code",
   "execution_count": 88,
   "metadata": {},
   "outputs": [
    {
     "data": {
      "text/plain": [
       "0.6765882352941176"
      ]
     },
     "execution_count": 88,
     "metadata": {},
     "output_type": "execute_result"
    }
   ],
   "source": [
    "clf_xgb = XGBClassifier(n_estimators=500, max_depth=10, objective='multi:softmax', num_class=4, learning_rate=0.05, colsample_bytree=0.5, subsample=0.9, n_jobs=-1, tree_method='gpu_hist', random_state=seed)\n",
    "clf_xgb.fit(X_train, y_train)\n",
    "pred_xgb = clf_xgb.predict(X_test)\n",
    "f1_score(y_test, pred_xgb, average='micro')"
   ]
  },
  {
   "cell_type": "code",
   "execution_count": 89,
   "metadata": {},
   "outputs": [],
   "source": [
    "if f1_score(y_test, pred_xgb, average='micro') > 0.62:\n",
    "    # Concatenate with first_prediction\n",
    "    pred_xgb = pd.DataFrame(pred_xgb)\n",
    "    pred_xgb.columns = ['XGBoost']\n",
    "    first_predictions = pd.concat([first_predictions, pd.DataFrame(pred_xgb)], axis=1)"
   ]
  },
  {
   "cell_type": "markdown",
   "metadata": {},
   "source": [
    "### Neural Network"
   ]
  },
  {
   "cell_type": "code",
   "execution_count": 159,
   "metadata": {},
   "outputs": [
    {
     "name": "stderr",
     "output_type": "stream",
     "text": [
      "C:\\Users\\shahr\\AppData\\Local\\Packages\\PythonSoftwareFoundation.Python.3.10_qbz5n2kfra8p0\\LocalCache\\local-packages\\Python310\\site-packages\\sklearn\\neural_network\\_multilayer_perceptron.py:709: UserWarning: Training interrupted by user.\n",
      "  warnings.warn(\"Training interrupted by user.\")\n"
     ]
    },
    {
     "data": {
      "text/plain": [
       "0.6575"
      ]
     },
     "execution_count": 159,
     "metadata": {},
     "output_type": "execute_result"
    }
   ],
   "source": [
    "clf_nn = MLPClassifier(hidden_layer_sizes = (60,2,10), max_iter = 1000, learning_rate_init=0.001, solver = 'adam', activation = 'relu', random_state = 1)\n",
    "clf_nn.fit(X_train, y_train)\n",
    "pred_nn = clf_nn.predict(X_test)\n",
    "f1_score(y_test, pred_nn, average='micro')"
   ]
  },
  {
   "cell_type": "code",
   "execution_count": 160,
   "metadata": {},
   "outputs": [],
   "source": [
    "if f1_score(y_test, pred_nn, average='micro') > 0.62:\n",
    "    # Concatenate with first_prediction\n",
    "    pred_nn = pd.DataFrame(pred_xgb)\n",
    "    pred_nn.columns = ['Neural Network']\n",
    "    first_predictions = pd.concat([first_predictions, pd.DataFrame(pred_xgb)], axis=1)"
   ]
  },
  {
   "cell_type": "markdown",
   "metadata": {},
   "source": [
    "## New prediction"
   ]
  },
  {
   "cell_type": "code",
   "execution_count": 162,
   "metadata": {},
   "outputs": [],
   "source": [
    "# Delete repeated columns\n",
    "first_predictions = first_predictions.loc[:,~first_predictions.columns.duplicated()]"
   ]
  },
  {
   "cell_type": "code",
   "execution_count": 163,
   "metadata": {},
   "outputs": [
    {
     "data": {
      "text/html": [
       "<div>\n",
       "<style scoped>\n",
       "    .dataframe tbody tr th:only-of-type {\n",
       "        vertical-align: middle;\n",
       "    }\n",
       "\n",
       "    .dataframe tbody tr th {\n",
       "        vertical-align: top;\n",
       "    }\n",
       "\n",
       "    .dataframe thead th {\n",
       "        text-align: right;\n",
       "    }\n",
       "</style>\n",
       "<table border=\"1\" class=\"dataframe\">\n",
       "  <thead>\n",
       "    <tr style=\"text-align: right;\">\n",
       "      <th></th>\n",
       "      <th>Logistic Regression</th>\n",
       "      <th>KNN</th>\n",
       "      <th>Random Forest</th>\n",
       "      <th>Bagging</th>\n",
       "      <th>Gradient Boosting</th>\n",
       "      <th>XGBoost</th>\n",
       "      <th>Neural Network</th>\n",
       "    </tr>\n",
       "  </thead>\n",
       "  <tbody>\n",
       "    <tr>\n",
       "      <th>0</th>\n",
       "      <td>1</td>\n",
       "      <td>2</td>\n",
       "      <td>1</td>\n",
       "      <td>1</td>\n",
       "      <td>1</td>\n",
       "      <td>1</td>\n",
       "      <td>1</td>\n",
       "    </tr>\n",
       "    <tr>\n",
       "      <th>1</th>\n",
       "      <td>2</td>\n",
       "      <td>2</td>\n",
       "      <td>2</td>\n",
       "      <td>2</td>\n",
       "      <td>2</td>\n",
       "      <td>2</td>\n",
       "      <td>2</td>\n",
       "    </tr>\n",
       "    <tr>\n",
       "      <th>2</th>\n",
       "      <td>1</td>\n",
       "      <td>2</td>\n",
       "      <td>2</td>\n",
       "      <td>2</td>\n",
       "      <td>1</td>\n",
       "      <td>1</td>\n",
       "      <td>1</td>\n",
       "    </tr>\n",
       "    <tr>\n",
       "      <th>3</th>\n",
       "      <td>2</td>\n",
       "      <td>1</td>\n",
       "      <td>2</td>\n",
       "      <td>2</td>\n",
       "      <td>1</td>\n",
       "      <td>2</td>\n",
       "      <td>2</td>\n",
       "    </tr>\n",
       "    <tr>\n",
       "      <th>4</th>\n",
       "      <td>2</td>\n",
       "      <td>2</td>\n",
       "      <td>2</td>\n",
       "      <td>2</td>\n",
       "      <td>2</td>\n",
       "      <td>2</td>\n",
       "      <td>2</td>\n",
       "    </tr>\n",
       "  </tbody>\n",
       "</table>\n",
       "</div>"
      ],
      "text/plain": [
       "   Logistic Regression  KNN  Random Forest  Bagging  Gradient Boosting  \\\n",
       "0                    1    2              1        1                  1   \n",
       "1                    2    2              2        2                  2   \n",
       "2                    1    2              2        2                  1   \n",
       "3                    2    1              2        2                  1   \n",
       "4                    2    2              2        2                  2   \n",
       "\n",
       "   XGBoost  Neural Network  \n",
       "0        1               1  \n",
       "1        2               2  \n",
       "2        1               1  \n",
       "3        2               2  \n",
       "4        2               2  "
      ]
     },
     "execution_count": 163,
     "metadata": {},
     "output_type": "execute_result"
    }
   ],
   "source": [
    "first_predictions.head()"
   ]
  },
  {
   "cell_type": "code",
   "execution_count": 113,
   "metadata": {},
   "outputs": [],
   "source": [
    "X_train_fin = first_predictions.to_numpy()"
   ]
  },
  {
   "cell_type": "code",
   "execution_count": 187,
   "metadata": {},
   "outputs": [
    {
     "data": {
      "text/html": [
       "<style>#sk-container-id-1 {color: black;background-color: white;}#sk-container-id-1 pre{padding: 0;}#sk-container-id-1 div.sk-toggleable {background-color: white;}#sk-container-id-1 label.sk-toggleable__label {cursor: pointer;display: block;width: 100%;margin-bottom: 0;padding: 0.3em;box-sizing: border-box;text-align: center;}#sk-container-id-1 label.sk-toggleable__label-arrow:before {content: \"▸\";float: left;margin-right: 0.25em;color: #696969;}#sk-container-id-1 label.sk-toggleable__label-arrow:hover:before {color: black;}#sk-container-id-1 div.sk-estimator:hover label.sk-toggleable__label-arrow:before {color: black;}#sk-container-id-1 div.sk-toggleable__content {max-height: 0;max-width: 0;overflow: hidden;text-align: left;background-color: #f0f8ff;}#sk-container-id-1 div.sk-toggleable__content pre {margin: 0.2em;color: black;border-radius: 0.25em;background-color: #f0f8ff;}#sk-container-id-1 input.sk-toggleable__control:checked~div.sk-toggleable__content {max-height: 200px;max-width: 100%;overflow: auto;}#sk-container-id-1 input.sk-toggleable__control:checked~label.sk-toggleable__label-arrow:before {content: \"▾\";}#sk-container-id-1 div.sk-estimator input.sk-toggleable__control:checked~label.sk-toggleable__label {background-color: #d4ebff;}#sk-container-id-1 div.sk-label input.sk-toggleable__control:checked~label.sk-toggleable__label {background-color: #d4ebff;}#sk-container-id-1 input.sk-hidden--visually {border: 0;clip: rect(1px 1px 1px 1px);clip: rect(1px, 1px, 1px, 1px);height: 1px;margin: -1px;overflow: hidden;padding: 0;position: absolute;width: 1px;}#sk-container-id-1 div.sk-estimator {font-family: monospace;background-color: #f0f8ff;border: 1px dotted black;border-radius: 0.25em;box-sizing: border-box;margin-bottom: 0.5em;}#sk-container-id-1 div.sk-estimator:hover {background-color: #d4ebff;}#sk-container-id-1 div.sk-parallel-item::after {content: \"\";width: 100%;border-bottom: 1px solid gray;flex-grow: 1;}#sk-container-id-1 div.sk-label:hover label.sk-toggleable__label {background-color: #d4ebff;}#sk-container-id-1 div.sk-serial::before {content: \"\";position: absolute;border-left: 1px solid gray;box-sizing: border-box;top: 0;bottom: 0;left: 50%;z-index: 0;}#sk-container-id-1 div.sk-serial {display: flex;flex-direction: column;align-items: center;background-color: white;padding-right: 0.2em;padding-left: 0.2em;position: relative;}#sk-container-id-1 div.sk-item {position: relative;z-index: 1;}#sk-container-id-1 div.sk-parallel {display: flex;align-items: stretch;justify-content: center;background-color: white;position: relative;}#sk-container-id-1 div.sk-item::before, #sk-container-id-1 div.sk-parallel-item::before {content: \"\";position: absolute;border-left: 1px solid gray;box-sizing: border-box;top: 0;bottom: 0;left: 50%;z-index: -1;}#sk-container-id-1 div.sk-parallel-item {display: flex;flex-direction: column;z-index: 1;position: relative;background-color: white;}#sk-container-id-1 div.sk-parallel-item:first-child::after {align-self: flex-end;width: 50%;}#sk-container-id-1 div.sk-parallel-item:last-child::after {align-self: flex-start;width: 50%;}#sk-container-id-1 div.sk-parallel-item:only-child::after {width: 0;}#sk-container-id-1 div.sk-dashed-wrapped {border: 1px dashed gray;margin: 0 0.4em 0.5em 0.4em;box-sizing: border-box;padding-bottom: 0.4em;background-color: white;}#sk-container-id-1 div.sk-label label {font-family: monospace;font-weight: bold;display: inline-block;line-height: 1.2em;}#sk-container-id-1 div.sk-label-container {text-align: center;}#sk-container-id-1 div.sk-container {/* jupyter's `normalize.less` sets `[hidden] { display: none; }` but bootstrap.min.css set `[hidden] { display: none !important; }` so we also need the `!important` here to be able to override the default hidden behavior on the sphinx rendered scikit-learn.org. See: https://github.com/scikit-learn/scikit-learn/issues/21755 */display: inline-block !important;position: relative;}#sk-container-id-1 div.sk-text-repr-fallback {display: none;}</style><div id=\"sk-container-id-1\" class=\"sk-top-container\"><div class=\"sk-text-repr-fallback\"><pre>XGBClassifier(base_score=0.5, booster=&#x27;gbtree&#x27;, callbacks=None,\n",
       "              colsample_bylevel=1, colsample_bynode=1, colsample_bytree=0.6,\n",
       "              early_stopping_rounds=None, enable_categorical=False,\n",
       "              eval_metric=None, feature_types=None, gamma=0, gpu_id=0,\n",
       "              grow_policy=&#x27;depthwise&#x27;, importance_type=None,\n",
       "              interaction_constraints=&#x27;&#x27;, learning_rate=0.05, max_bin=256,\n",
       "              max_cat_threshold=64, max_cat_to_onehot=4, max_delta_step=0,\n",
       "              max_depth=10, max_leaves=0, min_child_weight=1, missing=nan,\n",
       "              monotone_constraints=&#x27;()&#x27;, n_estimators=1500, n_jobs=-1,\n",
       "              num_class=4, num_parallel_tree=1, objective=&#x27;multi:softmax&#x27;, ...)</pre><b>In a Jupyter environment, please rerun this cell to show the HTML representation or trust the notebook. <br />On GitHub, the HTML representation is unable to render, please try loading this page with nbviewer.org.</b></div><div class=\"sk-container\" hidden><div class=\"sk-item\"><div class=\"sk-estimator sk-toggleable\"><input class=\"sk-toggleable__control sk-hidden--visually\" id=\"sk-estimator-id-1\" type=\"checkbox\" checked><label for=\"sk-estimator-id-1\" class=\"sk-toggleable__label sk-toggleable__label-arrow\">XGBClassifier</label><div class=\"sk-toggleable__content\"><pre>XGBClassifier(base_score=0.5, booster=&#x27;gbtree&#x27;, callbacks=None,\n",
       "              colsample_bylevel=1, colsample_bynode=1, colsample_bytree=0.6,\n",
       "              early_stopping_rounds=None, enable_categorical=False,\n",
       "              eval_metric=None, feature_types=None, gamma=0, gpu_id=0,\n",
       "              grow_policy=&#x27;depthwise&#x27;, importance_type=None,\n",
       "              interaction_constraints=&#x27;&#x27;, learning_rate=0.05, max_bin=256,\n",
       "              max_cat_threshold=64, max_cat_to_onehot=4, max_delta_step=0,\n",
       "              max_depth=10, max_leaves=0, min_child_weight=1, missing=nan,\n",
       "              monotone_constraints=&#x27;()&#x27;, n_estimators=1500, n_jobs=-1,\n",
       "              num_class=4, num_parallel_tree=1, objective=&#x27;multi:softmax&#x27;, ...)</pre></div></div></div></div></div>"
      ],
      "text/plain": [
       "XGBClassifier(base_score=0.5, booster='gbtree', callbacks=None,\n",
       "              colsample_bylevel=1, colsample_bynode=1, colsample_bytree=0.6,\n",
       "              early_stopping_rounds=None, enable_categorical=False,\n",
       "              eval_metric=None, feature_types=None, gamma=0, gpu_id=0,\n",
       "              grow_policy='depthwise', importance_type=None,\n",
       "              interaction_constraints='', learning_rate=0.05, max_bin=256,\n",
       "              max_cat_threshold=64, max_cat_to_onehot=4, max_delta_step=0,\n",
       "              max_depth=10, max_leaves=0, min_child_weight=1, missing=nan,\n",
       "              monotone_constraints='()', n_estimators=1500, n_jobs=-1,\n",
       "              num_class=4, num_parallel_tree=1, objective='multi:softmax', ...)"
      ]
     },
     "execution_count": 187,
     "metadata": {},
     "output_type": "execute_result"
    }
   ],
   "source": [
    "clf_fin = XGBClassifier(n_estimators=1500, max_depth=10, objective='multi:softmax', num_class=4, learning_rate=0.05, colsample_bytree=0.6, subsample=0.9, n_jobs=-1, tree_method='gpu_hist')\n",
    "clf_fin.fit(X_train_fin, y_test)"
   ]
  },
  {
   "cell_type": "code",
   "execution_count": 189,
   "metadata": {},
   "outputs": [
    {
     "data": {
      "text/plain": [
       "<AxesSubplot: title={'center': 'Feature importance'}, xlabel='F score', ylabel='Features'>"
      ]
     },
     "execution_count": 189,
     "metadata": {},
     "output_type": "execute_result"
    },
    {
     "data": {
      "image/png": "[encoded data removed]",
      "text/plain": [
       "<Figure size 640x480 with 1 Axes>"
      ]
     },
     "metadata": {},
     "output_type": "display_data"
    }
   ],
   "source": [
    "from xgboost import plot_importance\n",
    "\n",
    "plot_importance(clf_fin, max_num_features=10)"
   ]
  },
  {
   "cell_type": "markdown",
   "metadata": {},
   "source": [
    "# Submission"
   ]
  },
  {
   "cell_type": "code",
   "execution_count": 190,
   "metadata": {},
   "outputs": [
    {
     "name": "stderr",
     "output_type": "stream",
     "text": [
      "C:\\Users\\shahr\\AppData\\Local\\Packages\\PythonSoftwareFoundation.Python.3.10_qbz5n2kfra8p0\\LocalCache\\local-packages\\Python310\\site-packages\\sklearn\\base.py:443: UserWarning: X has feature names, but LogisticRegression was fitted without feature names\n",
      "  warnings.warn(\n",
      "C:\\Users\\shahr\\AppData\\Local\\Packages\\PythonSoftwareFoundation.Python.3.10_qbz5n2kfra8p0\\LocalCache\\local-packages\\Python310\\site-packages\\sklearn\\base.py:443: UserWarning: X has feature names, but KNeighborsClassifier was fitted without feature names\n",
      "  warnings.warn(\n",
      "C:\\Users\\shahr\\AppData\\Local\\Packages\\PythonSoftwareFoundation.Python.3.10_qbz5n2kfra8p0\\LocalCache\\local-packages\\Python310\\site-packages\\sklearn\\base.py:443: UserWarning: X has feature names, but RandomForestClassifier was fitted without feature names\n",
      "  warnings.warn(\n",
      "C:\\Users\\shahr\\AppData\\Local\\Packages\\PythonSoftwareFoundation.Python.3.10_qbz5n2kfra8p0\\LocalCache\\local-packages\\Python310\\site-packages\\sklearn\\base.py:443: UserWarning: X has feature names, but BaggingClassifier was fitted without feature names\n",
      "  warnings.warn(\n",
      "C:\\Users\\shahr\\AppData\\Local\\Packages\\PythonSoftwareFoundation.Python.3.10_qbz5n2kfra8p0\\LocalCache\\local-packages\\Python310\\site-packages\\sklearn\\base.py:443: UserWarning: X has feature names, but GradientBoostingClassifier was fitted without feature names\n",
      "  warnings.warn(\n",
      "C:\\Users\\shahr\\AppData\\Local\\Packages\\PythonSoftwareFoundation.Python.3.10_qbz5n2kfra8p0\\LocalCache\\local-packages\\Python310\\site-packages\\sklearn\\base.py:443: UserWarning: X has feature names, but MLPClassifier was fitted without feature names\n",
      "  warnings.warn(\n"
     ]
    }
   ],
   "source": [
    "pred_lg_valid = clf_lg.predict(X_valid)\n",
    "pred_knn_valid = clf_knn.predict(X_valid)\n",
    "pred_rd_valid = clf_rd.predict(X_valid)\n",
    "pred_bagg_valid = clf_bagg.predict(X_valid)\n",
    "pred_gb_valid = clf_gb.predict(X_valid)\n",
    "pred_xgb_valid = clf_xgb.predict(X_valid)\n",
    "pred_nn_valid = clf_nn.predict(X_valid)"
   ]
  },
  {
   "cell_type": "code",
   "execution_count": 191,
   "metadata": {},
   "outputs": [],
   "source": [
    "# concatenate all pred\n",
    "first_valid_predictions = pd.concat([pd.DataFrame(pred_lg_valid), pd.DataFrame(pred_knn_valid), pd.DataFrame(pred_rd_valid), pd.DataFrame(pred_bagg_valid), pd.DataFrame(pred_gb_valid), pd.DataFrame(pred_xgb_valid), pd.DataFrame(pred_nn_valid)], axis=1)\n",
    "first_valid_predictions.columns = ['Logistic Regression', 'KNN', 'Random Forest', 'Bagging', 'Gradient Boosting', 'XGBoost', 'Neural Network']"
   ]
  },
  {
   "cell_type": "code",
   "execution_count": 192,
   "metadata": {},
   "outputs": [],
   "source": [
    "y_final_pred = clf_fin.predict(first_valid_predictions)"
   ]
  },
  {
   "cell_type": "code",
   "execution_count": 201,
   "metadata": {},
   "outputs": [],
   "source": [
    "y_final_pred = clf_xgb.predict(X_valid)"
   ]
  },
  {
   "cell_type": "code",
   "execution_count": 202,
   "metadata": {},
   "outputs": [],
   "source": [
    "initial_data = pd.read_csv('./data/test.csv')\n",
    "submission = pd.DataFrame([initial_data['Id'], y_final_pred]).T"
   ]
  },
  {
   "cell_type": "code",
   "execution_count": 203,
   "metadata": {},
   "outputs": [],
   "source": [
    "submission.columns = ['Id', 'Predicted']\n",
    "submission['Predicted'] = submission['Predicted'].map({0: 'Worst Concert Ever', 1: 'Did Not Enjoy', 2: 'Enjoyed', 3: 'Best Concert Ever'})"
   ]
  },
  {
   "cell_type": "code",
   "execution_count": 204,
   "metadata": {},
   "outputs": [
    {
     "data": {
      "text/html": [
       "<div>\n",
       "<style scoped>\n",
       "    .dataframe tbody tr th:only-of-type {\n",
       "        vertical-align: middle;\n",
       "    }\n",
       "\n",
       "    .dataframe tbody tr th {\n",
       "        vertical-align: top;\n",
       "    }\n",
       "\n",
       "    .dataframe thead th {\n",
       "        text-align: right;\n",
       "    }\n",
       "</style>\n",
       "<table border=\"1\" class=\"dataframe\">\n",
       "  <thead>\n",
       "    <tr style=\"text-align: right;\">\n",
       "      <th></th>\n",
       "      <th>Id</th>\n",
       "      <th>Predicted</th>\n",
       "    </tr>\n",
       "  </thead>\n",
       "  <tbody>\n",
       "    <tr>\n",
       "      <th>0</th>\n",
       "      <td>ConcertExperience_70055</td>\n",
       "      <td>Best Concert Ever</td>\n",
       "    </tr>\n",
       "    <tr>\n",
       "      <th>1</th>\n",
       "      <td>ConcertExperience_34799</td>\n",
       "      <td>Enjoyed</td>\n",
       "    </tr>\n",
       "    <tr>\n",
       "      <th>2</th>\n",
       "      <td>ConcertExperience_100410</td>\n",
       "      <td>Enjoyed</td>\n",
       "    </tr>\n",
       "    <tr>\n",
       "      <th>3</th>\n",
       "      <td>ConcertExperience_106446</td>\n",
       "      <td>Did Not Enjoy</td>\n",
       "    </tr>\n",
       "    <tr>\n",
       "      <th>4</th>\n",
       "      <td>ConcertExperience_127249</td>\n",
       "      <td>Did Not Enjoy</td>\n",
       "    </tr>\n",
       "    <tr>\n",
       "      <th>...</th>\n",
       "      <td>...</td>\n",
       "      <td>...</td>\n",
       "    </tr>\n",
       "    <tr>\n",
       "      <th>29995</th>\n",
       "      <td>ConcertExperience_82288</td>\n",
       "      <td>Did Not Enjoy</td>\n",
       "    </tr>\n",
       "    <tr>\n",
       "      <th>29996</th>\n",
       "      <td>ConcertExperience_27139</td>\n",
       "      <td>Did Not Enjoy</td>\n",
       "    </tr>\n",
       "    <tr>\n",
       "      <th>29997</th>\n",
       "      <td>ConcertExperience_197434</td>\n",
       "      <td>Enjoyed</td>\n",
       "    </tr>\n",
       "    <tr>\n",
       "      <th>29998</th>\n",
       "      <td>ConcertExperience_166029</td>\n",
       "      <td>Worst Concert Ever</td>\n",
       "    </tr>\n",
       "    <tr>\n",
       "      <th>29999</th>\n",
       "      <td>ConcertExperience_24025</td>\n",
       "      <td>Did Not Enjoy</td>\n",
       "    </tr>\n",
       "  </tbody>\n",
       "</table>\n",
       "<p>30000 rows × 2 columns</p>\n",
       "</div>"
      ],
      "text/plain": [
       "                             Id           Predicted\n",
       "0       ConcertExperience_70055   Best Concert Ever\n",
       "1       ConcertExperience_34799             Enjoyed\n",
       "2      ConcertExperience_100410             Enjoyed\n",
       "3      ConcertExperience_106446       Did Not Enjoy\n",
       "4      ConcertExperience_127249       Did Not Enjoy\n",
       "...                         ...                 ...\n",
       "29995   ConcertExperience_82288       Did Not Enjoy\n",
       "29996   ConcertExperience_27139       Did Not Enjoy\n",
       "29997  ConcertExperience_197434             Enjoyed\n",
       "29998  ConcertExperience_166029  Worst Concert Ever\n",
       "29999   ConcertExperience_24025       Did Not Enjoy\n",
       "\n",
       "[30000 rows x 2 columns]"
      ]
     },
     "execution_count": 204,
     "metadata": {},
     "output_type": "execute_result"
    }
   ],
   "source": [
    "submission"
   ]
  },
  {
   "cell_type": "code",
   "execution_count": 205,
   "metadata": {},
   "outputs": [],
   "source": [
    "submission.to_csv('./submissions/submission_fin2.csv', index=False)"
   ]
  },
  {
   "cell_type": "code",
   "execution_count": 200,
   "metadata": {},
   "outputs": [
    {
     "data": {
      "text/plain": [
       "Enjoyed               0.453400\n",
       "Did Not Enjoy         0.432333\n",
       "Worst Concert Ever    0.063200\n",
       "Best Concert Ever     0.051067\n",
       "Name: Predicted, dtype: float64"
      ]
     },
     "execution_count": 200,
     "metadata": {},
     "output_type": "execute_result"
    }
   ],
   "source": [
    "# Analyse result\n",
    "submission['Predicted'].value_counts() / submission.shape[0]"
   ]
  },
  {
   "cell_type": "code",
   "execution_count": 136,
   "metadata": {},
   "outputs": [
    {
     "data": {
      "text/plain": [
       "Enjoyed               0.400153\n",
       "Did Not Enjoy         0.399676\n",
       "Best Concert Ever     0.100159\n",
       "Worst Concert Ever    0.100012\n",
       "Name: Concert Enjoyment, dtype: float64"
      ]
     },
     "execution_count": 136,
     "metadata": {},
     "output_type": "execute_result"
    }
   ],
   "source": [
    "analysis = pd.read_csv('./data/train.csv')\n",
    "analysis['Concert Enjoyment'].value_counts() / analysis.shape[0]"
   ]
  },
  {
   "cell_type": "code",
   "execution_count": 652,
   "metadata": {},
   "outputs": [],
   "source": []
  }
 ],
 "metadata": {
  "kernelspec": {
   "display_name": "Python 3.10.8 64-bit (microsoft store)",
   "language": "python",
   "name": "python3"
  },
  "language_info": {
   "codemirror_mode": {
    "name": "ipython",
    "version": 3
   },
   "file_extension": ".py",
   "mimetype": "text/x-python",
   "name": "python",
   "nbconvert_exporter": "python",
   "pygments_lexer": "ipython3",
   "version": "3.10.8"
  },
  "orig_nbformat": 4,
  "vscode": {
   "interpreter": {
    "hash": "6ff0e76087f3e47eab7abe8b3f655cdf756aea80f803ee5dbb618bc163f6cbc8"
   }
  }
 },
 "nbformat": 4,
 "nbformat_minor": 2
}
